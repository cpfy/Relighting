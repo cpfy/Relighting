{
  "nbformat": 4,
  "nbformat_minor": 0,
  "metadata": {
    "colab": {
      "name": "git clone check.ipynb",
      "provenance": []
    },
    "kernelspec": {
      "name": "python3",
      "display_name": "Python 3"
    },
    "language_info": {
      "name": "python"
    }
  },
  "cells": [
    {
      "cell_type": "markdown",
      "source": [
        "##检查git clone安装是否正常"
      ],
      "metadata": {
        "id": "IaXYPuDYTb-5"
      }
    },
    {
      "cell_type": "code",
      "execution_count": null,
      "metadata": {
        "id": "4N6sWIL6TZgd"
      },
      "outputs": [],
      "source": [
        "#%pip install git+https://github.com/cpfy/lightning@v1.4.8_origin\n",
        "%pip install git+https://github.com/cpfy/lightning\n",
        "%pip install test_tube"
      ]
    },
    {
      "cell_type": "code",
      "source": [
        "import test_tube"
      ],
      "metadata": {
        "id": "8eV6MO_TVd0F"
      },
      "execution_count": null,
      "outputs": []
    },
    {
      "cell_type": "code",
      "execution_count": null,
      "metadata": {
        "colab": {
          "base_uri": "https://localhost:8080/"
        },
        "id": "v2lwnvmzzP33",
        "outputId": "4c979ab8-d0ed-4a2a-9039-c2e818abfd6d"
      },
      "outputs": [
        {
          "output_type": "stream",
          "name": "stdout",
          "text": [
            "\u001b[33mWARNING: Package(s) not found: pytorch_lightning\u001b[0m\n"
          ]
        }
      ],
      "source": [
        "!pip show pytorch_lightning"
      ]
    },
    {
      "cell_type": "code",
      "source": [
        "import pytorch_lightning"
      ],
      "metadata": {
        "id": "rYKrDumrfHVt"
      },
      "execution_count": null,
      "outputs": []
    },
    {
      "cell_type": "code",
      "execution_count": null,
      "metadata": {
        "id": "_TLZ-s44m4SR",
        "colab": {
          "base_uri": "https://localhost:8080/"
        },
        "outputId": "0c774728-a735-4430-9ffe-d3ef89180aeb"
      },
      "outputs": [
        {
          "output_type": "stream",
          "name": "stderr",
          "text": [
            "/usr/local/lib/python3.7/dist-packages/pytorch_lightning/utilities/warnings.py:54: LightningDeprecationWarning: pytorch_lightning.utilities.warnings.rank_zero_deprecation has been deprecated in v1.6 and will be removed in v1.8. Use the equivalent function from the pytorch_lightning.utilities.rank_zero module instead.\n",
            "  \"pytorch_lightning.utilities.warnings.rank_zero_deprecation has been deprecated in v1.6\"\n",
            "/usr/local/lib/python3.7/dist-packages/pytorch_lightning/utilities/warnings.py:58: LightningDeprecationWarning: The `pytorch_lightning.loggers.base.rank_zero_experiment` is deprecated in v1.7 and will be removed in v1.9. Please use `pytorch_lightning.loggers.logger.rank_zero_experiment` instead.\n",
            "  return new_rank_zero_deprecation(*args, **kwargs)\n"
          ]
        }
      ],
      "source": [
        "import pytorch_lightning.loggers"
      ]
    },
    {
      "cell_type": "code",
      "execution_count": null,
      "metadata": {
        "id": "h5xGJELom78f"
      },
      "outputs": [],
      "source": [
        "from pytorch_lightning.loggers import TestTubeLogger"
      ]
    },
    {
      "cell_type": "markdown",
      "source": [
        "##sh安装kaolin测试"
      ],
      "metadata": {
        "id": "vTmy_uv5NjMK"
      }
    },
    {
      "cell_type": "code",
      "source": [
        "!sh install_kaolin.sh"
      ],
      "metadata": {
        "id": "lsfi0yVPNnO6"
      },
      "execution_count": null,
      "outputs": []
    },
    {
      "cell_type": "markdown",
      "source": [
        "os包测试"
      ],
      "metadata": {
        "id": "M9-bFqrNnsZR"
      }
    },
    {
      "cell_type": "code",
      "source": [
        "import os\n",
        "print(os.path)\n",
        "print(os.path.join(\"\", \"split\"))\n",
        "print(type(os.walk(\"split\")))"
      ],
      "metadata": {
        "colab": {
          "base_uri": "https://localhost:8080/"
        },
        "id": "fOWLScYnnU-E",
        "outputId": "372bf75e-2596-4fb3-b081-239fc9844fa8"
      },
      "execution_count": 8,
      "outputs": [
        {
          "output_type": "stream",
          "name": "stdout",
          "text": [
            "<module 'posixpath' from '/usr/lib/python3.7/posixpath.py'>\n",
            "split\n",
            "<class 'generator'>\n"
          ]
        }
      ]
    }
  ]
}