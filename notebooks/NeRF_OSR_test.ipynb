{
  "nbformat": 4,
  "nbformat_minor": 0,
  "metadata": {
    "colab": {
      "name": "NeRF-OSR-test.ipynb",
      "provenance": [],
      "toc_visible": true
    },
    "kernelspec": {
      "name": "python3",
      "display_name": "Python 3"
    },
    "language_info": {
      "name": "python"
    },
    "accelerator": "GPU",
    "gpuClass": "standard"
  },
  "cells": [
    {
      "cell_type": "markdown",
      "metadata": {
        "id": "L5alSqKnHJpw"
      },
      "source": [
        "#必做项"
      ]
    },
    {
      "cell_type": "markdown",
      "metadata": {
        "id": "sbziHIDz3j9v"
      },
      "source": [
        "搭载Google Drive"
      ]
    },
    {
      "cell_type": "code",
      "execution_count": 2,
      "metadata": {
        "colab": {
          "base_uri": "https://localhost:8080/"
        },
        "id": "q0lpzDY83qLq",
        "outputId": "56b6e2e3-688b-4fa3-a339-90bb0b3200df"
      },
      "outputs": [
        {
          "output_type": "stream",
          "name": "stdout",
          "text": [
            "Mounted at /content/drive\n"
          ]
        },
        {
          "output_type": "execute_result",
          "data": {
            "text/plain": [
              "['data_loader_split.py',\n",
              " '.gitignore',\n",
              " 'ddp_train_coeffs.py',\n",
              " 'utils.py',\n",
              " 'nerf_network.py',\n",
              " 'extract_env.py',\n",
              " 'README.md',\n",
              " 'ddp_train_nerf.py',\n",
              " 'env_json_to_txt.py',\n",
              " 'ddp_test_nerf.py',\n",
              " 'sph_util.py',\n",
              " 'extract_env_json.py',\n",
              " 'ddp_model.py',\n",
              " 'environment.yml',\n",
              " 'ddp_mesh_nerf.py',\n",
              " 'demo_projSH_rotSH.py',\n",
              " 'nerf_sample_ray_split.py',\n",
              " 'scripts',\n",
              " 'camera_visualizer',\n",
              " 'envs',\n",
              " 'colmap_runner',\n",
              " 'demo',\n",
              " 'configs',\n",
              " 'camera_inspector',\n",
              " 'logs',\n",
              " 'data']"
            ]
          },
          "metadata": {},
          "execution_count": 2
        }
      ],
      "source": [
        "from google.colab import drive\n",
        "drive.mount(\"/content/drive\")\n",
        "\n",
        "import os\n",
        "path=\"/content/drive/MyDrive/NeRF-OSR\"\n",
        "os.chdir(path)\n",
        "os.listdir(path)"
      ]
    },
    {
      "cell_type": "markdown",
      "metadata": {
        "id": "S1XEwzbSiee_"
      },
      "source": [
        "# 基础操作"
      ]
    },
    {
      "cell_type": "markdown",
      "metadata": {
        "id": "DeeCv2NK3URX"
      },
      "source": [
        "##查看GPU信息"
      ]
    },
    {
      "cell_type": "code",
      "source": [
        "gpu_info = !nvidia-smi\n",
        "gpu_info = '\\n'.join(gpu_info)\n",
        "if gpu_info.find('failed') >= 0:\n",
        "  print('Not connected to a GPU')\n",
        "else:\n",
        "  print(gpu_info)"
      ],
      "metadata": {
        "id": "CBXp2RPa5eVL",
        "colab": {
          "base_uri": "https://localhost:8080/"
        },
        "outputId": "b1b11a44-120c-4787-9cd4-1a68e79a4ef0"
      },
      "execution_count": null,
      "outputs": [
        {
          "output_type": "stream",
          "name": "stdout",
          "text": [
            "shell-init: error retrieving current directory: getcwd: cannot access parent directories: No such file or directory\n",
            "Sat Aug  6 04:25:05 2022       \n",
            "+-----------------------------------------------------------------------------+\n",
            "| NVIDIA-SMI 460.32.03    Driver Version: 460.32.03    CUDA Version: 11.2     |\n",
            "|-------------------------------+----------------------+----------------------+\n",
            "| GPU  Name        Persistence-M| Bus-Id        Disp.A | Volatile Uncorr. ECC |\n",
            "| Fan  Temp  Perf  Pwr:Usage/Cap|         Memory-Usage | GPU-Util  Compute M. |\n",
            "|                               |                      |               MIG M. |\n",
            "|===============================+======================+======================|\n",
            "|   0  Tesla P100-PCIE...  Off  | 00000000:00:04.0 Off |                    0 |\n",
            "| N/A   51C    P0    34W / 250W |      0MiB / 16280MiB |      0%      Default |\n",
            "|                               |                      |                  N/A |\n",
            "+-------------------------------+----------------------+----------------------+\n",
            "                                                                               \n",
            "+-----------------------------------------------------------------------------+\n",
            "| Processes:                                                                  |\n",
            "|  GPU   GI   CI        PID   Type   Process name                  GPU Memory |\n",
            "|        ID   ID                                                   Usage      |\n",
            "|=============================================================================|\n",
            "|  No running processes found                                                 |\n",
            "+-----------------------------------------------------------------------------+\n"
          ]
        }
      ]
    },
    {
      "cell_type": "markdown",
      "metadata": {
        "id": "YzO07S7y5bv9"
      },
      "source": [
        "##Restart Runtime"
      ]
    },
    {
      "cell_type": "code",
      "execution_count": null,
      "metadata": {
        "id": "q6tGsadG5eRY"
      },
      "outputs": [],
      "source": [
        "import os\n",
        "os.kill(os.getpid(), 9)"
      ]
    },
    {
      "cell_type": "markdown",
      "source": [
        "# 依赖包安装"
      ],
      "metadata": {
        "id": "iXY_TM6baMhu"
      }
    },
    {
      "cell_type": "code",
      "source": [
        "%pip install tensorboardX==2.1\n",
        "%pip install configargparse==1.2.3"
      ],
      "metadata": {
        "colab": {
          "base_uri": "https://localhost:8080/"
        },
        "id": "lUEUgum7dj-1",
        "outputId": "59652eb5-445e-4c18-8533-5120b2f35df4"
      },
      "execution_count": 7,
      "outputs": [
        {
          "output_type": "stream",
          "name": "stdout",
          "text": [
            "Looking in indexes: https://pypi.org/simple, https://us-python.pkg.dev/colab-wheels/public/simple/\n",
            "Requirement already satisfied: tensorboardX==2.1 in /usr/local/lib/python3.7/dist-packages (2.1)\n",
            "Requirement already satisfied: six in /usr/local/lib/python3.7/dist-packages (from tensorboardX==2.1) (1.15.0)\n",
            "Requirement already satisfied: numpy in /usr/local/lib/python3.7/dist-packages (from tensorboardX==2.1) (1.21.6)\n",
            "Requirement already satisfied: protobuf>=3.8.0 in /usr/local/lib/python3.7/dist-packages (from tensorboardX==2.1) (3.17.3)\n",
            "Looking in indexes: https://pypi.org/simple, https://us-python.pkg.dev/colab-wheels/public/simple/\n",
            "Collecting configargparse==1.2.3\n",
            "  Downloading ConfigArgParse-1.2.3.tar.gz (42 kB)\n",
            "\u001b[K     |████████████████████████████████| 42 kB 1.3 MB/s \n",
            "\u001b[?25hBuilding wheels for collected packages: configargparse\n",
            "  Building wheel for configargparse (setup.py) ... \u001b[?25l\u001b[?25hdone\n",
            "  Created wheel for configargparse: filename=ConfigArgParse-1.2.3-py3-none-any.whl size=19344 sha256=e1e30f7e1f2763b479f0949f56702bcbdc106d46e0280fca95dd7a093ec863e9\n",
            "  Stored in directory: /root/.cache/pip/wheels/8c/56/a5/1c051b2cca57d199fc048e2516424f24263cefd3ec2059990e\n",
            "Successfully built configargparse\n",
            "Installing collected packages: configargparse\n",
            "Successfully installed configargparse-1.2.3\n"
          ]
        }
      ]
    },
    {
      "cell_type": "markdown",
      "source": [
        "#训练"
      ],
      "metadata": {
        "id": "yKSfWqARbYpp"
      }
    },
    {
      "cell_type": "markdown",
      "source": [
        "也没有说明，就让自己看scripts文件夹下的.sh"
      ],
      "metadata": {
        "id": "WzVmBpK4clgB"
      }
    },
    {
      "cell_type": "code",
      "source": [
        "!sh scripts/train_trevi_final.sh"
      ],
      "metadata": {
        "colab": {
          "base_uri": "https://localhost:8080/"
        },
        "id": "8Rf_6Bc0baB_",
        "outputId": "802e5425-a7b9-408e-b351-eb4c7a49eaec"
      },
      "execution_count": 8,
      "outputs": [
        {
          "output_type": "stream",
          "name": "stdout",
          "text": [
            "2022-08-06 14:05:03,360 [INFO] root: Command Line Args:   --config configs/trevi/final.txt\n",
            "Config File (configs/trevi/final.txt):\n",
            "  datadir:           data/trevi\n",
            "  scene:             final_clean\n",
            "  expname:           trevi_final_masked_flipxzinitenv\n",
            "  basedir:           logs\n",
            "  ckpt_path:         None\n",
            "  no_reload:         False\n",
            "  testskip:          1\n",
            "  N_iters:           5000001\n",
            "  N_rand:            1024\n",
            "  lrate:             0.0005\n",
            "  lrate_decay_factor:0.1\n",
            "  lrate_decay_steps: 50000000\n",
            "  cascade_level:     2\n",
            "  cascade_samples:   64,128\n",
            "  chunk_size:        8192\n",
            "  det:               False\n",
            "  max_freq_log2:     12\n",
            "  max_freq_log2_viewdirs:4\n",
            "  N_anneal:          30000\n",
            "  N_anneal_min_freq: 8\n",
            "  N_anneal_min_freq_viewdirs:4\n",
            "  netdepth:          8\n",
            "  netwidth:          256\n",
            "  use_viewdirs:      False\n",
            "  activation:        relu\n",
            "  i_img:             2500\n",
            "  i_print:           100\n",
            "  i_weights:         5000\n",
            "Defaults:\n",
            "  --slurmjob:        \n",
            "  --use_shadows:     True\n",
            "  --use_shadow_reg:  True\n",
            "  --shadow_reg:      0.01\n",
            "  --use_shadow_jitter:True\n",
            "  --use_annealing:   True\n",
            "  --use_ray_jitter:  True\n",
            "  --render_splits:   test\n",
            "  --world_size:      -1\n",
            "  --lambda_autoexpo: 1.0\n",
            "\n",
            "2022-08-06 14:05:03,360 [INFO] root: Using # gpus: 1\n",
            "2022-08-06 14:05:04,857 [INFO] root: gpu_mem: 17071734784\n",
            "2022-08-06 14:05:04,858 [INFO] root: setting batch size according to 12G gpu\n",
            "2022-08-06 14:05:15,168 [INFO] root: raw intrinsics_files: 1407\n",
            "2022-08-06 14:05:15,168 [INFO] root: raw pose_files: 1407\n",
            "2022-08-06 14:05:21,329 [INFO] root: raw img_files: 1407\n",
            "2022-08-06 14:05:21,374 [INFO] root: raw mask_files: 1407\n",
            "Traceback (most recent call last):\n",
            "  File \"ddp_train_nerf.py\", line 750, in <module>\n",
            "  File \"ddp_train_nerf.py\", line 745, in train\n",
            "  File \"/usr/local/lib/python3.7/dist-packages/torch/multiprocessing/spawn.py\", line 240, in spawn\n",
            "    return start_processes(fn, args, nprocs, join, daemon, start_method='spawn')\n",
            "  File \"/usr/local/lib/python3.7/dist-packages/torch/multiprocessing/spawn.py\", line 198, in start_processes\n",
            "    while not context.join():\n",
            "  File \"/usr/local/lib/python3.7/dist-packages/torch/multiprocessing/spawn.py\", line 146, in join\n",
            "    signal_name=name\n",
            "torch.multiprocessing.spawn.ProcessExitedException: process 0 terminated with signal SIGKILL\n",
            "Finished\n"
          ]
        }
      ]
    }
  ]
}