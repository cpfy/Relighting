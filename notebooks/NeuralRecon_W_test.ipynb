{
  "nbformat": 4,
  "nbformat_minor": 0,
  "metadata": {
    "colab": {
      "name": "NeuralRecon-W-test.ipynb",
      "provenance": [],
      "machine_shape": "hm",
      "toc_visible": true
    },
    "kernelspec": {
      "name": "python3",
      "display_name": "Python 3"
    },
    "language_info": {
      "name": "python"
    },
    "accelerator": "GPU",
    "gpuClass": "standard"
  },
  "cells": [
    {
      "cell_type": "markdown",
      "source": [
        "#必做项"
      ],
      "metadata": {
        "id": "L5alSqKnHJpw"
      }
    },
    {
      "cell_type": "markdown",
      "source": [
        "搭载Google Drive"
      ],
      "metadata": {
        "id": "sbziHIDz3j9v"
      }
    },
    {
      "cell_type": "code",
      "source": [
        "from google.colab import drive\n",
        "drive.mount(\"/content/drive\")\n",
        "\n",
        "import os\n",
        "path=\"/content/drive/MyDrive/NeuralRecon-W-test\"\n",
        "os.chdir(path)\n",
        "os.listdir(path)"
      ],
      "metadata": {
        "colab": {
          "base_uri": "https://localhost:8080/"
        },
        "id": "q0lpzDY83qLq",
        "outputId": "374bd160-5e74-4720-f39d-e5a28aeb5ccb"
      },
      "execution_count": 14,
      "outputs": [
        {
          "output_type": "stream",
          "name": "stdout",
          "text": [
            "Drive already mounted at /content/drive; to attempt to forcibly remount, call drive.mount(\"/content/drive\", force_remount=True).\n"
          ]
        },
        {
          "output_type": "execute_result",
          "data": {
            "text/plain": [
              "['metrics.py',\n",
              " 'README.md',\n",
              " 'LICENSE',\n",
              " 'losses.py',\n",
              " 'environment.yaml',\n",
              " 'tools',\n",
              " 'scripts',\n",
              " 'utils',\n",
              " 'models',\n",
              " 'evaluations',\n",
              " 'assets',\n",
              " 'rendering',\n",
              " 'opt.py',\n",
              " 'train.py',\n",
              " 'lightning_modules',\n",
              " 'datasets',\n",
              " '.gitignore',\n",
              " 'data',\n",
              " 'weights',\n",
              " 'log',\n",
              " 'config',\n",
              " 'logs',\n",
              " '__pycache__',\n",
              " 'results',\n",
              " 'requirements.txt',\n",
              " '\\\\',\n",
              " 'kaolin']"
            ]
          },
          "metadata": {},
          "execution_count": 14
        }
      ]
    },
    {
      "cell_type": "markdown",
      "source": [
        "# 基础操作"
      ],
      "metadata": {
        "id": "S1XEwzbSiee_"
      }
    },
    {
      "cell_type": "markdown",
      "source": [
        "##查看GPU信息"
      ],
      "metadata": {
        "id": "DeeCv2NK3URX"
      }
    },
    {
      "cell_type": "code",
      "execution_count": null,
      "metadata": {
        "colab": {
          "base_uri": "https://localhost:8080/"
        },
        "id": "yReaXYyR3HZW",
        "outputId": "5e3e7193-680c-4331-8cf4-0a7bbfb15a40"
      },
      "outputs": [
        {
          "output_type": "stream",
          "name": "stdout",
          "text": [
            "Thu Jul 28 08:57:09 2022       \n",
            "+-----------------------------------------------------------------------------+\n",
            "| NVIDIA-SMI 460.32.03    Driver Version: 460.32.03    CUDA Version: 11.2     |\n",
            "|-------------------------------+----------------------+----------------------+\n",
            "| GPU  Name        Persistence-M| Bus-Id        Disp.A | Volatile Uncorr. ECC |\n",
            "| Fan  Temp  Perf  Pwr:Usage/Cap|         Memory-Usage | GPU-Util  Compute M. |\n",
            "|                               |                      |               MIG M. |\n",
            "|===============================+======================+======================|\n",
            "|   0  Tesla P100-PCIE...  Off  | 00000000:00:04.0 Off |                    0 |\n",
            "| N/A   42C    P0    30W / 250W |      0MiB / 16280MiB |      0%      Default |\n",
            "|                               |                      |                  N/A |\n",
            "+-------------------------------+----------------------+----------------------+\n",
            "                                                                               \n",
            "+-----------------------------------------------------------------------------+\n",
            "| Processes:                                                                  |\n",
            "|  GPU   GI   CI        PID   Type   Process name                  GPU Memory |\n",
            "|        ID   ID                                                   Usage      |\n",
            "|=============================================================================|\n",
            "|  No running processes found                                                 |\n",
            "+-----------------------------------------------------------------------------+\n"
          ]
        }
      ],
      "source": [
        "gpu_info = !nvidia-smi\n",
        "gpu_info = '\\n'.join(gpu_info)\n",
        "if gpu_info.find('failed') >= 0:\n",
        "  print('Not connected to a GPU')\n",
        "else:\n",
        "  print(gpu_info)"
      ]
    },
    {
      "cell_type": "markdown",
      "source": [
        "## 查看pip列表"
      ],
      "metadata": {
        "id": "1QIHisVjiz5y"
      }
    },
    {
      "cell_type": "code",
      "source": [
        "!pip list"
      ],
      "metadata": {
        "colab": {
          "base_uri": "https://localhost:8080/"
        },
        "id": "svcxUwUfSd1E",
        "outputId": "2ab94533-4161-422a-8b9d-07df613b43ec"
      },
      "execution_count": 30,
      "outputs": [
        {
          "output_type": "stream",
          "name": "stdout",
          "text": [
            "Package                       Version                      Location\n",
            "----------------------------- ---------------------------- ------------------------------------------------\n",
            "absl-py                       1.2.0\n",
            "addict                        2.4.0\n",
            "aiobotocore                   2.1.2\n",
            "aiohttp                       3.8.1\n",
            "aioitertools                  0.10.0\n",
            "aiosignal                     1.2.0\n",
            "alabaster                     0.7.12\n",
            "albumentations                0.1.12\n",
            "altair                        4.2.0\n",
            "anyio                         3.6.1\n",
            "appdirs                       1.4.4\n",
            "argon2-cffi                   21.3.0\n",
            "argon2-cffi-bindings          21.2.0\n",
            "arviz                         0.12.1\n",
            "asgiref                       3.5.2\n",
            "astor                         0.8.1\n",
            "astropy                       4.3.1\n",
            "astunparse                    1.6.3\n",
            "async-timeout                 4.0.2\n",
            "asynctest                     0.13.0\n",
            "atari-py                      0.2.9\n",
            "atomicwrites                  1.4.1\n",
            "attrs                         21.4.0\n",
            "audioread                     2.1.9\n",
            "autograd                      1.4\n",
            "Babel                         2.10.3\n",
            "backcall                      0.2.0\n",
            "beautifulsoup4                4.6.3\n",
            "bleach                        5.0.1\n",
            "blis                          0.7.8\n",
            "bokeh                         2.3.3\n",
            "botocore                      1.23.24\n",
            "branca                        0.5.0\n",
            "bs4                           0.0.1\n",
            "CacheControl                  0.12.11\n",
            "cached-property               1.5.2\n",
            "cachetools                    4.2.4\n",
            "catalogue                     2.0.8\n",
            "certifi                       2022.6.15\n",
            "cffi                          1.15.1\n",
            "cftime                        1.6.1\n",
            "chardet                       3.0.4\n",
            "charset-normalizer            2.1.0\n",
            "click                         7.1.2\n",
            "clikit                        0.6.2\n",
            "cloudpickle                   1.3.0\n",
            "cmake                         3.22.5\n",
            "cmdstanpy                     1.0.4\n",
            "colorcet                      3.0.0\n",
            "colorlover                    0.3.0\n",
            "commonmark                    0.9.1\n",
            "community                     1.0.0b1\n",
            "contextlib2                   0.5.5\n",
            "convertdate                   2.4.0\n",
            "coverage                      3.7.1\n",
            "coveralls                     0.5\n",
            "crashtest                     0.3.1\n",
            "crcmod                        1.7\n",
            "croniter                      1.3.5\n",
            "cufflinks                     0.17.3\n",
            "cupy-cuda111                  9.4.0\n",
            "cvxopt                        1.2.7\n",
            "cvxpy                         1.0.31\n",
            "cycler                        0.11.0\n",
            "cymem                         2.0.6\n",
            "Cython                        0.29.20\n",
            "daft                          0.0.4\n",
            "dask                          2.12.0\n",
            "datascience                   0.10.6\n",
            "debugpy                       1.0.0\n",
            "decorator                     4.4.2\n",
            "deepdiff                      5.8.1\n",
            "defusedxml                    0.7.1\n",
            "deprecat                      2.1.1\n",
            "descartes                     1.1.0\n",
            "dill                          0.3.5.1\n",
            "distributed                   1.25.3\n",
            "dlib                          19.24.0\n",
            "dm-tree                       0.1.7\n",
            "dnspython                     2.2.1\n",
            "docopt                        0.6.2\n",
            "docutils                      0.17.1\n",
            "dopamine-rl                   1.0.5\n",
            "earthengine-api               0.1.317\n",
            "easydict                      1.9\n",
            "ecos                          2.0.10\n",
            "editdistance                  0.5.3\n",
            "email-validator               1.2.1\n",
            "en-core-web-sm                3.4.0\n",
            "entrypoints                   0.4\n",
            "ephem                         4.1.3\n",
            "et-xmlfile                    1.1.0\n",
            "etils                         0.6.0\n",
            "fa2                           0.3.5\n",
            "fastai                        2.7.7\n",
            "fastapi                       0.79.0\n",
            "fastcore                      1.5.10\n",
            "fastdownload                  0.0.7\n",
            "fastdtw                       0.3.4\n",
            "fastjsonschema                2.16.1\n",
            "fastprogress                  1.0.3\n",
            "fastrlock                     0.8\n",
            "feather-format                0.4.1\n",
            "filelock                      3.7.1\n",
            "firebase-admin                4.4.0\n",
            "fix-yahoo-finance             0.0.22\n",
            "Flask                         2.0.3\n",
            "flatbuffers                   2.0\n",
            "folium                        0.8.3\n",
            "frozenlist                    1.3.0\n",
            "fsspec                        2022.1.0\n",
            "future                        0.18.2\n",
            "gast                          0.5.3\n",
            "GDAL                          2.2.2\n",
            "gdown                         4.4.0\n",
            "gensim                        3.6.0\n",
            "geographiclib                 1.52\n",
            "geopy                         1.17.0\n",
            "gin-config                    0.5.0\n",
            "glob2                         0.7\n",
            "google                        2.0.3\n",
            "google-api-core               1.31.6\n",
            "google-api-python-client      1.12.11\n",
            "google-auth                   1.35.0\n",
            "google-auth-httplib2          0.0.4\n",
            "google-auth-oauthlib          0.4.6\n",
            "google-cloud-bigquery         1.21.0\n",
            "google-cloud-bigquery-storage 1.1.2\n",
            "google-cloud-core             1.0.3\n",
            "google-cloud-datastore        1.8.0\n",
            "google-cloud-firestore        1.7.0\n",
            "google-cloud-language         1.2.0\n",
            "google-cloud-storage          1.18.1\n",
            "google-cloud-translate        1.5.0\n",
            "google-colab                  1.0.0\n",
            "google-pasta                  0.2.0\n",
            "google-resumable-media        0.4.1\n",
            "googleapis-common-protos      1.56.4\n",
            "googledrivedownloader         0.4\n",
            "graphviz                      0.10.1\n",
            "greenlet                      1.1.2\n",
            "grpcio                        1.47.0\n",
            "gspread                       3.4.2\n",
            "gspread-dataframe             3.0.8\n",
            "gym                           0.17.3\n",
            "h11                           0.13.0\n",
            "h5py                          3.1.0\n",
            "HeapDict                      1.0.1\n",
            "hijri-converter               2.2.4\n",
            "holidays                      0.14.2\n",
            "holoviews                     1.14.9\n",
            "html5lib                      1.0.1\n",
            "httpimport                    0.5.18\n",
            "httplib2                      0.17.4\n",
            "httplib2shim                  0.0.3\n",
            "httpstan                      4.6.1\n",
            "httptools                     0.4.0\n",
            "humanize                      0.5.1\n",
            "hyperopt                      0.1.2\n",
            "idna                          2.10\n",
            "imageio                       2.4.1\n",
            "imagesize                     1.4.1\n",
            "imbalanced-learn              0.8.1\n",
            "imblearn                      0.0\n",
            "imgaug                        0.2.9\n",
            "importlib-metadata            4.12.0\n",
            "importlib-resources           5.9.0\n",
            "imutils                       0.5.4\n",
            "inflect                       2.1.0\n",
            "iniconfig                     1.1.1\n",
            "intel-openmp                  2022.1.0\n",
            "intervaltree                  2.1.0\n",
            "ipykernel                     4.10.1\n",
            "ipython                       5.5.0\n",
            "ipython-genutils              0.2.0\n",
            "ipython-sql                   0.3.9\n",
            "ipywidgets                    7.7.1\n",
            "itsdangerous                  2.1.2\n",
            "jax                           0.3.14\n",
            "jaxlib                        0.3.14+cuda11.cudnn805\n",
            "jedi                          0.18.1\n",
            "jieba                         0.42.1\n",
            "Jinja2                        3.0.3\n",
            "jmespath                      0.10.0\n",
            "joblib                        1.1.0\n",
            "jpeg4py                       0.1.4\n",
            "jsonschema                    4.3.3\n",
            "jupyter                       1.0.0\n",
            "jupyter-client                5.3.5\n",
            "jupyter-console               5.2.0\n",
            "jupyter-core                  4.11.1\n",
            "jupyterlab-pygments           0.2.2\n",
            "jupyterlab-widgets            1.1.1\n",
            "kaggle                        1.5.12\n",
            "kaolin                        0.11.0                       /content/drive/MyDrive/NeuralRecon-W-test/kaolin\n",
            "kapre                         0.3.7\n",
            "keras                         2.8.0\n",
            "Keras-Preprocessing           1.1.2\n",
            "keras-vis                     0.4.1\n",
            "kiwisolver                    1.4.4\n",
            "korean-lunar-calendar         0.2.1\n",
            "kornia                        0.4.1\n",
            "langcodes                     3.3.0\n",
            "libclang                      14.0.1\n",
            "librosa                       0.8.1\n",
            "lightgbm                      2.2.3\n",
            "lightning                     2022.7.18\n",
            "lightning-cloud               0.5.0\n",
            "llvmlite                      0.34.0\n",
            "lmdb                          0.99\n",
            "loguru                        0.6.0\n",
            "lpips                         0.1.3\n",
            "LunarCalendar                 0.0.9\n",
            "lxml                          4.2.6\n",
            "Markdown                      3.4.1\n",
            "MarkupSafe                    2.1.1\n",
            "marshmallow                   3.17.0\n",
            "matplotlib                    3.2.2\n",
            "matplotlib-inline             0.1.3\n",
            "matplotlib-venn               0.11.7\n",
            "missingno                     0.5.1\n",
            "mistune                       0.8.4\n",
            "mizani                        0.6.0\n",
            "mkl                           2019.0\n",
            "mlxtend                       0.14.0\n",
            "more-itertools                8.13.0\n",
            "moviepy                       0.2.3.5\n",
            "mpmath                        1.2.1\n",
            "msgpack                       1.0.4\n",
            "multidict                     6.0.2\n",
            "multiprocess                  0.70.13\n",
            "multitasking                  0.0.11\n",
            "murmurhash                    1.0.7\n",
            "music21                       5.5.0\n",
            "natsort                       5.5.0\n",
            "nbclient                      0.6.6\n",
            "nbconvert                     5.6.1\n",
            "nbformat                      5.4.0\n",
            "nest-asyncio                  1.5.5\n",
            "netCDF4                       1.6.0\n",
            "networkx                      2.6.3\n",
            "nibabel                       3.0.2\n",
            "nltk                          3.7\n",
            "notebook                      5.3.1\n",
            "numba                         0.51.2\n",
            "numexpr                       2.8.3\n",
            "numpy                         1.21.6\n",
            "oauth2client                  4.1.3\n",
            "oauthlib                      3.2.0\n",
            "okgrade                       0.4.3\n",
            "open3d                        0.12.0\n",
            "opencv-contrib-python         4.6.0.66\n",
            "opencv-python                 4.6.0.66\n",
            "openpyxl                      3.0.10\n",
            "opt-einsum                    3.3.0\n",
            "ordered-set                   4.1.0\n",
            "orjson                        3.7.8\n",
            "osqp                          0.6.2.post0\n",
            "packaging                     21.3\n",
            "palettable                    3.3.0\n",
            "pandas                        1.3.5\n",
            "pandas-datareader             0.9.0\n",
            "pandas-gbq                    0.13.3\n",
            "pandas-profiling              1.4.1\n",
            "pandocfilters                 1.5.0\n",
            "panel                         0.12.1\n",
            "param                         1.12.2\n",
            "parso                         0.8.3\n",
            "pastel                        0.2.1\n",
            "pathlib                       1.0.1\n",
            "pathy                         0.6.2\n",
            "patsy                         0.5.2\n",
            "pep517                        0.12.0\n",
            "pexpect                       4.8.0\n",
            "pickleshare                   0.7.5\n",
            "Pillow                        9.2.0\n",
            "pip                           21.1.3\n",
            "pip-tools                     6.2.0\n",
            "plotly                        5.5.0\n",
            "plotnine                      0.6.0\n",
            "pluggy                        0.7.1\n",
            "plyfile                       0.7.4\n",
            "pooch                         1.6.0\n",
            "portpicker                    1.3.9\n",
            "prefetch-generator            1.0.1\n",
            "preshed                       3.0.6\n",
            "prettytable                   3.3.0\n",
            "progressbar2                  3.38.0\n",
            "prometheus-client             0.14.1\n",
            "promise                       2.3\n",
            "prompt-toolkit                1.0.18\n",
            "prophet                       1.1\n",
            "protobuf                      3.17.3\n",
            "psutil                        5.4.8\n",
            "psycopg2                      2.7.6.1\n",
            "ptyprocess                    0.7.0\n",
            "py                            1.11.0\n",
            "pyarrow                       6.0.1\n",
            "pyasn1                        0.4.8\n",
            "pyasn1-modules                0.2.8\n",
            "pycocotools                   2.0.4\n",
            "pycparser                     2.21\n",
            "pyct                          0.4.8\n",
            "pydantic                      1.9.1\n",
            "pydata-google-auth            1.4.0\n",
            "pyDeprecate                   0.3.1\n",
            "pydot                         1.3.0\n",
            "pydot-ng                      2.0.0\n",
            "pydotplus                     2.0.2\n",
            "PyDrive                       1.3.1\n",
            "pyemd                         0.5.1\n",
            "pyerfa                        2.0.0.1\n",
            "pyglet                        1.5.0\n",
            "Pygments                      2.6.1\n",
            "pygobject                     3.26.1\n",
            "PyJWT                         2.4.0\n",
            "pylev                         1.4.0\n",
            "pymc3                         3.11.5\n",
            "PyMeeus                       0.5.11\n",
            "pymongo                       4.2.0\n",
            "pymystem3                     0.2.0\n",
            "PyOpenGL                      3.1.6\n",
            "pyparsing                     3.0.9\n",
            "pyrsistent                    0.18.1\n",
            "pysimdjson                    3.2.0\n",
            "pysndfile                     1.3.8\n",
            "PySocks                       1.7.1\n",
            "pystan                        3.3.0\n",
            "pytest                        3.6.4\n",
            "python-apt                    0.0.0\n",
            "python-chess                  0.23.11\n",
            "python-dateutil               2.8.2\n",
            "python-dotenv                 0.20.0\n",
            "python-louvain                0.16\n",
            "python-multipart              0.0.5\n",
            "python-slugify                6.1.2\n",
            "python-utils                  3.3.3\n",
            "pytorch-ranger                0.1.1\n",
            "pytz                          2022.1\n",
            "pyviz-comms                   2.2.0\n",
            "PyWavelets                    1.3.0\n",
            "PyYAML                        6.0\n",
            "pyzmq                         23.2.0\n",
            "qdldl                         0.1.5.post2\n",
            "qtconsole                     5.3.1\n",
            "QtPy                          2.1.0\n",
            "regex                         2022.6.2\n",
            "requests                      2.28.1\n",
            "requests-oauthlib             1.3.1\n",
            "resampy                       0.3.1\n",
            "rich                          12.5.1\n",
            "rpy2                          3.4.5\n",
            "rsa                           4.9\n",
            "s3fs                          2022.1.0\n",
            "scikit-image                  0.18.3\n",
            "scikit-learn                  1.0.2\n",
            "scipy                         1.5.2\n",
            "screen-resolution-extra       0.0.0\n",
            "scs                           3.2.0\n",
            "seaborn                       0.11.2\n",
            "semver                        2.13.0\n",
            "Send2Trash                    1.8.0\n",
            "setuptools                    57.4.0\n",
            "setuptools-git                1.2\n",
            "Shapely                       1.8.2\n",
            "simplegeneric                 0.8.1\n",
            "six                           1.15.0\n",
            "sklearn                       0.0\n",
            "sklearn-pandas                1.8.0\n",
            "smart-open                    5.2.1\n",
            "sniffio                       1.2.0\n",
            "snowballstemmer               2.2.0\n",
            "sortedcontainers              2.4.0\n",
            "SoundFile                     0.10.3.post1\n",
            "soupsieve                     2.3.2.post1\n",
            "spacy                         3.4.1\n",
            "spacy-legacy                  3.0.9\n",
            "spacy-loggers                 1.0.3\n",
            "Sphinx                        1.8.6\n",
            "sphinxcontrib-serializinghtml 1.1.5\n",
            "sphinxcontrib-websupport      1.2.4\n",
            "SQLAlchemy                    1.4.39\n",
            "sqlparse                      0.4.2\n",
            "srsly                         2.4.4\n",
            "starlette                     0.19.1\n",
            "starsessions                  1.2.3\n",
            "statsmodels                   0.10.2\n",
            "sympy                         1.7.1\n",
            "tables                        3.7.0\n",
            "tabulate                      0.8.10\n",
            "tblib                         1.7.0\n",
            "tenacity                      8.0.1\n",
            "tensorboard                   2.9.1\n",
            "tensorboard-data-server       0.6.1\n",
            "tensorboard-plugin-wit        1.8.1\n",
            "tensorflow                    2.8.2+zzzcolab20220719082949\n",
            "tensorflow-datasets           4.0.1\n",
            "tensorflow-estimator          2.8.0\n",
            "tensorflow-gcs-config         2.8.0\n",
            "tensorflow-hub                0.12.0\n",
            "tensorflow-io-gcs-filesystem  0.26.0\n",
            "tensorflow-metadata           1.9.0\n",
            "tensorflow-probability        0.16.0\n",
            "termcolor                     1.1.0\n",
            "terminado                     0.13.3\n",
            "testpath                      0.6.0\n",
            "text-unidecode                1.3\n",
            "textblob                      0.15.3\n",
            "Theano-PyMC                   1.1.2\n",
            "thinc                         8.1.0\n",
            "threadpoolctl                 3.1.0\n",
            "tifffile                      2021.11.2\n",
            "tinycss2                      1.1.1\n",
            "tomli                         2.0.1\n",
            "toolz                         0.12.0\n",
            "torch                         1.12.0+cu113\n",
            "torch-optimizer               0.3.0\n",
            "torchaudio                    0.12.0+cu113\n",
            "torchmetrics                  0.7.0\n",
            "torchsummary                  1.5.1\n",
            "torchvision                   0.13.0+cu113\n",
            "tornado                       5.1\n",
            "tqdm                          4.64.0\n",
            "traitlets                     5.1.1\n",
            "trimesh                       3.9.1\n",
            "tweepy                        3.10.0\n",
            "typeguard                     2.7.1\n",
            "typer                         0.4.2\n",
            "typing-extensions             4.1.1\n",
            "tzlocal                       1.5.1\n",
            "ujson                         5.4.0\n",
            "uritemplate                   3.0.1\n",
            "urllib3                       1.25.11\n",
            "usd-core                      22.8\n",
            "uvicorn                       0.17.6\n",
            "uvloop                        0.16.0\n",
            "vega-datasets                 0.9.0\n",
            "wasabi                        0.9.1\n",
            "watchgod                      0.8.2\n",
            "wcwidth                       0.2.5\n",
            "webargs                       8.2.0\n",
            "webencodings                  0.5.1\n",
            "websocket-client              1.3.3\n",
            "websockets                    10.3\n",
            "Werkzeug                      2.2.1\n",
            "wheel                         0.37.1\n",
            "widgetsnbextension            3.6.1\n",
            "wordcloud                     1.5.0\n",
            "wrapt                         1.14.1\n",
            "xarray                        0.20.2\n",
            "xarray-einstats               0.2.2\n",
            "xgboost                       0.90\n",
            "xkit                          0.0.0\n",
            "xlrd                          1.1.0\n",
            "xlwt                          1.3.0\n",
            "yarl                          1.7.2\n",
            "yellowbrick                   1.4\n",
            "zict                          2.2.0\n",
            "zipp                          3.8.1\n"
          ]
        }
      ]
    },
    {
      "cell_type": "markdown",
      "source": [
        "##查看某个安装包版本"
      ],
      "metadata": {
        "id": "StziDmMN1Psn"
      }
    },
    {
      "cell_type": "code",
      "source": [
        "!pip show pytorch_lightning"
      ],
      "metadata": {
        "colab": {
          "base_uri": "https://localhost:8080/"
        },
        "id": "LvmeQi2n1Th9",
        "outputId": "bf117d33-4f00-4ab9-aae7-1c0f8af6365f"
      },
      "execution_count": 13,
      "outputs": [
        {
          "output_type": "stream",
          "name": "stdout",
          "text": [
            "\u001b[33mWARNING: Package(s) not found: pytorch_lightning\u001b[0m\n"
          ]
        }
      ]
    },
    {
      "cell_type": "markdown",
      "source": [
        "## 安装特定版本"
      ],
      "metadata": {
        "id": "f2-2R2B1Du6v"
      }
    },
    {
      "cell_type": "code",
      "source": [
        "#!pip install pytorch_lightning==1.4.8"
      ],
      "metadata": {
        "colab": {
          "base_uri": "https://localhost:8080/"
        },
        "id": "lAgsyJ4pDxBf",
        "outputId": "14d7f445-3be2-4a65-e21f-f194747b26b0"
      },
      "execution_count": 3,
      "outputs": [
        {
          "output_type": "stream",
          "name": "stdout",
          "text": [
            "Looking in indexes: https://pypi.org/simple, https://us-python.pkg.dev/colab-wheels/public/simple/\n",
            "Collecting pytorch_lightning==1.4.8\n",
            "  Using cached pytorch_lightning-1.4.8-py3-none-any.whl (924 kB)\n",
            "Requirement already satisfied: tensorboard>=2.2.0 in /usr/local/lib/python3.7/dist-packages (from pytorch_lightning==1.4.8) (2.9.1)\n",
            "Requirement already satisfied: packaging>=17.0 in /usr/local/lib/python3.7/dist-packages (from pytorch_lightning==1.4.8) (21.3)\n",
            "Requirement already satisfied: torchmetrics>=0.4.0 in /usr/local/lib/python3.7/dist-packages (from pytorch_lightning==1.4.8) (0.7.0)\n",
            "Requirement already satisfied: fsspec[http]!=2021.06.0,>=2021.05.0 in /usr/local/lib/python3.7/dist-packages (from pytorch_lightning==1.4.8) (2022.1.0)\n",
            "Requirement already satisfied: tqdm>=4.41.0 in /usr/local/lib/python3.7/dist-packages (from pytorch_lightning==1.4.8) (4.64.0)\n",
            "Requirement already satisfied: torch>=1.6 in /usr/local/lib/python3.7/dist-packages (from pytorch_lightning==1.4.8) (1.12.0+cu113)\n",
            "Requirement already satisfied: PyYAML>=5.1 in /usr/local/lib/python3.7/dist-packages (from pytorch_lightning==1.4.8) (6.0)\n",
            "Requirement already satisfied: future>=0.17.1 in /usr/local/lib/python3.7/dist-packages (from pytorch_lightning==1.4.8) (0.18.2)\n",
            "Requirement already satisfied: pyDeprecate==0.3.1 in /usr/local/lib/python3.7/dist-packages (from pytorch_lightning==1.4.8) (0.3.1)\n",
            "Requirement already satisfied: numpy>=1.17.2 in /usr/local/lib/python3.7/dist-packages (from pytorch_lightning==1.4.8) (1.21.6)\n",
            "Requirement already satisfied: typing-extensions in /usr/local/lib/python3.7/dist-packages (from pytorch_lightning==1.4.8) (4.1.1)\n",
            "Requirement already satisfied: requests in /usr/local/lib/python3.7/dist-packages (from fsspec[http]!=2021.06.0,>=2021.05.0->pytorch_lightning==1.4.8) (2.28.1)\n",
            "Requirement already satisfied: aiohttp in /usr/local/lib/python3.7/dist-packages (from fsspec[http]!=2021.06.0,>=2021.05.0->pytorch_lightning==1.4.8) (3.8.1)\n",
            "Requirement already satisfied: pyparsing!=3.0.5,>=2.0.2 in /usr/local/lib/python3.7/dist-packages (from packaging>=17.0->pytorch_lightning==1.4.8) (3.0.9)\n",
            "Requirement already satisfied: setuptools>=41.0.0 in /usr/local/lib/python3.7/dist-packages (from tensorboard>=2.2.0->pytorch_lightning==1.4.8) (57.4.0)\n",
            "Requirement already satisfied: tensorboard-data-server<0.7.0,>=0.6.0 in /usr/local/lib/python3.7/dist-packages (from tensorboard>=2.2.0->pytorch_lightning==1.4.8) (0.6.1)\n",
            "Requirement already satisfied: werkzeug>=1.0.1 in /usr/local/lib/python3.7/dist-packages (from tensorboard>=2.2.0->pytorch_lightning==1.4.8) (2.2.1)\n",
            "Requirement already satisfied: google-auth-oauthlib<0.5,>=0.4.1 in /usr/local/lib/python3.7/dist-packages (from tensorboard>=2.2.0->pytorch_lightning==1.4.8) (0.4.6)\n",
            "Requirement already satisfied: google-auth<3,>=1.6.3 in /usr/local/lib/python3.7/dist-packages (from tensorboard>=2.2.0->pytorch_lightning==1.4.8) (1.35.0)\n",
            "Requirement already satisfied: markdown>=2.6.8 in /usr/local/lib/python3.7/dist-packages (from tensorboard>=2.2.0->pytorch_lightning==1.4.8) (3.4.1)\n",
            "Requirement already satisfied: protobuf<3.20,>=3.9.2 in /usr/local/lib/python3.7/dist-packages (from tensorboard>=2.2.0->pytorch_lightning==1.4.8) (3.17.3)\n",
            "Requirement already satisfied: absl-py>=0.4 in /usr/local/lib/python3.7/dist-packages (from tensorboard>=2.2.0->pytorch_lightning==1.4.8) (1.2.0)\n",
            "Requirement already satisfied: grpcio>=1.24.3 in /usr/local/lib/python3.7/dist-packages (from tensorboard>=2.2.0->pytorch_lightning==1.4.8) (1.47.0)\n",
            "Requirement already satisfied: tensorboard-plugin-wit>=1.6.0 in /usr/local/lib/python3.7/dist-packages (from tensorboard>=2.2.0->pytorch_lightning==1.4.8) (1.8.1)\n",
            "Requirement already satisfied: wheel>=0.26 in /usr/local/lib/python3.7/dist-packages (from tensorboard>=2.2.0->pytorch_lightning==1.4.8) (0.37.1)\n",
            "Requirement already satisfied: cachetools<5.0,>=2.0.0 in /usr/local/lib/python3.7/dist-packages (from google-auth<3,>=1.6.3->tensorboard>=2.2.0->pytorch_lightning==1.4.8) (4.2.4)\n",
            "Requirement already satisfied: pyasn1-modules>=0.2.1 in /usr/local/lib/python3.7/dist-packages (from google-auth<3,>=1.6.3->tensorboard>=2.2.0->pytorch_lightning==1.4.8) (0.2.8)\n",
            "Requirement already satisfied: rsa<5,>=3.1.4 in /usr/local/lib/python3.7/dist-packages (from google-auth<3,>=1.6.3->tensorboard>=2.2.0->pytorch_lightning==1.4.8) (4.9)\n",
            "Requirement already satisfied: six>=1.9.0 in /usr/local/lib/python3.7/dist-packages (from google-auth<3,>=1.6.3->tensorboard>=2.2.0->pytorch_lightning==1.4.8) (1.15.0)\n",
            "Requirement already satisfied: requests-oauthlib>=0.7.0 in /usr/local/lib/python3.7/dist-packages (from google-auth-oauthlib<0.5,>=0.4.1->tensorboard>=2.2.0->pytorch_lightning==1.4.8) (1.3.1)\n",
            "Requirement already satisfied: importlib-metadata>=4.4 in /usr/local/lib/python3.7/dist-packages (from markdown>=2.6.8->tensorboard>=2.2.0->pytorch_lightning==1.4.8) (4.12.0)\n",
            "Requirement already satisfied: zipp>=0.5 in /usr/local/lib/python3.7/dist-packages (from importlib-metadata>=4.4->markdown>=2.6.8->tensorboard>=2.2.0->pytorch_lightning==1.4.8) (3.8.1)\n",
            "Requirement already satisfied: pyasn1<0.5.0,>=0.4.6 in /usr/local/lib/python3.7/dist-packages (from pyasn1-modules>=0.2.1->google-auth<3,>=1.6.3->tensorboard>=2.2.0->pytorch_lightning==1.4.8) (0.4.8)\n",
            "Requirement already satisfied: certifi>=2017.4.17 in /usr/local/lib/python3.7/dist-packages (from requests->fsspec[http]!=2021.06.0,>=2021.05.0->pytorch_lightning==1.4.8) (2022.6.15)\n",
            "Requirement already satisfied: urllib3<1.27,>=1.21.1 in /usr/local/lib/python3.7/dist-packages (from requests->fsspec[http]!=2021.06.0,>=2021.05.0->pytorch_lightning==1.4.8) (1.25.11)\n",
            "Requirement already satisfied: charset-normalizer<3,>=2 in /usr/local/lib/python3.7/dist-packages (from requests->fsspec[http]!=2021.06.0,>=2021.05.0->pytorch_lightning==1.4.8) (2.1.0)\n",
            "Requirement already satisfied: idna<4,>=2.5 in /usr/local/lib/python3.7/dist-packages (from requests->fsspec[http]!=2021.06.0,>=2021.05.0->pytorch_lightning==1.4.8) (2.10)\n",
            "Requirement already satisfied: oauthlib>=3.0.0 in /usr/local/lib/python3.7/dist-packages (from requests-oauthlib>=0.7.0->google-auth-oauthlib<0.5,>=0.4.1->tensorboard>=2.2.0->pytorch_lightning==1.4.8) (3.2.0)\n",
            "Requirement already satisfied: MarkupSafe>=2.1.1 in /usr/local/lib/python3.7/dist-packages (from werkzeug>=1.0.1->tensorboard>=2.2.0->pytorch_lightning==1.4.8) (2.1.1)\n",
            "Requirement already satisfied: yarl<2.0,>=1.0 in /usr/local/lib/python3.7/dist-packages (from aiohttp->fsspec[http]!=2021.06.0,>=2021.05.0->pytorch_lightning==1.4.8) (1.7.2)\n",
            "Requirement already satisfied: multidict<7.0,>=4.5 in /usr/local/lib/python3.7/dist-packages (from aiohttp->fsspec[http]!=2021.06.0,>=2021.05.0->pytorch_lightning==1.4.8) (6.0.2)\n",
            "Requirement already satisfied: asynctest==0.13.0 in /usr/local/lib/python3.7/dist-packages (from aiohttp->fsspec[http]!=2021.06.0,>=2021.05.0->pytorch_lightning==1.4.8) (0.13.0)\n",
            "Requirement already satisfied: async-timeout<5.0,>=4.0.0a3 in /usr/local/lib/python3.7/dist-packages (from aiohttp->fsspec[http]!=2021.06.0,>=2021.05.0->pytorch_lightning==1.4.8) (4.0.2)\n",
            "Requirement already satisfied: attrs>=17.3.0 in /usr/local/lib/python3.7/dist-packages (from aiohttp->fsspec[http]!=2021.06.0,>=2021.05.0->pytorch_lightning==1.4.8) (21.4.0)\n",
            "Requirement already satisfied: frozenlist>=1.1.1 in /usr/local/lib/python3.7/dist-packages (from aiohttp->fsspec[http]!=2021.06.0,>=2021.05.0->pytorch_lightning==1.4.8) (1.3.0)\n",
            "Requirement already satisfied: aiosignal>=1.1.2 in /usr/local/lib/python3.7/dist-packages (from aiohttp->fsspec[http]!=2021.06.0,>=2021.05.0->pytorch_lightning==1.4.8) (1.2.0)\n",
            "Installing collected packages: pytorch-lightning\n",
            "  Attempting uninstall: pytorch-lightning\n",
            "    Found existing installation: pytorch-lightning 1.6.5\n",
            "    Uninstalling pytorch-lightning-1.6.5:\n",
            "      Successfully uninstalled pytorch-lightning-1.6.5\n",
            "Successfully installed pytorch-lightning-1.4.8\n"
          ]
        }
      ]
    },
    {
      "cell_type": "markdown",
      "source": [
        "## 更新某包"
      ],
      "metadata": {
        "id": "SthEIzvL92FT"
      }
    },
    {
      "cell_type": "code",
      "source": [
        "!pip install --upgrade pytorch_lightning"
      ],
      "metadata": {
        "id": "N4a2JV2U94cW"
      },
      "execution_count": null,
      "outputs": []
    },
    {
      "cell_type": "markdown",
      "source": [
        "## cuda/python版本"
      ],
      "metadata": {
        "id": "i3uXM5nf6e8l"
      }
    },
    {
      "cell_type": "markdown",
      "source": [
        "验证版本：Python >= 3.7, <= 3.9；CUDA >= 10.0 (with ‘nvcc’ installed)均满足"
      ],
      "metadata": {
        "id": "FSEbeDkucfJc"
      }
    },
    {
      "cell_type": "code",
      "source": [
        "!python --version\n",
        "!nvcc -V\n",
        "import torch\n",
        "torch.version.cuda"
      ],
      "metadata": {
        "colab": {
          "base_uri": "https://localhost:8080/",
          "height": 139
        },
        "id": "7HjjHbVRLwjj",
        "outputId": "fcf46dfc-ca99-49cc-b37d-c10d37cf7ef5"
      },
      "execution_count": null,
      "outputs": [
        {
          "output_type": "stream",
          "name": "stdout",
          "text": [
            "Python 3.7.13\n",
            "nvcc: NVIDIA (R) Cuda compiler driver\n",
            "Copyright (c) 2005-2020 NVIDIA Corporation\n",
            "Built on Mon_Oct_12_20:09:46_PDT_2020\n",
            "Cuda compilation tools, release 11.1, V11.1.105\n",
            "Build cuda_11.1.TC455_06.29190527_0\n"
          ]
        },
        {
          "output_type": "execute_result",
          "data": {
            "text/plain": [
              "'10.2'"
            ],
            "application/vnd.google.colaboratory.intrinsic+json": {
              "type": "string"
            }
          },
          "metadata": {},
          "execution_count": 4
        }
      ]
    },
    {
      "cell_type": "markdown",
      "source": [
        "##Restart Runtime"
      ],
      "metadata": {
        "id": "YzO07S7y5bv9"
      }
    },
    {
      "cell_type": "code",
      "source": [
        "import os\n",
        "os.kill(os.getpid(), 9)"
      ],
      "metadata": {
        "id": "q6tGsadG5eRY"
      },
      "execution_count": null,
      "outputs": []
    },
    {
      "cell_type": "markdown",
      "source": [
        "# 第一次初始化操作"
      ],
      "metadata": {
        "id": "YrOuLSOGBKmy"
      }
    },
    {
      "cell_type": "markdown",
      "source": [
        "操作说明与仓库地址：https://github.com/zju3dv/NeuralRecon-W"
      ],
      "metadata": {
        "id": "ff2BKwPdFGZW"
      }
    },
    {
      "cell_type": "markdown",
      "source": [
        "## 下载数据"
      ],
      "metadata": {
        "id": "mb_452VYU9hl"
      }
    },
    {
      "cell_type": "markdown",
      "source": [
        "下载数据，示例见：（已完成）\n",
        "\n",
        "```shell\n",
        "mkdir data && cd data\n",
        "gdown --id 1eZvmk4GQkrRKUNZpagZEIY_z8Lsdw94v\n",
        "```\n",
        "\n",
        "此处参见unzipfile.ipynb"
      ],
      "metadata": {
        "id": "jRtdPyMPE-ru"
      }
    },
    {
      "cell_type": "markdown",
      "source": [
        "##生成cache"
      ],
      "metadata": {
        "id": "8DrKRy6BVAux"
      }
    },
    {
      "cell_type": "markdown",
      "source": [
        "对所有scene生成Ray Cache，例如：\n",
        "\n",
        "```python\n",
        "for SCENE_NAME in brandenburg_gate lincoln_memorial palacio_de_bellas_artes pantheon_exterior; do\n",
        "  scripts/data_generation.sh data/heritage-recon/${SCENE_NAME}\n",
        "done\n",
        "```\n",
        "\n"
      ],
      "metadata": {
        "id": "iTmrokKrFRo0"
      }
    },
    {
      "cell_type": "markdown",
      "source": [
        "此部分写入requirements"
      ],
      "metadata": {
        "id": "AQ9g1nt4Kmxk"
      }
    },
    {
      "cell_type": "code",
      "source": [
        "!pip install torch==1.11.0\n",
        "!pip install torchvision==0.12.0\n",
        "!pip install torchtext==0.12.0\n",
        "!pip install torchaudio==0.11.0"
      ],
      "metadata": {
        "colab": {
          "base_uri": "https://localhost:8080/"
        },
        "id": "7KGLS3pPcn3p",
        "outputId": "1f80523e-e3c7-4a82-a6d8-8afc08649a5d"
      },
      "execution_count": null,
      "outputs": [
        {
          "output_type": "stream",
          "name": "stdout",
          "text": [
            "Looking in indexes: https://pypi.org/simple, https://us-python.pkg.dev/colab-wheels/public/simple/\n",
            "Requirement already satisfied: torch==1.11.0 in /usr/local/lib/python3.7/dist-packages (1.11.0)\n",
            "Requirement already satisfied: typing-extensions in /usr/local/lib/python3.7/dist-packages (from torch==1.11.0) (4.1.1)\n",
            "Looking in indexes: https://pypi.org/simple, https://us-python.pkg.dev/colab-wheels/public/simple/\n",
            "Collecting torchvision==0.12.0\n",
            "  Downloading torchvision-0.12.0-cp37-cp37m-manylinux1_x86_64.whl (21.0 MB)\n",
            "\u001b[K     |████████████████████████████████| 21.0 MB 7.6 MB/s \n",
            "\u001b[?25hRequirement already satisfied: pillow!=8.3.*,>=5.3.0 in /usr/local/lib/python3.7/dist-packages (from torchvision==0.12.0) (7.1.2)\n",
            "Requirement already satisfied: torch==1.11.0 in /usr/local/lib/python3.7/dist-packages (from torchvision==0.12.0) (1.11.0)\n",
            "Requirement already satisfied: numpy in /usr/local/lib/python3.7/dist-packages (from torchvision==0.12.0) (1.21.6)\n",
            "Requirement already satisfied: requests in /usr/local/lib/python3.7/dist-packages (from torchvision==0.12.0) (2.23.0)\n",
            "Requirement already satisfied: typing-extensions in /usr/local/lib/python3.7/dist-packages (from torchvision==0.12.0) (4.1.1)\n",
            "Requirement already satisfied: idna<3,>=2.5 in /usr/local/lib/python3.7/dist-packages (from requests->torchvision==0.12.0) (2.10)\n",
            "Requirement already satisfied: urllib3!=1.25.0,!=1.25.1,<1.26,>=1.21.1 in /usr/local/lib/python3.7/dist-packages (from requests->torchvision==0.12.0) (1.24.3)\n",
            "Requirement already satisfied: certifi>=2017.4.17 in /usr/local/lib/python3.7/dist-packages (from requests->torchvision==0.12.0) (2022.6.15)\n",
            "Requirement already satisfied: chardet<4,>=3.0.2 in /usr/local/lib/python3.7/dist-packages (from requests->torchvision==0.12.0) (3.0.4)\n",
            "Installing collected packages: torchvision\n",
            "  Attempting uninstall: torchvision\n",
            "    Found existing installation: torchvision 0.13.0+cu113\n",
            "    Uninstalling torchvision-0.13.0+cu113:\n",
            "      Successfully uninstalled torchvision-0.13.0+cu113\n",
            "Successfully installed torchvision-0.12.0\n",
            "Looking in indexes: https://pypi.org/simple, https://us-python.pkg.dev/colab-wheels/public/simple/\n",
            "Collecting torchtext==0.12.0\n",
            "  Downloading torchtext-0.12.0-cp37-cp37m-manylinux1_x86_64.whl (10.4 MB)\n",
            "\u001b[K     |████████████████████████████████| 10.4 MB 6.4 MB/s \n",
            "\u001b[?25hRequirement already satisfied: torch==1.11.0 in /usr/local/lib/python3.7/dist-packages (from torchtext==0.12.0) (1.11.0)\n",
            "Requirement already satisfied: numpy in /usr/local/lib/python3.7/dist-packages (from torchtext==0.12.0) (1.21.6)\n",
            "Requirement already satisfied: tqdm in /usr/local/lib/python3.7/dist-packages (from torchtext==0.12.0) (4.64.0)\n",
            "Requirement already satisfied: requests in /usr/local/lib/python3.7/dist-packages (from torchtext==0.12.0) (2.23.0)\n",
            "Requirement already satisfied: typing-extensions in /usr/local/lib/python3.7/dist-packages (from torch==1.11.0->torchtext==0.12.0) (4.1.1)\n",
            "Requirement already satisfied: urllib3!=1.25.0,!=1.25.1,<1.26,>=1.21.1 in /usr/local/lib/python3.7/dist-packages (from requests->torchtext==0.12.0) (1.24.3)\n",
            "Requirement already satisfied: chardet<4,>=3.0.2 in /usr/local/lib/python3.7/dist-packages (from requests->torchtext==0.12.0) (3.0.4)\n",
            "Requirement already satisfied: certifi>=2017.4.17 in /usr/local/lib/python3.7/dist-packages (from requests->torchtext==0.12.0) (2022.6.15)\n",
            "Requirement already satisfied: idna<3,>=2.5 in /usr/local/lib/python3.7/dist-packages (from requests->torchtext==0.12.0) (2.10)\n",
            "Installing collected packages: torchtext\n",
            "  Attempting uninstall: torchtext\n",
            "    Found existing installation: torchtext 0.13.0\n",
            "    Uninstalling torchtext-0.13.0:\n",
            "      Successfully uninstalled torchtext-0.13.0\n",
            "Successfully installed torchtext-0.12.0\n",
            "Looking in indexes: https://pypi.org/simple, https://us-python.pkg.dev/colab-wheels/public/simple/\n",
            "Collecting torchaudio==0.11.0\n",
            "  Downloading torchaudio-0.11.0-cp37-cp37m-manylinux1_x86_64.whl (2.9 MB)\n",
            "\u001b[K     |████████████████████████████████| 2.9 MB 8.3 MB/s \n",
            "\u001b[?25hRequirement already satisfied: torch==1.11.0 in /usr/local/lib/python3.7/dist-packages (from torchaudio==0.11.0) (1.11.0)\n",
            "Requirement already satisfied: typing-extensions in /usr/local/lib/python3.7/dist-packages (from torch==1.11.0->torchaudio==0.11.0) (4.1.1)\n",
            "Installing collected packages: torchaudio\n",
            "  Attempting uninstall: torchaudio\n",
            "    Found existing installation: torchaudio 0.12.0+cu113\n",
            "    Uninstalling torchaudio-0.12.0+cu113:\n",
            "      Successfully uninstalled torchaudio-0.12.0+cu113\n",
            "Successfully installed torchaudio-0.11.0\n"
          ]
        }
      ]
    },
    {
      "cell_type": "markdown",
      "source": [
        "补充requirements包，下一步之前先如下安装"
      ],
      "metadata": {
        "id": "QpzC4_foGx_k"
      }
    },
    {
      "cell_type": "code",
      "source": [
        "!pip install torch==1.12.0+cu113 torchvision==0.13.0 torchtext==0.13.0 torchaudio==0.12.0 -f https://download.pytorch.org/whl/torch_stable.html"
      ],
      "metadata": {
        "colab": {
          "base_uri": "https://localhost:8080/"
        },
        "id": "3_Qw9D6VTEkA",
        "outputId": "455ee8e8-9c6a-4cec-a3de-819d614d3a5f"
      },
      "execution_count": null,
      "outputs": [
        {
          "output_type": "stream",
          "name": "stdout",
          "text": [
            "Looking in indexes: https://pypi.org/simple, https://us-python.pkg.dev/colab-wheels/public/simple/\n",
            "Looking in links: https://download.pytorch.org/whl/torch_stable.html\n",
            "Collecting torch==1.12.0+cu113\n",
            "  Downloading https://download.pytorch.org/whl/cu113/torch-1.12.0%2Bcu113-cp37-cp37m-linux_x86_64.whl (1837.7 MB)\n",
            "\u001b[K     |██████████████▌                 | 834.1 MB 1.2 MB/s eta 0:13:50tcmalloc: large alloc 1147494400 bytes == 0x390e6000 @  0x7f0035ab0615 0x592b76 0x4df71e 0x59afff 0x515655 0x549576 0x593fce 0x548ae9 0x51566f 0x549576 0x593fce 0x548ae9 0x5127f1 0x598e3b 0x511f68 0x598e3b 0x511f68 0x598e3b 0x511f68 0x4bc98a 0x532e76 0x594b72 0x515600 0x549576 0x593fce 0x548ae9 0x5127f1 0x549576 0x593fce 0x5118f8 0x593dd7\n",
            "\u001b[K     |██████████████████▍             | 1055.7 MB 1.2 MB/s eta 0:10:33tcmalloc: large alloc 1434370048 bytes == 0x7d73c000 @  0x7f0035ab0615 0x592b76 0x4df71e 0x59afff 0x515655 0x549576 0x593fce 0x548ae9 0x51566f 0x549576 0x593fce 0x548ae9 0x5127f1 0x598e3b 0x511f68 0x598e3b 0x511f68 0x598e3b 0x511f68 0x4bc98a 0x532e76 0x594b72 0x515600 0x549576 0x593fce 0x548ae9 0x5127f1 0x549576 0x593fce 0x5118f8 0x593dd7\n",
            "\u001b[K     |███████████████████████▎        | 1336.2 MB 140.2 MB/s eta 0:00:04tcmalloc: large alloc 1792966656 bytes == 0x256e000 @  0x7f0035ab0615 0x592b76 0x4df71e 0x59afff 0x515655 0x549576 0x593fce 0x548ae9 0x51566f 0x549576 0x593fce 0x548ae9 0x5127f1 0x598e3b 0x511f68 0x598e3b 0x511f68 0x598e3b 0x511f68 0x4bc98a 0x532e76 0x594b72 0x515600 0x549576 0x593fce 0x548ae9 0x5127f1 0x549576 0x593fce 0x5118f8 0x593dd7\n",
            "\u001b[K     |█████████████████████████████▌  | 1691.1 MB 69.9 MB/s eta 0:00:03tcmalloc: large alloc 2241208320 bytes == 0x6d356000 @  0x7f0035ab0615 0x592b76 0x4df71e 0x59afff 0x515655 0x549576 0x593fce 0x548ae9 0x51566f 0x549576 0x593fce 0x548ae9 0x5127f1 0x598e3b 0x511f68 0x598e3b 0x511f68 0x598e3b 0x511f68 0x4bc98a 0x532e76 0x594b72 0x515600 0x549576 0x593fce 0x548ae9 0x5127f1 0x549576 0x593fce 0x5118f8 0x593dd7\n",
            "\u001b[K     |████████████████████████████████| 1837.6 MB 79.6 MB/s eta 0:00:01tcmalloc: large alloc 1837662208 bytes == 0xf2cb8000 @  0x7f0035aaf1e7 0x4a3940 0x4a39cc 0x592b76 0x4df71e 0x59afff 0x515655 0x549576 0x593fce 0x511e2c 0x549576 0x593fce 0x511e2c 0x549576 0x593fce 0x511e2c 0x549576 0x593fce 0x511e2c 0x549576 0x593fce 0x511e2c 0x593dd7 0x511e2c 0x549576 0x593fce 0x548ae9 0x5127f1 0x549576 0x593fce 0x548ae9\n",
            "tcmalloc: large alloc 2297077760 bytes == 0x160540000 @  0x7f0035ab0615 0x592b76 0x4df71e 0x59afff 0x515655 0x549576 0x593fce 0x511e2c 0x549576 0x593fce 0x511e2c 0x549576 0x593fce 0x511e2c 0x549576 0x593fce 0x511e2c 0x549576 0x593fce 0x511e2c 0x593dd7 0x511e2c 0x549576 0x593fce 0x548ae9 0x5127f1 0x549576 0x593fce 0x548ae9 0x5127f1 0x549576\n",
            "\u001b[K     |████████████████████████████████| 1837.7 MB 8.0 kB/s \n",
            "\u001b[?25hRequirement already satisfied: torchvision==0.13.0 in /usr/local/lib/python3.7/dist-packages (0.13.0)\n",
            "Requirement already satisfied: torchtext==0.13.0 in /usr/local/lib/python3.7/dist-packages (0.13.0)\n",
            "Requirement already satisfied: torchaudio==0.12.0 in /usr/local/lib/python3.7/dist-packages (0.12.0)\n",
            "Requirement already satisfied: typing-extensions in /usr/local/lib/python3.7/dist-packages (from torch==1.12.0+cu113) (4.1.1)\n",
            "Requirement already satisfied: numpy in /usr/local/lib/python3.7/dist-packages (from torchvision==0.13.0) (1.21.6)\n",
            "Requirement already satisfied: pillow!=8.3.*,>=5.3.0 in /usr/local/lib/python3.7/dist-packages (from torchvision==0.13.0) (7.1.2)\n",
            "Requirement already satisfied: requests in /usr/local/lib/python3.7/dist-packages (from torchvision==0.13.0) (2.23.0)\n",
            "Requirement already satisfied: tqdm in /usr/local/lib/python3.7/dist-packages (from torchtext==0.13.0) (4.64.0)\n",
            "Requirement already satisfied: certifi>=2017.4.17 in /usr/local/lib/python3.7/dist-packages (from requests->torchvision==0.13.0) (2022.6.15)\n",
            "Requirement already satisfied: chardet<4,>=3.0.2 in /usr/local/lib/python3.7/dist-packages (from requests->torchvision==0.13.0) (3.0.4)\n",
            "Requirement already satisfied: idna<3,>=2.5 in /usr/local/lib/python3.7/dist-packages (from requests->torchvision==0.13.0) (2.10)\n",
            "Requirement already satisfied: urllib3!=1.25.0,!=1.25.1,<1.26,>=1.21.1 in /usr/local/lib/python3.7/dist-packages (from requests->torchvision==0.13.0) (1.24.3)\n",
            "Installing collected packages: torch\n",
            "  Attempting uninstall: torch\n",
            "    Found existing installation: torch 1.12.0\n",
            "    Uninstalling torch-1.12.0:\n",
            "      Successfully uninstalled torch-1.12.0\n",
            "Successfully installed torch-1.12.0+cu113\n"
          ]
        }
      ]
    },
    {
      "cell_type": "markdown",
      "source": [
        "##torch系列安装\n",
        "安装1.11.0版本"
      ],
      "metadata": {
        "id": "PGQxmtcyp6-S"
      }
    },
    {
      "cell_type": "code",
      "source": [
        "!pip install torch==1.11.0+cu113 torchvision==0.12.0 torchtext==0.12.0 torchaudio==0.11.0 -f https://download.pytorch.org/whl/torch_stable.html"
      ],
      "metadata": {
        "colab": {
          "base_uri": "https://localhost:8080/"
        },
        "id": "VXXKOF0zp8X-",
        "outputId": "7b2c0bc1-3459-4ea1-91db-613901460609"
      },
      "execution_count": null,
      "outputs": [
        {
          "output_type": "stream",
          "name": "stdout",
          "text": [
            "Looking in indexes: https://pypi.org/simple, https://us-python.pkg.dev/colab-wheels/public/simple/\n",
            "Looking in links: https://download.pytorch.org/whl/torch_stable.html\n",
            "Collecting torch==1.11.0+cu113\n",
            "  Downloading https://download.pytorch.org/whl/cu113/torch-1.11.0%2Bcu113-cp37-cp37m-linux_x86_64.whl (1637.0 MB)\n",
            "\u001b[K     |████████████████▎               | 834.1 MB 97.8 MB/s eta 0:00:09tcmalloc: large alloc 1147494400 bytes == 0x39618000 @  0x7f4993265615 0x592b76 0x4df71e 0x59afff 0x515655 0x549576 0x593fce 0x548ae9 0x51566f 0x549576 0x593fce 0x548ae9 0x5127f1 0x598e3b 0x511f68 0x598e3b 0x511f68 0x598e3b 0x511f68 0x4bc98a 0x532e76 0x594b72 0x515600 0x549576 0x593fce 0x548ae9 0x5127f1 0x549576 0x593fce 0x5118f8 0x593dd7\n",
            "\u001b[K     |████████████████████▋           | 1055.7 MB 1.2 MB/s eta 0:08:19tcmalloc: large alloc 1434370048 bytes == 0x7dc6e000 @  0x7f4993265615 0x592b76 0x4df71e 0x59afff 0x515655 0x549576 0x593fce 0x548ae9 0x51566f 0x549576 0x593fce 0x548ae9 0x5127f1 0x598e3b 0x511f68 0x598e3b 0x511f68 0x598e3b 0x511f68 0x4bc98a 0x532e76 0x594b72 0x515600 0x549576 0x593fce 0x548ae9 0x5127f1 0x549576 0x593fce 0x5118f8 0x593dd7\n",
            "\u001b[K     |██████████████████████████▏     | 1336.2 MB 92.2 MB/s eta 0:00:04tcmalloc: large alloc 1792966656 bytes == 0x2aa0000 @  0x7f4993265615 0x592b76 0x4df71e 0x59afff 0x515655 0x549576 0x593fce 0x548ae9 0x51566f 0x549576 0x593fce 0x548ae9 0x5127f1 0x598e3b 0x511f68 0x598e3b 0x511f68 0x598e3b 0x511f68 0x4bc98a 0x532e76 0x594b72 0x515600 0x549576 0x593fce 0x548ae9 0x5127f1 0x549576 0x593fce 0x5118f8 0x593dd7\n",
            "\u001b[K     |████████████████████████████████| 1636.9 MB 1.1 MB/s eta 0:00:01tcmalloc: large alloc 1636958208 bytes == 0x6d888000 @  0x7f49932641e7 0x4a3940 0x4a39cc 0x592b76 0x4df71e 0x59afff 0x515655 0x549576 0x593fce 0x511e2c 0x549576 0x593fce 0x511e2c 0x549576 0x593fce 0x511e2c 0x549576 0x593fce 0x511e2c 0x549576 0x593fce 0x511e2c 0x593dd7 0x511e2c 0x549576 0x593fce 0x548ae9 0x5127f1 0x549576 0x593fce 0x548ae9\n",
            "tcmalloc: large alloc 2046197760 bytes == 0xcf1a8000 @  0x7f4993265615 0x592b76 0x4df71e 0x59afff 0x515655 0x549576 0x593fce 0x511e2c 0x549576 0x593fce 0x511e2c 0x549576 0x593fce 0x511e2c 0x549576 0x593fce 0x511e2c 0x549576 0x593fce 0x511e2c 0x593dd7 0x511e2c 0x549576 0x593fce 0x548ae9 0x5127f1 0x549576 0x593fce 0x548ae9 0x5127f1 0x549576\n",
            "\u001b[K     |████████████████████████████████| 1637.0 MB 6.5 kB/s \n",
            "\u001b[?25hCollecting torchvision==0.12.0\n",
            "  Downloading https://download.pytorch.org/whl/rocm4.5.2/torchvision-0.12.0%2Brocm4.5.2-cp37-cp37m-linux_x86_64.whl (66.4 MB)\n",
            "\u001b[K     |████████████████████████████████| 66.4 MB 1.2 MB/s \n",
            "\u001b[?25hCollecting torchtext==0.12.0\n",
            "  Downloading torchtext-0.12.0-cp37-cp37m-manylinux1_x86_64.whl (10.4 MB)\n",
            "\u001b[K     |████████████████████████████████| 10.4 MB 6.5 MB/s \n",
            "\u001b[?25hCollecting torchaudio==0.11.0\n",
            "  Downloading https://download.pytorch.org/whl/rocm4.5.2/torchaudio-0.11.0%2Brocm4.5.2-cp37-cp37m-linux_x86_64.whl (2.7 MB)\n",
            "\u001b[K     |████████████████████████████████| 2.7 MB 51.8 MB/s \n",
            "\u001b[?25hRequirement already satisfied: typing-extensions in /usr/local/lib/python3.7/dist-packages (from torch==1.11.0+cu113) (4.1.1)\n",
            "Requirement already satisfied: requests in /usr/local/lib/python3.7/dist-packages (from torchvision==0.12.0) (2.23.0)\n",
            "Requirement already satisfied: numpy in /usr/local/lib/python3.7/dist-packages (from torchvision==0.12.0) (1.21.6)\n",
            "Requirement already satisfied: pillow!=8.3.*,>=5.3.0 in /usr/local/lib/python3.7/dist-packages (from torchvision==0.12.0) (7.1.2)\n",
            "Requirement already satisfied: tqdm in /usr/local/lib/python3.7/dist-packages (from torchtext==0.12.0) (4.64.0)\n",
            "Requirement already satisfied: chardet<4,>=3.0.2 in /usr/local/lib/python3.7/dist-packages (from requests->torchvision==0.12.0) (3.0.4)\n",
            "Requirement already satisfied: urllib3!=1.25.0,!=1.25.1,<1.26,>=1.21.1 in /usr/local/lib/python3.7/dist-packages (from requests->torchvision==0.12.0) (1.24.3)\n",
            "Requirement already satisfied: certifi>=2017.4.17 in /usr/local/lib/python3.7/dist-packages (from requests->torchvision==0.12.0) (2022.6.15)\n",
            "Requirement already satisfied: idna<3,>=2.5 in /usr/local/lib/python3.7/dist-packages (from requests->torchvision==0.12.0) (2.10)\n",
            "Installing collected packages: torch, torchvision, torchtext, torchaudio\n",
            "  Attempting uninstall: torch\n",
            "    Found existing installation: torch 1.12.0+cu113\n",
            "    Uninstalling torch-1.12.0+cu113:\n",
            "      Successfully uninstalled torch-1.12.0+cu113\n",
            "  Attempting uninstall: torchvision\n",
            "    Found existing installation: torchvision 0.13.0+cu113\n",
            "    Uninstalling torchvision-0.13.0+cu113:\n",
            "      Successfully uninstalled torchvision-0.13.0+cu113\n",
            "  Attempting uninstall: torchtext\n",
            "    Found existing installation: torchtext 0.13.0\n",
            "    Uninstalling torchtext-0.13.0:\n",
            "      Successfully uninstalled torchtext-0.13.0\n",
            "  Attempting uninstall: torchaudio\n",
            "    Found existing installation: torchaudio 0.12.0+cu113\n",
            "    Uninstalling torchaudio-0.12.0+cu113:\n",
            "      Successfully uninstalled torchaudio-0.12.0+cu113\n",
            "Successfully installed torch-1.11.0+cu113 torchaudio-0.11.0+rocm4.5.2 torchtext-0.12.0 torchvision-0.12.0+rocm4.5.2\n"
          ]
        }
      ]
    },
    {
      "cell_type": "markdown",
      "source": [
        "##kaolin安装\n",
        "需要去终端如下配置：\n",
        "\n",
        "忽略torch版本检查及手动构建安装kaolin\n",
        "\n",
        "```\n",
        "export IGNORE_TORCH_VER=1//不必了\n",
        "python setup.py develop\n",
        "\n",
        "```\n",
        "\n"
      ],
      "metadata": {
        "id": "kUs5YEmuaqZT"
      }
    },
    {
      "cell_type": "code",
      "source": [
        "#!pip install kaolin\n",
        "!git clone --recursive https://github.com/NVIDIAGameWorks/kaolin\n",
        "#!git checkout v0.11.0\n",
        "#!export IGNORE_TORCH_VER=1\n",
        "\n",
        "#!python kaolin/setup.py develop\n",
        "#这里必须有一步cd kaolin，调用子目录会报错某文件找不到\n",
        "\n",
        "!python setup.py develop"
      ],
      "metadata": {
        "colab": {
          "base_uri": "https://localhost:8080/"
        },
        "id": "ZtUmtyczG0e4",
        "outputId": "933e57ec-96ea-401c-eced-fde5030e5c90"
      },
      "execution_count": 6,
      "outputs": [
        {
          "output_type": "stream",
          "name": "stdout",
          "text": [
            "fatal: destination path 'kaolin' already exists and is not an empty directory.\n",
            "python3: can't open file 'setup.py': [Errno 2] No such file or directory\n"
          ]
        }
      ]
    },
    {
      "cell_type": "markdown",
      "source": [
        "本来应用于生成ray cache数据，目前kaolin一直报错\n",
        "\n",
        "提了一个Issue：https://github.com/NVIDIAGameWorks/kaolin/issues/597"
      ],
      "metadata": {
        "id": "_sOfbxQZ0c6h"
      }
    },
    {
      "cell_type": "code",
      "source": [
        "!pip uninstall torchtext\n",
        "!pip install -U torchtext"
      ],
      "metadata": {
        "colab": {
          "base_uri": "https://localhost:8080/"
        },
        "id": "dHz89k29bKZs",
        "outputId": "3ca884b2-7a83-4b15-dc58-bc174470887c"
      },
      "execution_count": null,
      "outputs": [
        {
          "output_type": "stream",
          "name": "stdout",
          "text": [
            "\u001b[33mWARNING: Skipping torchtext as it is not installed.\u001b[0m\n",
            "Looking in indexes: https://pypi.org/simple, https://us-python.pkg.dev/colab-wheels/public/simple/\n",
            "Collecting torchtext\n",
            "  Using cached torchtext-0.13.0-cp37-cp37m-manylinux1_x86_64.whl (1.9 MB)\n",
            "Collecting torch==1.12.0\n",
            "  Downloading torch-1.12.0-cp37-cp37m-manylinux1_x86_64.whl (776.3 MB)\n",
            "\u001b[K     |████████████████████████████████| 776.3 MB 17 kB/s \n",
            "\u001b[?25hRequirement already satisfied: requests in /usr/local/lib/python3.7/dist-packages (from torchtext) (2.23.0)\n",
            "Requirement already satisfied: tqdm in /usr/local/lib/python3.7/dist-packages (from torchtext) (4.64.0)\n",
            "Requirement already satisfied: numpy in /usr/local/lib/python3.7/dist-packages (from torchtext) (1.21.6)\n",
            "Requirement already satisfied: typing-extensions in /usr/local/lib/python3.7/dist-packages (from torch==1.12.0->torchtext) (4.1.1)\n",
            "Requirement already satisfied: idna<3,>=2.5 in /usr/local/lib/python3.7/dist-packages (from requests->torchtext) (2.10)\n",
            "Requirement already satisfied: chardet<4,>=3.0.2 in /usr/local/lib/python3.7/dist-packages (from requests->torchtext) (3.0.4)\n",
            "Requirement already satisfied: certifi>=2017.4.17 in /usr/local/lib/python3.7/dist-packages (from requests->torchtext) (2022.6.15)\n",
            "Requirement already satisfied: urllib3!=1.25.0,!=1.25.1,<1.26,>=1.21.1 in /usr/local/lib/python3.7/dist-packages (from requests->torchtext) (1.24.3)\n",
            "Installing collected packages: torch, torchtext\n",
            "  Attempting uninstall: torch\n",
            "    Found existing installation: torch 1.11.0+rocm4.5.2\n",
            "    Uninstalling torch-1.11.0+rocm4.5.2:\n",
            "      Successfully uninstalled torch-1.11.0+rocm4.5.2\n",
            "\u001b[31mERROR: pip's dependency resolver does not currently take into account all the packages that are installed. This behaviour is the source of the following dependency conflicts.\n",
            "torchvision 0.12.0+rocm4.5.2 requires torch==1.11.0, but you have torch 1.12.0 which is incompatible.\n",
            "torchaudio 0.11.0 requires torch==1.11.0, but you have torch 1.12.0 which is incompatible.\u001b[0m\n",
            "Successfully installed torch-1.12.0 torchtext-0.13.0\n"
          ]
        }
      ]
    },
    {
      "cell_type": "code",
      "source": [
        "!pip install torchvision==0.13.0\n",
        "!pip install torchaudio==0.12.0"
      ],
      "metadata": {
        "colab": {
          "base_uri": "https://localhost:8080/"
        },
        "id": "bTZu3psMgtwM",
        "outputId": "dc63e085-f439-4160-e39e-f7f502eec78f"
      },
      "execution_count": null,
      "outputs": [
        {
          "output_type": "stream",
          "name": "stdout",
          "text": [
            "Looking in indexes: https://pypi.org/simple, https://us-python.pkg.dev/colab-wheels/public/simple/\n",
            "Collecting torchvision==0.13.0\n",
            "  Downloading torchvision-0.13.0-cp37-cp37m-manylinux1_x86_64.whl (19.1 MB)\n",
            "\u001b[K     |████████████████████████████████| 19.1 MB 524 kB/s \n",
            "\u001b[?25hRequirement already satisfied: requests in /usr/local/lib/python3.7/dist-packages (from torchvision==0.13.0) (2.23.0)\n",
            "Requirement already satisfied: numpy in /usr/local/lib/python3.7/dist-packages (from torchvision==0.13.0) (1.21.6)\n",
            "Requirement already satisfied: typing-extensions in /usr/local/lib/python3.7/dist-packages (from torchvision==0.13.0) (4.1.1)\n",
            "Requirement already satisfied: pillow!=8.3.*,>=5.3.0 in /usr/local/lib/python3.7/dist-packages (from torchvision==0.13.0) (7.1.2)\n",
            "Requirement already satisfied: torch==1.12.0 in /usr/local/lib/python3.7/dist-packages (from torchvision==0.13.0) (1.12.0)\n",
            "Requirement already satisfied: urllib3!=1.25.0,!=1.25.1,<1.26,>=1.21.1 in /usr/local/lib/python3.7/dist-packages (from requests->torchvision==0.13.0) (1.24.3)\n",
            "Requirement already satisfied: chardet<4,>=3.0.2 in /usr/local/lib/python3.7/dist-packages (from requests->torchvision==0.13.0) (3.0.4)\n",
            "Requirement already satisfied: certifi>=2017.4.17 in /usr/local/lib/python3.7/dist-packages (from requests->torchvision==0.13.0) (2022.6.15)\n",
            "Requirement already satisfied: idna<3,>=2.5 in /usr/local/lib/python3.7/dist-packages (from requests->torchvision==0.13.0) (2.10)\n",
            "Installing collected packages: torchvision\n",
            "  Attempting uninstall: torchvision\n",
            "    Found existing installation: torchvision 0.12.0+rocm4.5.2\n",
            "    Uninstalling torchvision-0.12.0+rocm4.5.2:\n",
            "      Successfully uninstalled torchvision-0.12.0+rocm4.5.2\n",
            "Successfully installed torchvision-0.13.0\n",
            "Looking in indexes: https://pypi.org/simple, https://us-python.pkg.dev/colab-wheels/public/simple/\n",
            "Collecting torchaudio==0.12.0\n",
            "  Downloading torchaudio-0.12.0-cp37-cp37m-manylinux1_x86_64.whl (3.7 MB)\n",
            "\u001b[K     |████████████████████████████████| 3.7 MB 7.0 MB/s \n",
            "\u001b[?25hRequirement already satisfied: torch==1.12.0 in /usr/local/lib/python3.7/dist-packages (from torchaudio==0.12.0) (1.12.0)\n",
            "Requirement already satisfied: typing-extensions in /usr/local/lib/python3.7/dist-packages (from torch==1.12.0->torchaudio==0.12.0) (4.1.1)\n",
            "Installing collected packages: torchaudio\n",
            "  Attempting uninstall: torchaudio\n",
            "    Found existing installation: torchaudio 0.11.0\n",
            "    Uninstalling torchaudio-0.11.0:\n",
            "      Successfully uninstalled torchaudio-0.11.0\n",
            "Successfully installed torchaudio-0.12.0\n"
          ]
        }
      ]
    },
    {
      "cell_type": "markdown",
      "source": [
        "###核心的data生成"
      ],
      "metadata": {
        "id": "kOlNvY3MmJY7"
      }
    },
    {
      "cell_type": "code",
      "source": [
        "!sh scripts/data_generation.sh data/heritage-recon/brandenburg_gate"
      ],
      "metadata": {
        "colab": {
          "base_uri": "https://localhost:8080/"
        },
        "id": "Lz6uOzg3FUfM",
        "outputId": "d0ec5ad2-5dee-4bd8-96b3-df3d2462b156"
      },
      "execution_count": 9,
      "outputs": [
        {
          "output_type": "stream",
          "name": "stdout",
          "text": [
            "+ set -u\n",
            "+ set -e\n",
            "+ date +%Y%m%d_%H%M%S\n",
            "+ now=20220729_082908\n",
            "+ pwd\n",
            "+ echo working directory is /content/drive/MyDrive/NeuralRecon-W-test\n",
            "working directory is /content/drive/MyDrive/NeuralRecon-W-test\n",
            "+ jobname=data-generation-data/heritage-recon/brandenburg_gate-20220729_082908\n",
            "+ export CUDA_VISIBLE_DEVICES=0\n",
            "+ dataset_name=phototourism\n",
            "+ cache_dir=cache_sgs\n",
            "+ root_dir=data/heritage-recon/brandenburg_gate\n",
            "+ min_observation=-1\n",
            "+ [ ! -f data/heritage-recon/brandenburg_gate/brandenburg_gate.tsv ]\n",
            "+ python tools/prepare_data/prepare_data_cache.py --root_dir data/heritage-recon/brandenburg_gate --dataset_name phototourism --cache_dir cache_sgs --img_downscale 1 --semantic_map_path semantic_maps --split_to_chunks 64\n",
            "+ tee log/data-generation-data/heritage-recon/brandenburg_gate-20220729_082908.log\n",
            "INFO - 2022-07-29 08:29:10,030 - utils - NumExpr defaulting to 4 threads.\n",
            "INFO - 2022-07-29 08:29:11,536 - rasterization - Cannot import nvdiffrast\n",
            "Preparing cache for scale 1...\n",
            "reading sfm result from sparse...\n",
            "Note: training near far will generate from sparse voxel!!!!\n",
            "Reading images.bin..\n",
            "Reading cameras.bin..\n",
            "Compute c2w poses..\n",
            "Generating rays and rgbs..\n",
            "100%|██████████| 100040/100040 [00:01<00:00, 90700.98it/s]\n",
            "2022-07-29 08:29:33.546 | DEBUG    | tools.prepare_data.generate_voxel:gen_octree_from_sfm:60 - Points filtered from raw point cloud: 27595/100040\n",
            "2022-07-29 08:29:34.216 | DEBUG    | tools.prepare_data.generate_voxel:gen_octree:125 - number of points for voxel generation: 725832/744660\n",
            "2022-07-29 08:29:35.709 | DEBUG    | tools.prepare_data.generate_voxel:gen_octree:147 - level: 5 for expected voxel size: 0.25\n",
            "2022-07-29 08:29:37.337 | DEBUG    | tools.prepare_data.generate_voxel:gen_octree_from_sfm:60 - Points filtered from raw point cloud: 27595/100040\n",
            "2022-07-29 08:29:56.869 | DEBUG    | tools.prepare_data.generate_voxel:gen_octree:125 - number of points for voxel generation: 3862151/3893596\n",
            "2022-07-29 08:29:56.891 | DEBUG    | tools.prepare_data.generate_voxel:gen_octree:147 - level: 5 for expected voxel size: 0.25\n",
            "Mean Projection Error: tensor(0.8717)\n",
            "  0%|          | 0/1353 [00:00<?, ?it/s]/usr/local/lib/python3.7/dist-packages/torch/functional.py:478: UserWarning: torch.meshgrid: in an upcoming release, it will be required to pass the indexing argument. (Triggered internally at  ../aten/src/ATen/native/TensorShape.cpp:2894.)\n",
            "  return _VF.meshgrid(tensors, **kwargs)  # type: ignore[attr-defined]\n",
            "\n",
            "100%|██████████| 8/8 [00:00<00:00, 239.58it/s]\n",
            "[WARNING] batch has 0 intersections!!\n",
            "[WARNING] batch has 0 intersections!!\n",
            "\n",
            "100%|██████████| 8/8 [00:00<00:00, 249.55it/s]\n",
            "  0%|          | 1/1353 [00:11<4:10:37, 11.12s/it]padding valid depth percentage: from 0.002214974199201636 to 0.2 with padding 101573\n",
            "sample depth percent after padding: 0.205078125\n",
            "\n",
            "100%|██████████| 8/8 [00:00<00:00, 302.14it/s]\n",
            "[WARNING] batch has 0 intersections!!\n",
            "\n",
            "100%|██████████| 8/8 [00:00<00:00, 269.26it/s]\n",
            "  0%|          | 2/1353 [00:12<1:57:17,  5.21s/it][WARNING] batch has 0 intersections!!\n",
            "padding valid depth percentage: from 0.0023015825260244297 to 0.2 with padding 114995\n",
            "sample depth percent after padding: 0.203125\n",
            "\n",
            "100%|██████████| 8/8 [00:00<00:00, 286.11it/s]\n",
            "[WARNING] batch has 0 intersections!!\n",
            "\n",
            "100%|██████████| 8/8 [00:00<00:00, 232.53it/s]\n",
            "  0%|          | 3/1353 [00:13<1:12:49,  3.24s/it]padding valid depth percentage: from 0.0028585739947492054 to 0.2 with padding 114137\n",
            "sample depth percent after padding: 0.18359375\n",
            "\n",
            "100%|██████████| 5/5 [00:00<00:00, 270.04it/s]\n",
            "\n",
            "100%|██████████| 5/5 [00:00<00:00, 1133.29it/s]\n",
            "  0%|          | 4/1353 [00:14<53:07,  2.36s/it]  [WARNING] batch has 0 intersections!!\n",
            "[WARNING] batch has 0 intersections!!\n",
            "[WARNING] batch has 0 intersections!!\n",
            "[WARNING] batch has 0 intersections!!\n",
            "[WARNING] batch has 0 intersections!!\n",
            "padding valid depth percentage: from 0.003792845762305599 to 0.2 with padding 104367\n",
            "sample depth percent after padding: 0.205078125\n",
            "\n",
            "100%|██████████| 8/8 [00:00<00:00, 1114.28it/s]\n",
            "[WARNING] batch has 0 intersections!!\n",
            "[WARNING] batch has 0 intersections!!\n",
            "[WARNING] batch has 0 intersections!!\n",
            "[WARNING] batch has 0 intersections!!\n",
            "[WARNING] batch has 0 intersections!!\n",
            "[WARNING] batch has 0 intersections!!\n",
            "[WARNING] batch has 0 intersections!!\n",
            "[WARNING] batch has 0 intersections!!\n",
            "\n",
            "100%|██████████| 8/8 [00:00<00:00, 1179.83it/s]\n",
            "  0%|          | 4/1353 [00:14<1:23:05,  3.70s/it]\n",
            "[WARNING] batch has 0 intersections!!\n",
            "[WARNING] batch has 0 intersections!!\n",
            "[WARNING] batch has 0 intersections!!\n",
            "[WARNING] batch has 0 intersections!!\n",
            "[WARNING] batch has 0 intersections!!\n",
            "[WARNING] batch has 0 intersections!!\n",
            "[WARNING] batch has 0 intersections!!\n",
            "[WARNING] batch has 0 intersections!!\n",
            "Traceback (most recent call last):\n",
            "  File \"tools/prepare_data/prepare_data_cache.py\", line 176, in <module>\n",
            "    dataset = dataset_dict[args.dataset_name](**kwargs)\n",
            "  File \"./datasets/phototourism.py\", line 125, in __init__\n",
            "    self.read_meta()\n",
            "  File \"./datasets/phototourism.py\", line 669, in read_meta\n",
            "    curent_percent = valid_num / current_len\n",
            "ZeroDivisionError: division by zero\n"
          ]
        }
      ]
    },
    {
      "cell_type": "code",
      "source": [
        "!pip install open3d==0.12.0\n",
        "!pip install kornia==0.4.1\n",
        "!pip install loguru\n",
        "!pip install torch_optimizer\n",
        "!pip install trimesh==3.9.1\n",
        "!pip install kaolin\n",
        "!pip install cython==0.29.20\n",
        "!pip install tornado==5.1.0\n",
        "\n",
        "\n",
        "#!pip install"
      ],
      "metadata": {
        "colab": {
          "base_uri": "https://localhost:8080/",
          "height": 1000
        },
        "id": "VTOaCOQoW_ti",
        "outputId": "ef30bd2d-f6a9-403f-ae63-c19445ecb2b9"
      },
      "execution_count": 4,
      "outputs": [
        {
          "output_type": "stream",
          "name": "stdout",
          "text": [
            "Looking in indexes: https://pypi.org/simple, https://us-python.pkg.dev/colab-wheels/public/simple/\n",
            "Requirement already satisfied: open3d==0.12.0 in /usr/local/lib/python3.7/dist-packages (0.12.0)\n",
            "Requirement already satisfied: widgetsnbextension in /usr/local/lib/python3.7/dist-packages (from open3d==0.12.0) (3.6.1)\n",
            "Requirement already satisfied: numpy in /usr/local/lib/python3.7/dist-packages (from open3d==0.12.0) (1.21.6)\n",
            "Requirement already satisfied: matplotlib in /usr/local/lib/python3.7/dist-packages (from open3d==0.12.0) (3.2.2)\n",
            "Requirement already satisfied: pyyaml in /usr/local/lib/python3.7/dist-packages (from open3d==0.12.0) (3.13)\n",
            "Requirement already satisfied: addict in /usr/local/lib/python3.7/dist-packages (from open3d==0.12.0) (2.4.0)\n",
            "Requirement already satisfied: plyfile in /usr/local/lib/python3.7/dist-packages (from open3d==0.12.0) (0.7.4)\n",
            "Requirement already satisfied: sklearn in /usr/local/lib/python3.7/dist-packages (from open3d==0.12.0) (0.0)\n",
            "Requirement already satisfied: notebook in /usr/local/lib/python3.7/dist-packages (from open3d==0.12.0) (5.3.1)\n",
            "Requirement already satisfied: tqdm in /usr/local/lib/python3.7/dist-packages (from open3d==0.12.0) (4.64.0)\n",
            "Requirement already satisfied: ipywidgets in /usr/local/lib/python3.7/dist-packages (from open3d==0.12.0) (7.7.1)\n",
            "Requirement already satisfied: pandas in /usr/local/lib/python3.7/dist-packages (from open3d==0.12.0) (1.3.5)\n",
            "Requirement already satisfied: ipython>=4.0.0 in /usr/local/lib/python3.7/dist-packages (from ipywidgets->open3d==0.12.0) (5.5.0)\n",
            "Requirement already satisfied: jupyterlab-widgets>=1.0.0 in /usr/local/lib/python3.7/dist-packages (from ipywidgets->open3d==0.12.0) (1.1.1)\n",
            "Requirement already satisfied: ipykernel>=4.5.1 in /usr/local/lib/python3.7/dist-packages (from ipywidgets->open3d==0.12.0) (4.10.1)\n",
            "Requirement already satisfied: traitlets>=4.3.1 in /usr/local/lib/python3.7/dist-packages (from ipywidgets->open3d==0.12.0) (5.1.1)\n",
            "Requirement already satisfied: ipython-genutils~=0.2.0 in /usr/local/lib/python3.7/dist-packages (from ipywidgets->open3d==0.12.0) (0.2.0)\n",
            "Requirement already satisfied: tornado>=4.0 in /usr/local/lib/python3.7/dist-packages (from ipykernel>=4.5.1->ipywidgets->open3d==0.12.0) (5.1)\n",
            "Requirement already satisfied: jupyter-client in /usr/local/lib/python3.7/dist-packages (from ipykernel>=4.5.1->ipywidgets->open3d==0.12.0) (5.3.5)\n",
            "Requirement already satisfied: simplegeneric>0.8 in /usr/local/lib/python3.7/dist-packages (from ipython>=4.0.0->ipywidgets->open3d==0.12.0) (0.8.1)\n",
            "Requirement already satisfied: prompt-toolkit<2.0.0,>=1.0.4 in /usr/local/lib/python3.7/dist-packages (from ipython>=4.0.0->ipywidgets->open3d==0.12.0) (1.0.18)\n",
            "Requirement already satisfied: pexpect in /usr/local/lib/python3.7/dist-packages (from ipython>=4.0.0->ipywidgets->open3d==0.12.0) (4.8.0)\n",
            "Requirement already satisfied: pickleshare in /usr/local/lib/python3.7/dist-packages (from ipython>=4.0.0->ipywidgets->open3d==0.12.0) (0.7.5)\n",
            "Requirement already satisfied: decorator in /usr/local/lib/python3.7/dist-packages (from ipython>=4.0.0->ipywidgets->open3d==0.12.0) (4.4.2)\n",
            "Requirement already satisfied: pygments in /usr/local/lib/python3.7/dist-packages (from ipython>=4.0.0->ipywidgets->open3d==0.12.0) (2.6.1)\n",
            "Requirement already satisfied: setuptools>=18.5 in /usr/local/lib/python3.7/dist-packages (from ipython>=4.0.0->ipywidgets->open3d==0.12.0) (57.4.0)\n",
            "Requirement already satisfied: wcwidth in /usr/local/lib/python3.7/dist-packages (from prompt-toolkit<2.0.0,>=1.0.4->ipython>=4.0.0->ipywidgets->open3d==0.12.0) (0.2.5)\n",
            "Requirement already satisfied: six>=1.9.0 in /usr/local/lib/python3.7/dist-packages (from prompt-toolkit<2.0.0,>=1.0.4->ipython>=4.0.0->ipywidgets->open3d==0.12.0) (1.15.0)\n",
            "Requirement already satisfied: jinja2 in /usr/local/lib/python3.7/dist-packages (from notebook->open3d==0.12.0) (3.1.2)\n",
            "Requirement already satisfied: terminado>=0.8.1 in /usr/local/lib/python3.7/dist-packages (from notebook->open3d==0.12.0) (0.13.3)\n",
            "Requirement already satisfied: nbformat in /usr/local/lib/python3.7/dist-packages (from notebook->open3d==0.12.0) (5.4.0)\n",
            "Requirement already satisfied: nbconvert in /usr/local/lib/python3.7/dist-packages (from notebook->open3d==0.12.0) (5.6.1)\n",
            "Requirement already satisfied: Send2Trash in /usr/local/lib/python3.7/dist-packages (from notebook->open3d==0.12.0) (1.8.0)\n",
            "Requirement already satisfied: jupyter-core>=4.4.0 in /usr/local/lib/python3.7/dist-packages (from notebook->open3d==0.12.0) (4.11.1)\n",
            "Requirement already satisfied: python-dateutil>=2.1 in /usr/local/lib/python3.7/dist-packages (from jupyter-client->ipykernel>=4.5.1->ipywidgets->open3d==0.12.0) (2.8.2)\n",
            "Requirement already satisfied: pyzmq>=13 in /usr/local/lib/python3.7/dist-packages (from jupyter-client->ipykernel>=4.5.1->ipywidgets->open3d==0.12.0) (23.2.0)\n",
            "Requirement already satisfied: ptyprocess in /usr/local/lib/python3.7/dist-packages (from terminado>=0.8.1->notebook->open3d==0.12.0) (0.7.0)\n",
            "Requirement already satisfied: MarkupSafe>=2.0 in /usr/local/lib/python3.7/dist-packages (from jinja2->notebook->open3d==0.12.0) (2.1.1)\n",
            "Requirement already satisfied: kiwisolver>=1.0.1 in /usr/local/lib/python3.7/dist-packages (from matplotlib->open3d==0.12.0) (1.4.4)\n",
            "Requirement already satisfied: cycler>=0.10 in /usr/local/lib/python3.7/dist-packages (from matplotlib->open3d==0.12.0) (0.11.0)\n",
            "Requirement already satisfied: pyparsing!=2.0.4,!=2.1.2,!=2.1.6,>=2.0.1 in /usr/local/lib/python3.7/dist-packages (from matplotlib->open3d==0.12.0) (3.0.9)\n",
            "Requirement already satisfied: typing-extensions in /usr/local/lib/python3.7/dist-packages (from kiwisolver>=1.0.1->matplotlib->open3d==0.12.0) (4.1.1)\n",
            "Requirement already satisfied: pandocfilters>=1.4.1 in /usr/local/lib/python3.7/dist-packages (from nbconvert->notebook->open3d==0.12.0) (1.5.0)\n",
            "Requirement already satisfied: defusedxml in /usr/local/lib/python3.7/dist-packages (from nbconvert->notebook->open3d==0.12.0) (0.7.1)\n",
            "Requirement already satisfied: entrypoints>=0.2.2 in /usr/local/lib/python3.7/dist-packages (from nbconvert->notebook->open3d==0.12.0) (0.4)\n",
            "Requirement already satisfied: testpath in /usr/local/lib/python3.7/dist-packages (from nbconvert->notebook->open3d==0.12.0) (0.6.0)\n",
            "Requirement already satisfied: bleach in /usr/local/lib/python3.7/dist-packages (from nbconvert->notebook->open3d==0.12.0) (5.0.1)\n",
            "Requirement already satisfied: mistune<2,>=0.8.1 in /usr/local/lib/python3.7/dist-packages (from nbconvert->notebook->open3d==0.12.0) (0.8.4)\n",
            "Requirement already satisfied: jsonschema>=2.6 in /usr/local/lib/python3.7/dist-packages (from nbformat->notebook->open3d==0.12.0) (4.3.3)\n",
            "Requirement already satisfied: fastjsonschema in /usr/local/lib/python3.7/dist-packages (from nbformat->notebook->open3d==0.12.0) (2.16.1)\n",
            "Requirement already satisfied: attrs>=17.4.0 in /usr/local/lib/python3.7/dist-packages (from jsonschema>=2.6->nbformat->notebook->open3d==0.12.0) (21.4.0)\n",
            "Requirement already satisfied: pyrsistent!=0.17.0,!=0.17.1,!=0.17.2,>=0.14.0 in /usr/local/lib/python3.7/dist-packages (from jsonschema>=2.6->nbformat->notebook->open3d==0.12.0) (0.18.1)\n",
            "Requirement already satisfied: importlib-resources>=1.4.0 in /usr/local/lib/python3.7/dist-packages (from jsonschema>=2.6->nbformat->notebook->open3d==0.12.0) (5.9.0)\n",
            "Requirement already satisfied: importlib-metadata in /usr/local/lib/python3.7/dist-packages (from jsonschema>=2.6->nbformat->notebook->open3d==0.12.0) (4.12.0)\n",
            "Requirement already satisfied: zipp>=3.1.0 in /usr/local/lib/python3.7/dist-packages (from importlib-resources>=1.4.0->jsonschema>=2.6->nbformat->notebook->open3d==0.12.0) (3.8.1)\n",
            "Requirement already satisfied: webencodings in /usr/local/lib/python3.7/dist-packages (from bleach->nbconvert->notebook->open3d==0.12.0) (0.5.1)\n",
            "Requirement already satisfied: pytz>=2017.3 in /usr/local/lib/python3.7/dist-packages (from pandas->open3d==0.12.0) (2022.1)\n",
            "Requirement already satisfied: scikit-learn in /usr/local/lib/python3.7/dist-packages (from sklearn->open3d==0.12.0) (1.0.2)\n",
            "Requirement already satisfied: scipy>=1.1.0 in /usr/local/lib/python3.7/dist-packages (from scikit-learn->sklearn->open3d==0.12.0) (1.5.2)\n",
            "Requirement already satisfied: threadpoolctl>=2.0.0 in /usr/local/lib/python3.7/dist-packages (from scikit-learn->sklearn->open3d==0.12.0) (3.1.0)\n",
            "Requirement already satisfied: joblib>=0.11 in /usr/local/lib/python3.7/dist-packages (from scikit-learn->sklearn->open3d==0.12.0) (1.1.0)\n",
            "Looking in indexes: https://pypi.org/simple, https://us-python.pkg.dev/colab-wheels/public/simple/\n",
            "Requirement already satisfied: kornia==0.4.1 in /usr/local/lib/python3.7/dist-packages (0.4.1)\n",
            "Requirement already satisfied: torch>=1.6.0 in /usr/local/lib/python3.7/dist-packages (from kornia==0.4.1) (1.12.0+cu113)\n",
            "Requirement already satisfied: numpy in /usr/local/lib/python3.7/dist-packages (from kornia==0.4.1) (1.21.6)\n",
            "Requirement already satisfied: typing-extensions in /usr/local/lib/python3.7/dist-packages (from torch>=1.6.0->kornia==0.4.1) (4.1.1)\n",
            "Looking in indexes: https://pypi.org/simple, https://us-python.pkg.dev/colab-wheels/public/simple/\n",
            "Requirement already satisfied: loguru in /usr/local/lib/python3.7/dist-packages (0.6.0)\n",
            "Looking in indexes: https://pypi.org/simple, https://us-python.pkg.dev/colab-wheels/public/simple/\n",
            "Requirement already satisfied: torch_optimizer in /usr/local/lib/python3.7/dist-packages (0.3.0)\n",
            "Requirement already satisfied: pytorch-ranger>=0.1.1 in /usr/local/lib/python3.7/dist-packages (from torch_optimizer) (0.1.1)\n",
            "Requirement already satisfied: torch>=1.5.0 in /usr/local/lib/python3.7/dist-packages (from torch_optimizer) (1.12.0+cu113)\n",
            "Requirement already satisfied: typing-extensions in /usr/local/lib/python3.7/dist-packages (from torch>=1.5.0->torch_optimizer) (4.1.1)\n",
            "Looking in indexes: https://pypi.org/simple, https://us-python.pkg.dev/colab-wheels/public/simple/\n",
            "Requirement already satisfied: trimesh==3.9.1 in /usr/local/lib/python3.7/dist-packages (3.9.1)\n",
            "Requirement already satisfied: numpy in /usr/local/lib/python3.7/dist-packages (from trimesh==3.9.1) (1.21.6)\n",
            "Requirement already satisfied: setuptools in /usr/local/lib/python3.7/dist-packages (from trimesh==3.9.1) (57.4.0)\n",
            "Looking in indexes: https://pypi.org/simple, https://us-python.pkg.dev/colab-wheels/public/simple/\n",
            "Requirement already satisfied: kaolin in /usr/local/lib/python3.7/dist-packages (0.11.0)\n",
            "Requirement already satisfied: scipy<=1.5.2,>=1.2.0 in /usr/local/lib/python3.7/dist-packages (from kaolin) (1.5.2)\n",
            "Requirement already satisfied: flask==2.0.3 in /usr/local/lib/python3.7/dist-packages (from kaolin) (2.0.3)\n",
            "Requirement already satisfied: Pillow>=8.0.0 in /usr/local/lib/python3.7/dist-packages (from kaolin) (9.2.0)\n",
            "Collecting tornado==6.1\n",
            "  Using cached tornado-6.1-cp37-cp37m-manylinux2010_x86_64.whl (428 kB)\n",
            "Requirement already satisfied: tqdm>=4.51.0 in /usr/local/lib/python3.7/dist-packages (from kaolin) (4.64.0)\n",
            "Requirement already satisfied: usd-core>=20.11 in /usr/local/lib/python3.7/dist-packages (from kaolin) (22.8)\n",
            "Requirement already satisfied: click>=7.1.2 in /usr/local/lib/python3.7/dist-packages (from flask==2.0.3->kaolin) (7.1.2)\n",
            "Requirement already satisfied: Jinja2>=3.0 in /usr/local/lib/python3.7/dist-packages (from flask==2.0.3->kaolin) (3.1.2)\n",
            "Requirement already satisfied: Werkzeug>=2.0 in /usr/local/lib/python3.7/dist-packages (from flask==2.0.3->kaolin) (2.2.1)\n",
            "Requirement already satisfied: itsdangerous>=2.0 in /usr/local/lib/python3.7/dist-packages (from flask==2.0.3->kaolin) (2.1.2)\n",
            "Requirement already satisfied: MarkupSafe>=2.0 in /usr/local/lib/python3.7/dist-packages (from Jinja2>=3.0->flask==2.0.3->kaolin) (2.1.1)\n",
            "Requirement already satisfied: numpy>=1.14.5 in /usr/local/lib/python3.7/dist-packages (from scipy<=1.5.2,>=1.2.0->kaolin) (1.21.6)\n",
            "Installing collected packages: tornado\n",
            "  Attempting uninstall: tornado\n",
            "    Found existing installation: tornado 5.1\n",
            "    Uninstalling tornado-5.1:\n",
            "      Successfully uninstalled tornado-5.1\n",
            "\u001b[31mERROR: pip's dependency resolver does not currently take into account all the packages that are installed. This behaviour is the source of the following dependency conflicts.\n",
            "google-colab 1.0.0 requires tornado~=5.1.0, but you have tornado 6.1 which is incompatible.\u001b[0m\n",
            "Successfully installed tornado-6.1\n"
          ]
        },
        {
          "output_type": "display_data",
          "data": {
            "application/vnd.colab-display-data+json": {
              "pip_warning": {
                "packages": [
                  "tornado"
                ]
              }
            }
          },
          "metadata": {}
        },
        {
          "output_type": "stream",
          "name": "stdout",
          "text": [
            "Looking in indexes: https://pypi.org/simple, https://us-python.pkg.dev/colab-wheels/public/simple/\n",
            "Requirement already satisfied: cython==0.29.20 in /usr/local/lib/python3.7/dist-packages (0.29.20)\n",
            "Looking in indexes: https://pypi.org/simple, https://us-python.pkg.dev/colab-wheels/public/simple/\n",
            "Collecting tornado==5.1.0\n",
            "  Using cached tornado-5.1-cp37-cp37m-linux_x86_64.whl\n",
            "Installing collected packages: tornado\n",
            "  Attempting uninstall: tornado\n",
            "    Found existing installation: tornado 6.1\n",
            "    Uninstalling tornado-6.1:\n",
            "      Successfully uninstalled tornado-6.1\n",
            "\u001b[31mERROR: pip's dependency resolver does not currently take into account all the packages that are installed. This behaviour is the source of the following dependency conflicts.\n",
            "kaolin 0.11.0 requires tornado==6.1, but you have tornado 5.1 which is incompatible.\u001b[0m\n",
            "Successfully installed tornado-5.1\n"
          ]
        },
        {
          "output_type": "display_data",
          "data": {
            "application/vnd.colab-display-data+json": {
              "pip_warning": {
                "packages": [
                  "tornado"
                ]
              }
            }
          },
          "metadata": {}
        }
      ]
    },
    {
      "cell_type": "code",
      "source": [
        "!pip install lpips==0.1.3\n",
        "!pip install torchmetrics==0.7.0\n",
        "!pip install yacs\n",
        "!pip install test-tube==0.7.5"
      ],
      "metadata": {
        "colab": {
          "base_uri": "https://localhost:8080/"
        },
        "id": "BtWl0vqQmp-y",
        "outputId": "6091d575-2b81-4407-f649-e81b506535cc"
      },
      "execution_count": 7,
      "outputs": [
        {
          "output_type": "stream",
          "name": "stdout",
          "text": [
            "Looking in indexes: https://pypi.org/simple, https://us-python.pkg.dev/colab-wheels/public/simple/\n",
            "Requirement already satisfied: lpips==0.1.3 in /usr/local/lib/python3.7/dist-packages (0.1.3)\n",
            "Looking in indexes: https://pypi.org/simple, https://us-python.pkg.dev/colab-wheels/public/simple/\n",
            "Requirement already satisfied: torchmetrics==0.7.0 in /usr/local/lib/python3.7/dist-packages (0.7.0)\n",
            "Requirement already satisfied: packaging in /usr/local/lib/python3.7/dist-packages (from torchmetrics==0.7.0) (21.3)\n",
            "Requirement already satisfied: pyDeprecate==0.3.* in /usr/local/lib/python3.7/dist-packages (from torchmetrics==0.7.0) (0.3.1)\n",
            "Requirement already satisfied: numpy>=1.17.2 in /usr/local/lib/python3.7/dist-packages (from torchmetrics==0.7.0) (1.21.6)\n",
            "Requirement already satisfied: torch>=1.3.1 in /usr/local/lib/python3.7/dist-packages (from torchmetrics==0.7.0) (1.12.0+cu113)\n",
            "Requirement already satisfied: typing-extensions in /usr/local/lib/python3.7/dist-packages (from torch>=1.3.1->torchmetrics==0.7.0) (4.1.1)\n",
            "Requirement already satisfied: pyparsing!=3.0.5,>=2.0.2 in /usr/local/lib/python3.7/dist-packages (from packaging->torchmetrics==0.7.0) (3.0.9)\n",
            "Looking in indexes: https://pypi.org/simple, https://us-python.pkg.dev/colab-wheels/public/simple/\n",
            "Requirement already satisfied: yacs in /usr/local/lib/python3.7/dist-packages (0.1.8)\n",
            "Requirement already satisfied: PyYAML in /usr/local/lib/python3.7/dist-packages (from yacs) (6.0)\n",
            "Looking in indexes: https://pypi.org/simple, https://us-python.pkg.dev/colab-wheels/public/simple/\n",
            "Collecting test-tube==0.7.5\n",
            "  Downloading test_tube-0.7.5.tar.gz (21 kB)\n",
            "Requirement already satisfied: pandas>=0.20.3 in /usr/local/lib/python3.7/dist-packages (from test-tube==0.7.5) (1.3.5)\n",
            "Requirement already satisfied: numpy>=1.13.3 in /usr/local/lib/python3.7/dist-packages (from test-tube==0.7.5) (1.21.6)\n",
            "Requirement already satisfied: imageio>=2.3.0 in /usr/local/lib/python3.7/dist-packages (from test-tube==0.7.5) (2.4.1)\n",
            "Requirement already satisfied: tensorboard>=1.15.0 in /usr/local/lib/python3.7/dist-packages (from test-tube==0.7.5) (2.9.1)\n",
            "Requirement already satisfied: torch>=1.1.0 in /usr/local/lib/python3.7/dist-packages (from test-tube==0.7.5) (1.12.0+cu113)\n",
            "Requirement already satisfied: future in /usr/local/lib/python3.7/dist-packages (from test-tube==0.7.5) (0.18.2)\n",
            "Requirement already satisfied: pillow in /usr/local/lib/python3.7/dist-packages (from imageio>=2.3.0->test-tube==0.7.5) (9.2.0)\n",
            "Requirement already satisfied: python-dateutil>=2.7.3 in /usr/local/lib/python3.7/dist-packages (from pandas>=0.20.3->test-tube==0.7.5) (2.8.2)\n",
            "Requirement already satisfied: pytz>=2017.3 in /usr/local/lib/python3.7/dist-packages (from pandas>=0.20.3->test-tube==0.7.5) (2022.1)\n",
            "Requirement already satisfied: six>=1.5 in /usr/local/lib/python3.7/dist-packages (from python-dateutil>=2.7.3->pandas>=0.20.3->test-tube==0.7.5) (1.15.0)\n",
            "Requirement already satisfied: requests<3,>=2.21.0 in /usr/local/lib/python3.7/dist-packages (from tensorboard>=1.15.0->test-tube==0.7.5) (2.28.1)\n",
            "Requirement already satisfied: werkzeug>=1.0.1 in /usr/local/lib/python3.7/dist-packages (from tensorboard>=1.15.0->test-tube==0.7.5) (2.2.1)\n",
            "Requirement already satisfied: tensorboard-data-server<0.7.0,>=0.6.0 in /usr/local/lib/python3.7/dist-packages (from tensorboard>=1.15.0->test-tube==0.7.5) (0.6.1)\n",
            "Requirement already satisfied: protobuf<3.20,>=3.9.2 in /usr/local/lib/python3.7/dist-packages (from tensorboard>=1.15.0->test-tube==0.7.5) (3.17.3)\n",
            "Requirement already satisfied: google-auth<3,>=1.6.3 in /usr/local/lib/python3.7/dist-packages (from tensorboard>=1.15.0->test-tube==0.7.5) (1.35.0)\n",
            "Requirement already satisfied: grpcio>=1.24.3 in /usr/local/lib/python3.7/dist-packages (from tensorboard>=1.15.0->test-tube==0.7.5) (1.47.0)\n",
            "Requirement already satisfied: markdown>=2.6.8 in /usr/local/lib/python3.7/dist-packages (from tensorboard>=1.15.0->test-tube==0.7.5) (3.4.1)\n",
            "Requirement already satisfied: wheel>=0.26 in /usr/local/lib/python3.7/dist-packages (from tensorboard>=1.15.0->test-tube==0.7.5) (0.37.1)\n",
            "Requirement already satisfied: google-auth-oauthlib<0.5,>=0.4.1 in /usr/local/lib/python3.7/dist-packages (from tensorboard>=1.15.0->test-tube==0.7.5) (0.4.6)\n",
            "Requirement already satisfied: absl-py>=0.4 in /usr/local/lib/python3.7/dist-packages (from tensorboard>=1.15.0->test-tube==0.7.5) (1.2.0)\n",
            "Requirement already satisfied: setuptools>=41.0.0 in /usr/local/lib/python3.7/dist-packages (from tensorboard>=1.15.0->test-tube==0.7.5) (57.4.0)\n",
            "Requirement already satisfied: tensorboard-plugin-wit>=1.6.0 in /usr/local/lib/python3.7/dist-packages (from tensorboard>=1.15.0->test-tube==0.7.5) (1.8.1)\n",
            "Requirement already satisfied: rsa<5,>=3.1.4 in /usr/local/lib/python3.7/dist-packages (from google-auth<3,>=1.6.3->tensorboard>=1.15.0->test-tube==0.7.5) (4.9)\n",
            "Requirement already satisfied: cachetools<5.0,>=2.0.0 in /usr/local/lib/python3.7/dist-packages (from google-auth<3,>=1.6.3->tensorboard>=1.15.0->test-tube==0.7.5) (4.2.4)\n",
            "Requirement already satisfied: pyasn1-modules>=0.2.1 in /usr/local/lib/python3.7/dist-packages (from google-auth<3,>=1.6.3->tensorboard>=1.15.0->test-tube==0.7.5) (0.2.8)\n",
            "Requirement already satisfied: requests-oauthlib>=0.7.0 in /usr/local/lib/python3.7/dist-packages (from google-auth-oauthlib<0.5,>=0.4.1->tensorboard>=1.15.0->test-tube==0.7.5) (1.3.1)\n",
            "Requirement already satisfied: importlib-metadata>=4.4 in /usr/local/lib/python3.7/dist-packages (from markdown>=2.6.8->tensorboard>=1.15.0->test-tube==0.7.5) (4.12.0)\n",
            "Requirement already satisfied: typing-extensions>=3.6.4 in /usr/local/lib/python3.7/dist-packages (from importlib-metadata>=4.4->markdown>=2.6.8->tensorboard>=1.15.0->test-tube==0.7.5) (4.1.1)\n",
            "Requirement already satisfied: zipp>=0.5 in /usr/local/lib/python3.7/dist-packages (from importlib-metadata>=4.4->markdown>=2.6.8->tensorboard>=1.15.0->test-tube==0.7.5) (3.8.1)\n",
            "Requirement already satisfied: pyasn1<0.5.0,>=0.4.6 in /usr/local/lib/python3.7/dist-packages (from pyasn1-modules>=0.2.1->google-auth<3,>=1.6.3->tensorboard>=1.15.0->test-tube==0.7.5) (0.4.8)\n",
            "Requirement already satisfied: urllib3<1.27,>=1.21.1 in /usr/local/lib/python3.7/dist-packages (from requests<3,>=2.21.0->tensorboard>=1.15.0->test-tube==0.7.5) (1.25.11)\n",
            "Requirement already satisfied: idna<4,>=2.5 in /usr/local/lib/python3.7/dist-packages (from requests<3,>=2.21.0->tensorboard>=1.15.0->test-tube==0.7.5) (2.10)\n",
            "Requirement already satisfied: charset-normalizer<3,>=2 in /usr/local/lib/python3.7/dist-packages (from requests<3,>=2.21.0->tensorboard>=1.15.0->test-tube==0.7.5) (2.1.0)\n",
            "Requirement already satisfied: certifi>=2017.4.17 in /usr/local/lib/python3.7/dist-packages (from requests<3,>=2.21.0->tensorboard>=1.15.0->test-tube==0.7.5) (2022.6.15)\n",
            "Requirement already satisfied: oauthlib>=3.0.0 in /usr/local/lib/python3.7/dist-packages (from requests-oauthlib>=0.7.0->google-auth-oauthlib<0.5,>=0.4.1->tensorboard>=1.15.0->test-tube==0.7.5) (3.2.0)\n",
            "Requirement already satisfied: MarkupSafe>=2.1.1 in /usr/local/lib/python3.7/dist-packages (from werkzeug>=1.0.1->tensorboard>=1.15.0->test-tube==0.7.5) (2.1.1)\n",
            "Building wheels for collected packages: test-tube\n",
            "  Building wheel for test-tube (setup.py) ... \u001b[?25l\u001b[?25hdone\n",
            "  Created wheel for test-tube: filename=test_tube-0.7.5-py3-none-any.whl size=25356 sha256=777e91009190aa512a97e4b6322aa49e43b6056426b5a663b9b36f92042fe25e\n",
            "  Stored in directory: /root/.cache/pip/wheels/1c/50/0d/15b3236957cc18a5c39ec4d4d4d21624f4d4a876756ec17064\n",
            "Successfully built test-tube\n",
            "Installing collected packages: test-tube\n",
            "Successfully installed test-tube-0.7.5\n"
          ]
        }
      ]
    },
    {
      "cell_type": "code",
      "source": [
        "!sh scripts/data_generation.sh data/heritage-recon/lincoln_memorial\n",
        "!shscripts/data_generation.sh data/heritage-recon/palacio_de_bellas_artes\n",
        "!sh scripts/data_generation.sh data/heritage-recon/pantheon_exterior"
      ],
      "metadata": {
        "id": "Xv3FD_FAFw2e",
        "colab": {
          "base_uri": "https://localhost:8080/"
        },
        "outputId": "b7d7b008-e91d-4179-aa51-145018d032b3"
      },
      "execution_count": 8,
      "outputs": [
        {
          "output_type": "stream",
          "name": "stdout",
          "text": [
            "^C\n",
            "/bin/bash: shscripts/data_generation.sh: No such file or directory\n",
            "+ set -u\n",
            "+ set -e\n",
            "+ date +%Y%m%d_%H%M%S\n",
            "+ now=20220729_082847\n",
            "+ pwd\n",
            "+ echo working directory is /content/drive/MyDrive/NeuralRecon-W-test\n",
            "working directory is /content/drive/MyDrive/NeuralRecon-W-test\n",
            "+ jobname=data-generation-data/heritage-recon/pantheon_exterior-20220729_082847\n",
            "+ export CUDA_VISIBLE_DEVICES=0\n",
            "+ dataset_name=phototourism\n",
            "+ cache_dir=cache_sgs\n",
            "+ root_dir=data/heritage-recon/pantheon_exterior\n",
            "+ min_observation=-1\n",
            "+ [ ! -f data/heritage-recon/pantheon_exterior/pantheon_exterior.tsv ]\n",
            "+ python tools/prepare_data/prepare_data_cache.py --root_dir data/heritage-recon/pantheon_exterior --dataset_name phototourism --cache_dir cache_sgs --img_downscale 1 --semantic_map_path semantic_maps --split_to_chunks 64\n",
            "+ tee log/data-generation-data/heritage-recon/pantheon_exterior-20220729_082847.log\n",
            "INFO - 2022-07-29 08:28:49,282 - utils - NumExpr defaulting to 4 threads.\n",
            "INFO - 2022-07-29 08:28:50,804 - rasterization - Cannot import nvdiffrast\n",
            "^C\n"
          ]
        }
      ]
    },
    {
      "cell_type": "markdown",
      "source": [
        "# 模型训练"
      ],
      "metadata": {
        "id": "DgA6hEpXBRBi"
      }
    },
    {
      "cell_type": "markdown",
      "source": [
        "##安装依赖库\n",
        "\n",
        "目前有极大隐患"
      ],
      "metadata": {
        "id": "ZbIFXD4o3wQs"
      }
    },
    {
      "cell_type": "code",
      "source": [
        "!pip install -r requirements.txt"
      ],
      "metadata": {
        "colab": {
          "base_uri": "https://localhost:8080/",
          "height": 1000
        },
        "id": "yaBy37e_3xaZ",
        "outputId": "a7fc17f7-9728-448b-f321-fb1bd2caee14"
      },
      "execution_count": null,
      "outputs": [
        {
          "output_type": "stream",
          "name": "stdout",
          "text": [
            "Looking in indexes: https://pypi.org/simple, https://us-python.pkg.dev/colab-wheels/public/simple/\n",
            "Collecting cython==0.29.20\n",
            "  Downloading Cython-0.29.20-cp37-cp37m-manylinux1_x86_64.whl (2.0 MB)\n",
            "\u001b[K     |████████████████████████████████| 2.0 MB 6.6 MB/s \n",
            "\u001b[?25hCollecting pytorch-lightning==1.4.8\n",
            "  Downloading pytorch_lightning-1.4.8-py3-none-any.whl (924 kB)\n",
            "\u001b[K     |████████████████████████████████| 924 kB 81.8 MB/s \n",
            "\u001b[?25hCollecting torchmetrics==0.7.0\n",
            "  Downloading torchmetrics-0.7.0-py3-none-any.whl (396 kB)\n",
            "\u001b[K     |████████████████████████████████| 396 kB 68.9 MB/s \n",
            "\u001b[?25hCollecting einops==0.3.0\n",
            "  Downloading einops-0.3.0-py2.py3-none-any.whl (25 kB)\n",
            "Collecting test-tube==0.7.5\n",
            "  Downloading test_tube-0.7.5.tar.gz (21 kB)\n",
            "Collecting kornia==0.4.1\n",
            "  Downloading kornia-0.4.1-py2.py3-none-any.whl (225 kB)\n",
            "\u001b[K     |████████████████████████████████| 225 kB 81.3 MB/s \n",
            "\u001b[?25hCollecting opencv-python==4.5.1.48\n",
            "  Downloading opencv_python-4.5.1.48-cp37-cp37m-manylinux2014_x86_64.whl (50.4 MB)\n",
            "\u001b[K     |████████████████████████████████| 50.4 MB 102 kB/s \n",
            "\u001b[?25hCollecting matplotlib==3.3.3\n",
            "  Downloading matplotlib-3.3.3-cp37-cp37m-manylinux1_x86_64.whl (11.6 MB)\n",
            "\u001b[K     |████████████████████████████████| 11.6 MB 18.5 MB/s \n",
            "\u001b[?25hRequirement already satisfied: jupyter in /usr/local/lib/python3.7/dist-packages (from -r requirements.txt (line 21)) (1.0.0)\n",
            "Collecting imageio==2.9.0\n",
            "  Downloading imageio-2.9.0-py3-none-any.whl (3.3 MB)\n",
            "\u001b[K     |████████████████████████████████| 3.3 MB 68.7 MB/s \n",
            "\u001b[?25hCollecting imageio-ffmpeg==0.4.2\n",
            "  Downloading imageio_ffmpeg-0.4.2-py3-none-manylinux2010_x86_64.whl (26.9 MB)\n",
            "\u001b[K     |████████████████████████████████| 26.9 MB 809 kB/s \n",
            "\u001b[?25hCollecting pandas==1.1.5\n",
            "  Downloading pandas-1.1.5-cp37-cp37m-manylinux1_x86_64.whl (9.5 MB)\n",
            "\u001b[K     |████████████████████████████████| 9.5 MB 49.2 MB/s \n",
            "\u001b[?25hCollecting torch_optimizer\n",
            "  Downloading torch_optimizer-0.3.0-py3-none-any.whl (61 kB)\n",
            "\u001b[K     |████████████████████████████████| 61 kB 579 kB/s \n",
            "\u001b[?25hCollecting lpips==0.1.3\n",
            "  Downloading lpips-0.1.3-py3-none-any.whl (53 kB)\n",
            "\u001b[K     |████████████████████████████████| 53 kB 2.8 MB/s \n",
            "\u001b[?25hCollecting loguru\n",
            "  Downloading loguru-0.6.0-py3-none-any.whl (58 kB)\n",
            "\u001b[K     |████████████████████████████████| 58 kB 6.9 MB/s \n",
            "\u001b[?25hCollecting yacs\n",
            "  Downloading yacs-0.1.8-py3-none-any.whl (14 kB)\n",
            "Requirement already satisfied: h5py in /usr/local/lib/python3.7/dist-packages (from -r requirements.txt (line 29)) (3.1.0)\n",
            "Collecting plotly==4.14.3\n",
            "  Downloading plotly-4.14.3-py2.py3-none-any.whl (13.2 MB)\n",
            "\u001b[K     |████████████████████████████████| 13.2 MB 62.6 MB/s \n",
            "\u001b[?25hCollecting PyMCubes==0.1.2\n",
            "  Downloading PyMCubes-0.1.2-cp37-cp37m-manylinux2010_x86_64.whl (265 kB)\n",
            "\u001b[K     |████████████████████████████████| 265 kB 78.7 MB/s \n",
            "\u001b[?25hCollecting pycollada==0.7.1\n",
            "  Downloading pycollada-0.7.1.tar.gz (105 kB)\n",
            "\u001b[K     |████████████████████████████████| 105 kB 80.1 MB/s \n",
            "\u001b[?25hCollecting trimesh==3.9.1\n",
            "  Downloading trimesh-3.9.1-py3-none-any.whl (628 kB)\n",
            "\u001b[K     |████████████████████████████████| 628 kB 67.7 MB/s \n",
            "\u001b[?25hCollecting pyglet==1.5.10\n",
            "  Downloading pyglet-1.5.10-py3-none-any.whl (1.1 MB)\n",
            "\u001b[K     |████████████████████████████████| 1.1 MB 83.9 MB/s \n",
            "\u001b[?25hCollecting networkx==2.5\n",
            "  Downloading networkx-2.5-py3-none-any.whl (1.6 MB)\n",
            "\u001b[K     |████████████████████████████████| 1.6 MB 68.4 MB/s \n",
            "\u001b[?25hRequirement already satisfied: scikit-image in /usr/local/lib/python3.7/dist-packages (from -r requirements.txt (line 40)) (0.18.3)\n",
            "Collecting plyfile==0.7.2\n",
            "  Downloading plyfile-0.7.2-py3-none-any.whl (39 kB)\n",
            "Collecting open3d==0.12.0\n",
            "  Downloading open3d-0.12.0-cp37-cp37m-manylinux2014_x86_64.whl (188.4 MB)\n",
            "\u001b[K     |████████████████████████████████| 188.4 MB 25 kB/s \n",
            "\u001b[?25hCollecting mmcv-full\n",
            "  Downloading mmcv-full-1.6.1.tar.gz (563 kB)\n",
            "\u001b[K     |████████████████████████████████| 563 kB 83.7 MB/s \n",
            "\u001b[?25hCollecting mmsegmentation\n",
            "  Downloading mmsegmentation-0.26.0-py3-none-any.whl (816 kB)\n",
            "\u001b[K     |████████████████████████████████| 816 kB 78.6 MB/s \n",
            "\u001b[?25hCollecting fsspec[http]!=2021.06.0,>=2021.05.0\n",
            "  Downloading fsspec-2022.7.0-py3-none-any.whl (141 kB)\n",
            "\u001b[K     |████████████████████████████████| 141 kB 92.5 MB/s \n",
            "\u001b[?25hCollecting future>=0.17.1\n",
            "  Downloading future-0.18.2.tar.gz (829 kB)\n",
            "\u001b[K     |████████████████████████████████| 829 kB 71.7 MB/s \n",
            "\u001b[?25hRequirement already satisfied: numpy>=1.17.2 in /usr/local/lib/python3.7/dist-packages (from pytorch-lightning==1.4.8->-r requirements.txt (line 14)) (1.21.6)\n",
            "Collecting PyYAML>=5.1\n",
            "  Downloading PyYAML-6.0-cp37-cp37m-manylinux_2_5_x86_64.manylinux1_x86_64.manylinux_2_12_x86_64.manylinux2010_x86_64.whl (596 kB)\n",
            "\u001b[K     |████████████████████████████████| 596 kB 82.7 MB/s \n",
            "\u001b[?25hRequirement already satisfied: tqdm>=4.41.0 in /usr/local/lib/python3.7/dist-packages (from pytorch-lightning==1.4.8->-r requirements.txt (line 14)) (4.64.0)\n",
            "Requirement already satisfied: torch>=1.6 in /usr/local/lib/python3.7/dist-packages (from pytorch-lightning==1.4.8->-r requirements.txt (line 14)) (1.11.0+cu113)\n",
            "Requirement already satisfied: packaging>=17.0 in /usr/local/lib/python3.7/dist-packages (from pytorch-lightning==1.4.8->-r requirements.txt (line 14)) (21.3)\n",
            "Requirement already satisfied: tensorboard>=2.2.0 in /usr/local/lib/python3.7/dist-packages (from pytorch-lightning==1.4.8->-r requirements.txt (line 14)) (2.8.0)\n",
            "Collecting pyDeprecate==0.3.1\n",
            "  Downloading pyDeprecate-0.3.1-py3-none-any.whl (10 kB)\n",
            "Requirement already satisfied: typing-extensions in /usr/local/lib/python3.7/dist-packages (from pytorch-lightning==1.4.8->-r requirements.txt (line 14)) (4.1.1)\n",
            "Requirement already satisfied: kiwisolver>=1.0.1 in /usr/local/lib/python3.7/dist-packages (from matplotlib==3.3.3->-r requirements.txt (line 20)) (1.4.4)\n",
            "Requirement already satisfied: pyparsing!=2.0.4,!=2.1.2,!=2.1.6,>=2.0.3 in /usr/local/lib/python3.7/dist-packages (from matplotlib==3.3.3->-r requirements.txt (line 20)) (3.0.9)\n",
            "Requirement already satisfied: cycler>=0.10 in /usr/local/lib/python3.7/dist-packages (from matplotlib==3.3.3->-r requirements.txt (line 20)) (0.11.0)\n",
            "Requirement already satisfied: python-dateutil>=2.1 in /usr/local/lib/python3.7/dist-packages (from matplotlib==3.3.3->-r requirements.txt (line 20)) (2.8.2)\n",
            "Requirement already satisfied: pillow>=6.2.0 in /usr/local/lib/python3.7/dist-packages (from matplotlib==3.3.3->-r requirements.txt (line 20)) (7.1.2)\n",
            "Requirement already satisfied: pytz>=2017.2 in /usr/local/lib/python3.7/dist-packages (from pandas==1.1.5->-r requirements.txt (line 24)) (2022.1)\n",
            "Collecting retrying>=1.3.3\n",
            "  Downloading retrying-1.3.3.tar.gz (10 kB)\n",
            "Requirement already satisfied: six in /usr/local/lib/python3.7/dist-packages (from plotly==4.14.3->-r requirements.txt (line 32)) (1.15.0)\n",
            "Requirement already satisfied: setuptools in /usr/local/lib/python3.7/dist-packages (from trimesh==3.9.1->-r requirements.txt (line 37)) (57.4.0)\n",
            "Requirement already satisfied: decorator>=4.3.0 in /usr/local/lib/python3.7/dist-packages (from networkx==2.5->-r requirements.txt (line 39)) (4.4.2)\n",
            "Requirement already satisfied: sklearn in /usr/local/lib/python3.7/dist-packages (from open3d==0.12.0->-r requirements.txt (line 44)) (0.0)\n",
            "Requirement already satisfied: ipywidgets in /usr/local/lib/python3.7/dist-packages (from open3d==0.12.0->-r requirements.txt (line 44)) (7.7.1)\n",
            "Collecting addict\n",
            "  Downloading addict-2.4.0-py3-none-any.whl (3.8 kB)\n",
            "Requirement already satisfied: notebook in /usr/local/lib/python3.7/dist-packages (from open3d==0.12.0->-r requirements.txt (line 44)) (5.3.1)\n",
            "Requirement already satisfied: widgetsnbextension in /usr/local/lib/python3.7/dist-packages (from open3d==0.12.0->-r requirements.txt (line 44)) (3.6.1)\n",
            "Requirement already satisfied: aiohttp in /usr/local/lib/python3.7/dist-packages (from fsspec[http]!=2021.06.0,>=2021.05.0->pytorch-lightning==1.4.8->-r requirements.txt (line 14)) (3.8.1)\n",
            "Requirement already satisfied: requests in /usr/local/lib/python3.7/dist-packages (from fsspec[http]!=2021.06.0,>=2021.05.0->pytorch-lightning==1.4.8->-r requirements.txt (line 14)) (2.23.0)\n",
            "Requirement already satisfied: grpcio>=1.24.3 in /usr/local/lib/python3.7/dist-packages (from tensorboard>=2.2.0->pytorch-lightning==1.4.8->-r requirements.txt (line 14)) (1.47.0)\n",
            "Requirement already satisfied: tensorboard-plugin-wit>=1.6.0 in /usr/local/lib/python3.7/dist-packages (from tensorboard>=2.2.0->pytorch-lightning==1.4.8->-r requirements.txt (line 14)) (1.8.1)\n",
            "Requirement already satisfied: werkzeug>=0.11.15 in /usr/local/lib/python3.7/dist-packages (from tensorboard>=2.2.0->pytorch-lightning==1.4.8->-r requirements.txt (line 14)) (1.0.1)\n",
            "Requirement already satisfied: protobuf>=3.6.0 in /usr/local/lib/python3.7/dist-packages (from tensorboard>=2.2.0->pytorch-lightning==1.4.8->-r requirements.txt (line 14)) (3.17.3)\n",
            "Requirement already satisfied: absl-py>=0.4 in /usr/local/lib/python3.7/dist-packages (from tensorboard>=2.2.0->pytorch-lightning==1.4.8->-r requirements.txt (line 14)) (1.2.0)\n",
            "Requirement already satisfied: google-auth-oauthlib<0.5,>=0.4.1 in /usr/local/lib/python3.7/dist-packages (from tensorboard>=2.2.0->pytorch-lightning==1.4.8->-r requirements.txt (line 14)) (0.4.6)\n",
            "Requirement already satisfied: tensorboard-data-server<0.7.0,>=0.6.0 in /usr/local/lib/python3.7/dist-packages (from tensorboard>=2.2.0->pytorch-lightning==1.4.8->-r requirements.txt (line 14)) (0.6.1)\n",
            "Requirement already satisfied: markdown>=2.6.8 in /usr/local/lib/python3.7/dist-packages (from tensorboard>=2.2.0->pytorch-lightning==1.4.8->-r requirements.txt (line 14)) (3.4.1)\n",
            "Requirement already satisfied: wheel>=0.26 in /usr/local/lib/python3.7/dist-packages (from tensorboard>=2.2.0->pytorch-lightning==1.4.8->-r requirements.txt (line 14)) (0.37.1)\n",
            "Requirement already satisfied: google-auth<3,>=1.6.3 in /usr/local/lib/python3.7/dist-packages (from tensorboard>=2.2.0->pytorch-lightning==1.4.8->-r requirements.txt (line 14)) (1.35.0)\n",
            "Requirement already satisfied: rsa<5,>=3.1.4 in /usr/local/lib/python3.7/dist-packages (from google-auth<3,>=1.6.3->tensorboard>=2.2.0->pytorch-lightning==1.4.8->-r requirements.txt (line 14)) (4.9)\n",
            "Requirement already satisfied: cachetools<5.0,>=2.0.0 in /usr/local/lib/python3.7/dist-packages (from google-auth<3,>=1.6.3->tensorboard>=2.2.0->pytorch-lightning==1.4.8->-r requirements.txt (line 14)) (4.2.4)\n",
            "Requirement already satisfied: pyasn1-modules>=0.2.1 in /usr/local/lib/python3.7/dist-packages (from google-auth<3,>=1.6.3->tensorboard>=2.2.0->pytorch-lightning==1.4.8->-r requirements.txt (line 14)) (0.2.8)\n",
            "Requirement already satisfied: requests-oauthlib>=0.7.0 in /usr/local/lib/python3.7/dist-packages (from google-auth-oauthlib<0.5,>=0.4.1->tensorboard>=2.2.0->pytorch-lightning==1.4.8->-r requirements.txt (line 14)) (1.3.1)\n",
            "Requirement already satisfied: importlib-metadata>=4.4 in /usr/local/lib/python3.7/dist-packages (from markdown>=2.6.8->tensorboard>=2.2.0->pytorch-lightning==1.4.8->-r requirements.txt (line 14)) (4.12.0)\n",
            "Requirement already satisfied: zipp>=0.5 in /usr/local/lib/python3.7/dist-packages (from importlib-metadata>=4.4->markdown>=2.6.8->tensorboard>=2.2.0->pytorch-lightning==1.4.8->-r requirements.txt (line 14)) (3.8.1)\n",
            "Requirement already satisfied: pyasn1<0.5.0,>=0.4.6 in /usr/local/lib/python3.7/dist-packages (from pyasn1-modules>=0.2.1->google-auth<3,>=1.6.3->tensorboard>=2.2.0->pytorch-lightning==1.4.8->-r requirements.txt (line 14)) (0.4.8)\n",
            "Requirement already satisfied: urllib3!=1.25.0,!=1.25.1,<1.26,>=1.21.1 in /usr/local/lib/python3.7/dist-packages (from requests->fsspec[http]!=2021.06.0,>=2021.05.0->pytorch-lightning==1.4.8->-r requirements.txt (line 14)) (1.24.3)\n",
            "Requirement already satisfied: chardet<4,>=3.0.2 in /usr/local/lib/python3.7/dist-packages (from requests->fsspec[http]!=2021.06.0,>=2021.05.0->pytorch-lightning==1.4.8->-r requirements.txt (line 14)) (3.0.4)\n",
            "Requirement already satisfied: certifi>=2017.4.17 in /usr/local/lib/python3.7/dist-packages (from requests->fsspec[http]!=2021.06.0,>=2021.05.0->pytorch-lightning==1.4.8->-r requirements.txt (line 14)) (2022.6.15)\n",
            "Requirement already satisfied: idna<3,>=2.5 in /usr/local/lib/python3.7/dist-packages (from requests->fsspec[http]!=2021.06.0,>=2021.05.0->pytorch-lightning==1.4.8->-r requirements.txt (line 14)) (2.10)\n",
            "Requirement already satisfied: oauthlib>=3.0.0 in /usr/local/lib/python3.7/dist-packages (from requests-oauthlib>=0.7.0->google-auth-oauthlib<0.5,>=0.4.1->tensorboard>=2.2.0->pytorch-lightning==1.4.8->-r requirements.txt (line 14)) (3.2.0)\n",
            "Requirement already satisfied: ipykernel in /usr/local/lib/python3.7/dist-packages (from jupyter->-r requirements.txt (line 21)) (4.10.1)\n",
            "Requirement already satisfied: jupyter-console in /usr/local/lib/python3.7/dist-packages (from jupyter->-r requirements.txt (line 21)) (5.2.0)\n",
            "Requirement already satisfied: nbconvert in /usr/local/lib/python3.7/dist-packages (from jupyter->-r requirements.txt (line 21)) (5.6.1)\n",
            "Requirement already satisfied: qtconsole in /usr/local/lib/python3.7/dist-packages (from jupyter->-r requirements.txt (line 21)) (5.3.1)\n",
            "Collecting pytorch-ranger>=0.1.1\n",
            "  Downloading pytorch_ranger-0.1.1-py3-none-any.whl (14 kB)\n",
            "Requirement already satisfied: cached-property in /usr/local/lib/python3.7/dist-packages (from h5py->-r requirements.txt (line 29)) (1.5.2)\n",
            "Requirement already satisfied: tifffile>=2019.7.26 in /usr/local/lib/python3.7/dist-packages (from scikit-image->-r requirements.txt (line 40)) (2021.11.2)\n",
            "Requirement already satisfied: PyWavelets>=1.1.1 in /usr/local/lib/python3.7/dist-packages (from scikit-image->-r requirements.txt (line 40)) (1.3.0)\n",
            "Requirement already satisfied: scipy>=1.0.1 in /usr/local/lib/python3.7/dist-packages (from scikit-image->-r requirements.txt (line 40)) (1.7.3)\n",
            "Collecting yapf\n",
            "  Downloading yapf-0.32.0-py2.py3-none-any.whl (190 kB)\n",
            "\u001b[K     |████████████████████████████████| 190 kB 92.4 MB/s \n",
            "\u001b[?25hCollecting mmcls>=0.20.1\n",
            "  Downloading mmcls-0.23.2-py2.py3-none-any.whl (578 kB)\n",
            "\u001b[K     |████████████████████████████████| 578 kB 74.0 MB/s \n",
            "\u001b[?25hRequirement already satisfied: prettytable in /usr/local/lib/python3.7/dist-packages (from mmsegmentation->-r requirements.txt (line 48)) (3.3.0)\n",
            "Requirement already satisfied: async-timeout<5.0,>=4.0.0a3 in /usr/local/lib/python3.7/dist-packages (from aiohttp->fsspec[http]!=2021.06.0,>=2021.05.0->pytorch-lightning==1.4.8->-r requirements.txt (line 14)) (4.0.2)\n",
            "Requirement already satisfied: frozenlist>=1.1.1 in /usr/local/lib/python3.7/dist-packages (from aiohttp->fsspec[http]!=2021.06.0,>=2021.05.0->pytorch-lightning==1.4.8->-r requirements.txt (line 14)) (1.3.0)\n",
            "Requirement already satisfied: yarl<2.0,>=1.0 in /usr/local/lib/python3.7/dist-packages (from aiohttp->fsspec[http]!=2021.06.0,>=2021.05.0->pytorch-lightning==1.4.8->-r requirements.txt (line 14)) (1.7.2)\n",
            "Requirement already satisfied: attrs>=17.3.0 in /usr/local/lib/python3.7/dist-packages (from aiohttp->fsspec[http]!=2021.06.0,>=2021.05.0->pytorch-lightning==1.4.8->-r requirements.txt (line 14)) (21.4.0)\n",
            "Requirement already satisfied: multidict<7.0,>=4.5 in /usr/local/lib/python3.7/dist-packages (from aiohttp->fsspec[http]!=2021.06.0,>=2021.05.0->pytorch-lightning==1.4.8->-r requirements.txt (line 14)) (6.0.2)\n",
            "Requirement already satisfied: aiosignal>=1.1.2 in /usr/local/lib/python3.7/dist-packages (from aiohttp->fsspec[http]!=2021.06.0,>=2021.05.0->pytorch-lightning==1.4.8->-r requirements.txt (line 14)) (1.2.0)\n",
            "Requirement already satisfied: charset-normalizer<3.0,>=2.0 in /usr/local/lib/python3.7/dist-packages (from aiohttp->fsspec[http]!=2021.06.0,>=2021.05.0->pytorch-lightning==1.4.8->-r requirements.txt (line 14)) (2.1.0)\n",
            "Requirement already satisfied: asynctest==0.13.0 in /usr/local/lib/python3.7/dist-packages (from aiohttp->fsspec[http]!=2021.06.0,>=2021.05.0->pytorch-lightning==1.4.8->-r requirements.txt (line 14)) (0.13.0)\n",
            "Requirement already satisfied: tornado>=4.0 in /usr/local/lib/python3.7/dist-packages (from ipykernel->jupyter->-r requirements.txt (line 21)) (5.1.1)\n",
            "Requirement already satisfied: traitlets>=4.1.0 in /usr/local/lib/python3.7/dist-packages (from ipykernel->jupyter->-r requirements.txt (line 21)) (5.1.1)\n",
            "Requirement already satisfied: jupyter-client in /usr/local/lib/python3.7/dist-packages (from ipykernel->jupyter->-r requirements.txt (line 21)) (5.3.5)\n",
            "Requirement already satisfied: ipython>=4.0.0 in /usr/local/lib/python3.7/dist-packages (from ipykernel->jupyter->-r requirements.txt (line 21)) (5.5.0)\n",
            "Requirement already satisfied: prompt-toolkit<2.0.0,>=1.0.4 in /usr/local/lib/python3.7/dist-packages (from ipython>=4.0.0->ipykernel->jupyter->-r requirements.txt (line 21)) (1.0.18)\n",
            "Requirement already satisfied: simplegeneric>0.8 in /usr/local/lib/python3.7/dist-packages (from ipython>=4.0.0->ipykernel->jupyter->-r requirements.txt (line 21)) (0.8.1)\n",
            "Requirement already satisfied: pickleshare in /usr/local/lib/python3.7/dist-packages (from ipython>=4.0.0->ipykernel->jupyter->-r requirements.txt (line 21)) (0.7.5)\n",
            "Requirement already satisfied: pygments in /usr/local/lib/python3.7/dist-packages (from ipython>=4.0.0->ipykernel->jupyter->-r requirements.txt (line 21)) (2.6.1)\n",
            "Requirement already satisfied: pexpect in /usr/local/lib/python3.7/dist-packages (from ipython>=4.0.0->ipykernel->jupyter->-r requirements.txt (line 21)) (4.8.0)\n",
            "Requirement already satisfied: wcwidth in /usr/local/lib/python3.7/dist-packages (from prompt-toolkit<2.0.0,>=1.0.4->ipython>=4.0.0->ipykernel->jupyter->-r requirements.txt (line 21)) (0.2.5)\n",
            "Requirement already satisfied: ipython-genutils~=0.2.0 in /usr/local/lib/python3.7/dist-packages (from ipywidgets->open3d==0.12.0->-r requirements.txt (line 44)) (0.2.0)\n",
            "Requirement already satisfied: jupyterlab-widgets>=1.0.0 in /usr/local/lib/python3.7/dist-packages (from ipywidgets->open3d==0.12.0->-r requirements.txt (line 44)) (1.1.1)\n",
            "Requirement already satisfied: Send2Trash in /usr/local/lib/python3.7/dist-packages (from notebook->open3d==0.12.0->-r requirements.txt (line 44)) (1.8.0)\n",
            "Requirement already satisfied: jupyter-core>=4.4.0 in /usr/local/lib/python3.7/dist-packages (from notebook->open3d==0.12.0->-r requirements.txt (line 44)) (4.11.1)\n",
            "Requirement already satisfied: nbformat in /usr/local/lib/python3.7/dist-packages (from notebook->open3d==0.12.0->-r requirements.txt (line 44)) (5.4.0)\n",
            "Requirement already satisfied: jinja2 in /usr/local/lib/python3.7/dist-packages (from notebook->open3d==0.12.0->-r requirements.txt (line 44)) (2.11.3)\n",
            "Requirement already satisfied: terminado>=0.8.1 in /usr/local/lib/python3.7/dist-packages (from notebook->open3d==0.12.0->-r requirements.txt (line 44)) (0.13.3)\n",
            "Requirement already satisfied: pyzmq>=13 in /usr/local/lib/python3.7/dist-packages (from jupyter-client->ipykernel->jupyter->-r requirements.txt (line 21)) (23.2.0)\n",
            "Requirement already satisfied: ptyprocess in /usr/local/lib/python3.7/dist-packages (from terminado>=0.8.1->notebook->open3d==0.12.0->-r requirements.txt (line 44)) (0.7.0)\n",
            "Requirement already satisfied: MarkupSafe>=0.23 in /usr/local/lib/python3.7/dist-packages (from jinja2->notebook->open3d==0.12.0->-r requirements.txt (line 44)) (2.0.1)\n",
            "Requirement already satisfied: defusedxml in /usr/local/lib/python3.7/dist-packages (from nbconvert->jupyter->-r requirements.txt (line 21)) (0.7.1)\n",
            "Requirement already satisfied: testpath in /usr/local/lib/python3.7/dist-packages (from nbconvert->jupyter->-r requirements.txt (line 21)) (0.6.0)\n",
            "Requirement already satisfied: entrypoints>=0.2.2 in /usr/local/lib/python3.7/dist-packages (from nbconvert->jupyter->-r requirements.txt (line 21)) (0.4)\n",
            "Requirement already satisfied: pandocfilters>=1.4.1 in /usr/local/lib/python3.7/dist-packages (from nbconvert->jupyter->-r requirements.txt (line 21)) (1.5.0)\n",
            "Requirement already satisfied: mistune<2,>=0.8.1 in /usr/local/lib/python3.7/dist-packages (from nbconvert->jupyter->-r requirements.txt (line 21)) (0.8.4)\n",
            "Requirement already satisfied: bleach in /usr/local/lib/python3.7/dist-packages (from nbconvert->jupyter->-r requirements.txt (line 21)) (5.0.1)\n",
            "Requirement already satisfied: jsonschema>=2.6 in /usr/local/lib/python3.7/dist-packages (from nbformat->notebook->open3d==0.12.0->-r requirements.txt (line 44)) (4.3.3)\n",
            "Requirement already satisfied: fastjsonschema in /usr/local/lib/python3.7/dist-packages (from nbformat->notebook->open3d==0.12.0->-r requirements.txt (line 44)) (2.16.1)\n",
            "Requirement already satisfied: importlib-resources>=1.4.0 in /usr/local/lib/python3.7/dist-packages (from jsonschema>=2.6->nbformat->notebook->open3d==0.12.0->-r requirements.txt (line 44)) (5.9.0)\n",
            "Requirement already satisfied: pyrsistent!=0.17.0,!=0.17.1,!=0.17.2,>=0.14.0 in /usr/local/lib/python3.7/dist-packages (from jsonschema>=2.6->nbformat->notebook->open3d==0.12.0->-r requirements.txt (line 44)) (0.18.1)\n",
            "Requirement already satisfied: webencodings in /usr/local/lib/python3.7/dist-packages (from bleach->nbconvert->jupyter->-r requirements.txt (line 21)) (0.5.1)\n",
            "Requirement already satisfied: qtpy>=2.0.1 in /usr/local/lib/python3.7/dist-packages (from qtconsole->jupyter->-r requirements.txt (line 21)) (2.1.0)\n",
            "Requirement already satisfied: scikit-learn in /usr/local/lib/python3.7/dist-packages (from sklearn->open3d==0.12.0->-r requirements.txt (line 44)) (1.0.2)\n",
            "Requirement already satisfied: threadpoolctl>=2.0.0 in /usr/local/lib/python3.7/dist-packages (from scikit-learn->sklearn->open3d==0.12.0->-r requirements.txt (line 44)) (3.1.0)\n",
            "Requirement already satisfied: joblib>=0.11 in /usr/local/lib/python3.7/dist-packages (from scikit-learn->sklearn->open3d==0.12.0->-r requirements.txt (line 44)) (1.1.0)\n",
            "Building wheels for collected packages: test-tube, pycollada, future, retrying, mmcv-full\n",
            "  Building wheel for test-tube (setup.py) ... \u001b[?25l\u001b[?25hdone\n",
            "  Created wheel for test-tube: filename=test_tube-0.7.5-py3-none-any.whl size=25356 sha256=08aad6dbadd1461921679f267d33eab1c95c73aa0ec0472718c8cc8a430c1bd1\n",
            "  Stored in directory: /root/.cache/pip/wheels/1c/50/0d/15b3236957cc18a5c39ec4d4d4d21624f4d4a876756ec17064\n",
            "  Building wheel for pycollada (setup.py) ... \u001b[?25l\u001b[?25hdone\n",
            "  Created wheel for pycollada: filename=pycollada-0.7.1-py3-none-any.whl size=125607 sha256=e18058b9d7a3946fa7016b22447abe29fc60021b5350f422d3fa3e0de265dd79\n",
            "  Stored in directory: /root/.cache/pip/wheels/a8/2c/28/d72f17dceae54dde19fcaf489b284966a2b0eae2141406b85a\n",
            "  Building wheel for future (setup.py) ... \u001b[?25l\u001b[?25hdone\n",
            "  Created wheel for future: filename=future-0.18.2-py3-none-any.whl size=491070 sha256=ecd5865e2d021284b76fea5b53232fbaac2db0fbb18f4437f20bbae3048f2a21\n",
            "  Stored in directory: /root/.cache/pip/wheels/56/b0/fe/4410d17b32f1f0c3cf54cdfb2bc04d7b4b8f4ae377e2229ba0\n",
            "  Building wheel for retrying (setup.py) ... \u001b[?25l\u001b[?25hdone\n",
            "  Created wheel for retrying: filename=retrying-1.3.3-py3-none-any.whl size=11447 sha256=a5510a3a5962ede832d9a9a24692ec3e9f8aa2b560d40c6c5542b9ee8bd93375\n",
            "  Stored in directory: /root/.cache/pip/wheels/f9/8d/8d/f6af3f7f9eea3553bc2fe6d53e4b287dad18b06a861ac56ddf\n",
            "  Building wheel for mmcv-full (setup.py) ... \u001b[?25l\u001b[?25hdone\n",
            "  Created wheel for mmcv-full: filename=mmcv_full-1.6.1-cp37-cp37m-linux_x86_64.whl size=25890110 sha256=08af8383b2cb152af7b8dc0efde0a2ffc58fe19f0ca631a3e7c857e9698ebe3d\n",
            "  Stored in directory: /root/.cache/pip/wheels/a6/f3/f8/bc5b70943e7de08aabc5902b1bfbedf08239db3a895910f7af\n",
            "Successfully built test-tube pycollada future retrying mmcv-full\n",
            "Installing collected packages: pyDeprecate, matplotlib, fsspec, yapf, torchmetrics, retrying, PyYAML, pytorch-ranger, plyfile, pandas, networkx, mmcls, imageio, future, addict, yacs, trimesh, torch-optimizer, test-tube, pytorch-lightning, PyMCubes, pyglet, pycollada, plotly, opencv-python, open3d, mmsegmentation, mmcv-full, lpips, loguru, kornia, imageio-ffmpeg, einops, cython\n",
            "  Attempting uninstall: matplotlib\n",
            "    Found existing installation: matplotlib 3.2.2\n",
            "    Uninstalling matplotlib-3.2.2:\n",
            "      Successfully uninstalled matplotlib-3.2.2\n",
            "  Attempting uninstall: PyYAML\n",
            "    Found existing installation: PyYAML 3.13\n",
            "    Uninstalling PyYAML-3.13:\n",
            "      Successfully uninstalled PyYAML-3.13\n",
            "  Attempting uninstall: pandas\n",
            "    Found existing installation: pandas 1.3.5\n",
            "    Uninstalling pandas-1.3.5:\n",
            "      Successfully uninstalled pandas-1.3.5\n",
            "  Attempting uninstall: networkx\n",
            "    Found existing installation: networkx 2.6.3\n",
            "    Uninstalling networkx-2.6.3:\n",
            "      Successfully uninstalled networkx-2.6.3\n",
            "  Attempting uninstall: imageio\n",
            "    Found existing installation: imageio 2.4.1\n",
            "    Uninstalling imageio-2.4.1:\n",
            "      Successfully uninstalled imageio-2.4.1\n",
            "  Attempting uninstall: future\n",
            "    Found existing installation: future 0.16.0\n",
            "    Uninstalling future-0.16.0:\n",
            "      Successfully uninstalled future-0.16.0\n",
            "  Attempting uninstall: pyglet\n",
            "    Found existing installation: pyglet 1.5.0\n",
            "    Uninstalling pyglet-1.5.0:\n",
            "      Successfully uninstalled pyglet-1.5.0\n",
            "  Attempting uninstall: plotly\n",
            "    Found existing installation: plotly 5.5.0\n",
            "    Uninstalling plotly-5.5.0:\n",
            "      Successfully uninstalled plotly-5.5.0\n",
            "  Attempting uninstall: opencv-python\n",
            "    Found existing installation: opencv-python 4.6.0.66\n",
            "    Uninstalling opencv-python-4.6.0.66:\n",
            "      Successfully uninstalled opencv-python-4.6.0.66\n",
            "  Attempting uninstall: cython\n",
            "    Found existing installation: Cython 0.29.30\n",
            "    Uninstalling Cython-0.29.30:\n",
            "      Successfully uninstalled Cython-0.29.30\n",
            "\u001b[31mERROR: pip's dependency resolver does not currently take into account all the packages that are installed. This behaviour is the source of the following dependency conflicts.\n",
            "gym 0.17.3 requires pyglet<=1.5.0,>=1.4.0, but you have pyglet 1.5.10 which is incompatible.\n",
            "albumentations 0.1.12 requires imgaug<0.2.7,>=0.2.5, but you have imgaug 0.2.9 which is incompatible.\u001b[0m\n",
            "Successfully installed PyMCubes-0.1.2 PyYAML-6.0 addict-2.4.0 cython-0.29.20 einops-0.3.0 fsspec-2022.7.0 future-0.18.2 imageio-2.9.0 imageio-ffmpeg-0.4.2 kornia-0.4.1 loguru-0.6.0 lpips-0.1.3 matplotlib-3.3.3 mmcls-0.23.2 mmcv-full-1.6.1 mmsegmentation-0.26.0 networkx-2.5 open3d-0.12.0 opencv-python-4.5.1.48 pandas-1.1.5 plotly-4.14.3 plyfile-0.7.2 pyDeprecate-0.3.1 pycollada-0.7.1 pyglet-1.5.10 pytorch-lightning-1.4.8 pytorch-ranger-0.1.1 retrying-1.3.3 test-tube-0.7.5 torch-optimizer-0.3.0 torchmetrics-0.7.0 trimesh-3.9.1 yacs-0.1.8 yapf-0.32.0\n"
          ]
        },
        {
          "output_type": "display_data",
          "data": {
            "application/vnd.colab-display-data+json": {
              "pip_warning": {
                "packages": [
                  "matplotlib",
                  "mpl_toolkits"
                ]
              }
            }
          },
          "metadata": {}
        }
      ]
    },
    {
      "cell_type": "markdown",
      "source": [
        "##训练核心sh脚本"
      ],
      "metadata": {
        "id": "vPpL81JyMdZH"
      }
    },
    {
      "cell_type": "code",
      "source": [
        "!sh scripts/train.sh exp_BG config/train_brandenburg_gate.yaml 1 1"
      ],
      "metadata": {
        "colab": {
          "base_uri": "https://localhost:8080/"
        },
        "id": "MwH4kkoBMfPq",
        "outputId": "ffa259ef-9551-4ade-a753-f30bc79e8296"
      },
      "execution_count": 15,
      "outputs": [
        {
          "output_type": "stream",
          "name": "stdout",
          "text": [
            "+ set -u\n",
            "+ date +%Y%m%d_%H%M%S\n",
            "+ now=20220729_114029\n",
            "+ jobname=train-exp_BG-20220729_114029\n",
            "+ echo job name is train-exp_BG-20220729_114029\n",
            "job name is train-exp_BG-20220729_114029\n",
            "+ config_file=config/train_brandenburg_gate.yaml\n",
            "+ mkdir -p log\n",
            "+ mkdir -p logs/train-exp_BG-20220729_114029\n",
            "+ cp config/train_brandenburg_gate.yaml logs/train-exp_BG-20220729_114029\n",
            "+ export CUDA_VISIBLE_DEVICES=0\n",
            "+ python train.py --cfg_path config/train_brandenburg_gate.yaml --num_gpus 1 --num_nodes 1 --num_epochs 20 --batch_size 2048 --test_batch_size 512 --num_workers 16 --exp_name train-exp_BG-20220729_114029\n",
            "+ tee log/train-exp_BG-20220729_114029.log \\\n",
            "INFO - 2022-07-29 11:40:31,091 - utils - NumExpr defaulting to 4 threads.\n",
            "INFO - 2022-07-29 11:40:32,597 - rasterization - Cannot import nvdiffrast\n",
            "INFO - 2022-07-29 11:40:33,155 - seed - Global seed set to 66\n",
            "INFO - 2022-07-29 11:40:33,223 - distributed - GPU available: True, used: True\n",
            "INFO - 2022-07-29 11:40:33,223 - distributed - TPU available: False, using: 0 TPU cores\n",
            "INFO - 2022-07-29 11:40:33,223 - distributed - IPU available: False, using: 0 IPUs\n",
            "2022-07-29 11:40:33.229 | WARNING  | datasets.data:setup:51 - Default process group has not been initialized, please make sure to call init_process_group. (set world_size=1 and rank=0)\n",
            "training octree will be in level: 10, with respect to voxel size 0.0636774228515625\n",
            "Initializing data loaders...\n",
            "Traceback (most recent call last):\n",
            "  File \"train.py\", line 79, in <module>\n",
            "    main(hparams, config)\n",
            "  File \"train.py\", line 71, in main\n",
            "    trainer.fit(system, datamodule=data_module)\n",
            "  File \"/usr/local/lib/python3.7/dist-packages/pytorch_lightning/trainer/trainer.py\", line 552, in fit\n",
            "    self._run(model)\n",
            "  File \"/usr/local/lib/python3.7/dist-packages/pytorch_lightning/trainer/trainer.py\", line 864, in _run\n",
            "    self._call_setup_hook(model)  # allow user to setup lightning_module in accelerator environment\n",
            "  File \"/usr/local/lib/python3.7/dist-packages/pytorch_lightning/trainer/trainer.py\", line 1168, in _call_setup_hook\n",
            "    self.datamodule.setup(stage=fn)\n",
            "  File \"/usr/local/lib/python3.7/dist-packages/pytorch_lightning/core/datamodule.py\", line 428, in wrapped_fn\n",
            "    fn(*args, **kwargs)\n",
            "  File \"/content/drive/MyDrive/NeuralRecon-W-test/datasets/data.py\", line 69, in setup\n",
            "    dataset, split=\"train\", **kwargs\n",
            "  File \"/content/drive/MyDrive/NeuralRecon-W-test/datasets/data.py\", line 105, in _setup_dataset\n",
            "    os.walk(os.path.join(self.dataset_config.ROOT_DIR, split_path))\n",
            "StopIteration\n"
          ]
        }
      ]
    },
    {
      "cell_type": "code",
      "source": [
        "#!python train.py --cfg_path config/train_brandenburg_gate.yaml --num_gpus 1 --num_nodes 2 --num_epochs 20 --batch_size 2048 --test_batch_size 512 --num_workers 16 --exp_name train-exp_BG\n",
        "!python train.py --cfg_path"
      ],
      "metadata": {
        "colab": {
          "base_uri": "https://localhost:8080/"
        },
        "id": "YWnUnUzCvLW8",
        "outputId": "a8cb59a1-ce59-4d3b-f466-bad4be4a14de"
      },
      "execution_count": 4,
      "outputs": [
        {
          "output_type": "stream",
          "name": "stdout",
          "text": [
            "INFO - 2022-07-29 05:41:10,827 - utils - NumExpr defaulting to 4 threads.\n",
            "Traceback (most recent call last):\n",
            "  File \"train.py\", line 5, in <module>\n",
            "    from datasets import DataModule\n",
            "  File \"/content/drive/MyDrive/NeuralRecon-W-test/datasets/__init__.py\", line 1, in <module>\n",
            "    from .phototourism import PhototourismDataset\n",
            "  File \"/content/drive/MyDrive/NeuralRecon-W-test/datasets/phototourism.py\", line 16, in <module>\n",
            "    from tools.prepare_data.generate_voxel import get_near_far, gen_octree_from_sfm\n",
            "  File \"/content/drive/MyDrive/NeuralRecon-W-test/tools/prepare_data/generate_voxel.py\", line 13, in <module>\n",
            "    from kaolin.ops import spc\n",
            "  File \"/usr/local/lib/python3.7/dist-packages/kaolin/__init__.py\", line 1, in <module>\n",
            "    from . import io\n",
            "  File \"/usr/local/lib/python3.7/dist-packages/kaolin/io/__init__.py\", line 5, in <module>\n",
            "    from . import render\n",
            "  File \"/usr/local/lib/python3.7/dist-packages/kaolin/io/render.py\", line 23, in <module>\n",
            "    from ..render.camera import generate_perspective_projection\n",
            "  File \"/usr/local/lib/python3.7/dist-packages/kaolin/render/__init__.py\", line 2, in <module>\n",
            "    from . import mesh\n",
            "  File \"/usr/local/lib/python3.7/dist-packages/kaolin/render/mesh/__init__.py\", line 1, in <module>\n",
            "    from .utils import *\n",
            "  File \"/usr/local/lib/python3.7/dist-packages/kaolin/render/mesh/utils.py\", line 22, in <module>\n",
            "    from ... import ops\n",
            "  File \"/usr/local/lib/python3.7/dist-packages/kaolin/ops/__init__.py\", line 1, in <module>\n",
            "    from . import batch\n",
            "  File \"/usr/local/lib/python3.7/dist-packages/kaolin/ops/batch.py\", line 17, in <module>\n",
            "    from kaolin import _C\n",
            "ImportError: /usr/local/lib/python3.7/dist-packages/kaolin/_C.so: undefined symbol: _ZNK3c1010TensorImpl36is_contiguous_nondefault_policy_implENS_12MemoryFormatE\n"
          ]
        }
      ]
    },
    {
      "cell_type": "markdown",
      "source": [
        "#Evaluating"
      ],
      "metadata": {
        "id": "xXna_2xD0DcF"
      }
    },
    {
      "cell_type": "markdown",
      "source": [
        "评估已有weights"
      ],
      "metadata": {
        "id": "MaA6z8oqea-E"
      }
    },
    {
      "cell_type": "code",
      "source": [
        "#!sh scripts/sdf_extract.sh $EXP_NAME config/train_${SCENE_NAME}.yaml $CKPT_PATH 10\n",
        "!sh scripts/sdf_extract.sh exp_BG config/train_brandenburg_gate.yaml /weights/deeplabv3_r101-d8_512x512_160k_ade20k_20200615_105816-b1f72b3b 1"
      ],
      "metadata": {
        "colab": {
          "base_uri": "https://localhost:8080/"
        },
        "id": "p18sqrxe0HH5",
        "outputId": "2e301652-4ae2-415f-c59c-3707421a963a"
      },
      "execution_count": 10,
      "outputs": [
        {
          "output_type": "stream",
          "name": "stdout",
          "text": [
            "+ set -u\n",
            "+ date +%Y%m%d_%H%M%S\n",
            "+ now=20220729_054602\n",
            "+ jobname=sdf-exp_BG-20220729_054602\n",
            "+ echo job name is sdf-exp_BG-20220729_054602\n",
            "job name is sdf-exp_BG-20220729_054602\n",
            "+ config_file=config/train_brandenburg_gate.yaml\n",
            "+ ckpt_path=/weights/deeplabv3_r101-d8_512x512_160k_ade20k_20200615_105816-b1f72b3b\n",
            "+ eval_level=1\n",
            "+ python -m torch.distributed.launch --nproc_per_node=4 tools/extract_mesh.py --cfg_path config/train_brandenburg_gate.yaml --mesh_size 1024 --chunk 102144 --ckpt_path /weights/deeplabv3_r101-d8_512x512_160k_ade20k_20200615_105816-b1f72b3b --mesh_radius 1 --mesh_origin 0, 0, 0 --chunk_rgb 1024 --vertex_color --eval_level 1\n",
            "+ tee log/sdf-exp_BG-20220729_054602.log\n",
            "/usr/local/lib/python3.7/dist-packages/torch/distributed/launch.py:186: FutureWarning: The module torch.distributed.launch is deprecated\n",
            "and will be removed in future. Use torchrun.\n",
            "Note that --use_env is set by default in torchrun.\n",
            "If your script expects `--local_rank` argument to be set, please\n",
            "change it to read from `os.environ['LOCAL_RANK']` instead. See \n",
            "https://pytorch.org/docs/stable/distributed.html#launch-utility for \n",
            "further instructions\n",
            "\n",
            "  FutureWarning,\n",
            "WARNING:torch.distributed.run:\n",
            "*****************************************\n",
            "Setting OMP_NUM_THREADS environment variable for each process to be 1 in default, to avoid your system being overloaded, please further tune the variable for optimal performance in your application as needed. \n",
            "*****************************************\n",
            "Traceback (most recent call last):\n",
            "Traceback (most recent call last):\n",
            "  File \"tools/extract_mesh.py\", line 13, in <module>\n",
            "  File \"tools/extract_mesh.py\", line 13, in <module>\n",
            "    from lightning_modules.neuconw_system import NeuconWSystem\n",
            "  File \"./lightning_modules/neuconw_system.py\", line 9, in <module>\n",
            "    from lightning_modules.neuconw_system import NeuconWSystem\n",
            "  File \"./lightning_modules/neuconw_system.py\", line 9, in <module>\n",
            "    from rendering.renderer import NeuconWRenderer\n",
            "  File \"./rendering/renderer.py\", line 5, in <module>\n",
            "    from rendering.renderer import NeuconWRenderer\n",
            "  File \"./rendering/renderer.py\", line 5, in <module>\n",
            "Traceback (most recent call last):\n",
            "  File \"tools/extract_mesh.py\", line 13, in <module>\n",
            "    from lightning_modules.neuconw_system import NeuconWSystem\n",
            "  File \"./lightning_modules/neuconw_system.py\", line 9, in <module>\n",
            "    from rendering.renderer import NeuconWRenderer\n",
            "  File \"./rendering/renderer.py\", line 5, in <module>\n",
            "Traceback (most recent call last):\n",
            "  File \"tools/extract_mesh.py\", line 13, in <module>\n",
            "    from lightning_modules.neuconw_system import NeuconWSystem\n",
            "  File \"./lightning_modules/neuconw_system.py\", line 9, in <module>\n",
            "    from rendering.renderer import NeuconWRenderer\n",
            "  File \"./rendering/renderer.py\", line 5, in <module>\n",
            "        from datasets.mask_utils import get_label_id_mapping\n",
            "  File \"./datasets/__init__.py\", line 1, in <module>\n",
            "from datasets.mask_utils import get_label_id_mapping\n",
            "  File \"./datasets/__init__.py\", line 1, in <module>\n",
            "    from datasets.mask_utils import get_label_id_mapping\n",
            "  File \"./datasets/__init__.py\", line 1, in <module>\n",
            "    from datasets.mask_utils import get_label_id_mapping\n",
            "  File \"./datasets/__init__.py\", line 1, in <module>\n",
            "    from .phototourism import PhototourismDataset\n",
            "  File \"./datasets/phototourism.py\", line 16, in <module>\n",
            "    from .phototourism import PhototourismDataset\n",
            "  File \"./datasets/phototourism.py\", line 16, in <module>\n",
            "    from .phototourism import PhototourismDataset\n",
            "  File \"./datasets/phototourism.py\", line 16, in <module>\n",
            "    from .phototourism import PhototourismDataset\n",
            "  File \"./datasets/phototourism.py\", line 16, in <module>\n",
            "    from tools.prepare_data.generate_voxel import get_near_far, gen_octree_from_sfm\n",
            "  File \"./tools/prepare_data/generate_voxel.py\", line 13, in <module>\n",
            "    from tools.prepare_data.generate_voxel import get_near_far, gen_octree_from_sfm\n",
            "  File \"./tools/prepare_data/generate_voxel.py\", line 13, in <module>\n",
            "    from tools.prepare_data.generate_voxel import get_near_far, gen_octree_from_sfm\n",
            "  File \"./tools/prepare_data/generate_voxel.py\", line 13, in <module>\n",
            "    from tools.prepare_data.generate_voxel import get_near_far, gen_octree_from_sfm\n",
            "  File \"./tools/prepare_data/generate_voxel.py\", line 13, in <module>\n",
            "        from kaolin.ops import spc\n",
            "  File \"/usr/local/lib/python3.7/dist-packages/kaolin/__init__.py\", line 1, in <module>\n",
            "from kaolin.ops import spc\n",
            "  File \"/usr/local/lib/python3.7/dist-packages/kaolin/__init__.py\", line 1, in <module>\n",
            "    from . import io\n",
            "  File \"/usr/local/lib/python3.7/dist-packages/kaolin/io/__init__.py\", line 5, in <module>\n",
            "    from . import render\n",
            "  File \"/usr/local/lib/python3.7/dist-packages/kaolin/io/render.py\", line 23, in <module>\n",
            "    from ..render.camera import generate_perspective_projection\n",
            "  File \"/usr/local/lib/python3.7/dist-packages/kaolin/render/__init__.py\", line 2, in <module>\n",
            "    from . import mesh\n",
            "  File \"/usr/local/lib/python3.7/dist-packages/kaolin/render/mesh/__init__.py\", line 1, in <module>\n",
            "    from .utils import *\n",
            "  File \"/usr/local/lib/python3.7/dist-packages/kaolin/render/mesh/utils.py\", line 22, in <module>\n",
            "    from ... import ops\n",
            "  File \"/usr/local/lib/python3.7/dist-packages/kaolin/ops/__init__.py\", line 1, in <module>\n",
            "    from . import batch\n",
            "  File \"/usr/local/lib/python3.7/dist-packages/kaolin/ops/batch.py\", line 17, in <module>\n",
            "    from kaolin import _C\n",
            "ImportError: /usr/local/lib/python3.7/dist-packages/kaolin/_C.so: undefined symbol: _ZNK3c1010TensorImpl36is_contiguous_nondefault_policy_implENS_12MemoryFormatE\n",
            "    from kaolin.ops import spc\n",
            "  File \"/usr/local/lib/python3.7/dist-packages/kaolin/__init__.py\", line 1, in <module>\n",
            "    from . import io\n",
            "  File \"/usr/local/lib/python3.7/dist-packages/kaolin/io/__init__.py\", line 5, in <module>\n",
            "    from . import render\n",
            "  File \"/usr/local/lib/python3.7/dist-packages/kaolin/io/render.py\", line 23, in <module>\n",
            "    from ..render.camera import generate_perspective_projection\n",
            "  File \"/usr/local/lib/python3.7/dist-packages/kaolin/render/__init__.py\", line 2, in <module>\n",
            "    from . import mesh\n",
            "  File \"/usr/local/lib/python3.7/dist-packages/kaolin/render/mesh/__init__.py\", line 1, in <module>\n",
            "    from .utils import *\n",
            "  File \"/usr/local/lib/python3.7/dist-packages/kaolin/render/mesh/utils.py\", line 22, in <module>\n",
            "    from ... import ops\n",
            "  File \"/usr/local/lib/python3.7/dist-packages/kaolin/ops/__init__.py\", line 1, in <module>\n",
            "    from . import batch\n",
            "  File \"/usr/local/lib/python3.7/dist-packages/kaolin/ops/batch.py\", line 17, in <module>\n",
            "    from kaolin import _C\n",
            "ImportError: /usr/local/lib/python3.7/dist-packages/kaolin/_C.so: undefined symbol: _ZNK3c1010TensorImpl36is_contiguous_nondefault_policy_implENS_12MemoryFormatE\n",
            "    from kaolin.ops import spc\n",
            "  File \"/usr/local/lib/python3.7/dist-packages/kaolin/__init__.py\", line 1, in <module>\n",
            "    from . import io\n",
            "  File \"/usr/local/lib/python3.7/dist-packages/kaolin/io/__init__.py\", line 5, in <module>\n",
            "    from . import render\n",
            "  File \"/usr/local/lib/python3.7/dist-packages/kaolin/io/render.py\", line 23, in <module>\n",
            "    from ..render.camera import generate_perspective_projection\n",
            "  File \"/usr/local/lib/python3.7/dist-packages/kaolin/render/__init__.py\", line 2, in <module>\n",
            "    from . import mesh\n",
            "  File \"/usr/local/lib/python3.7/dist-packages/kaolin/render/mesh/__init__.py\", line 1, in <module>\n",
            "    from .utils import *\n",
            "  File \"/usr/local/lib/python3.7/dist-packages/kaolin/render/mesh/utils.py\", line 22, in <module>\n",
            "    from ... import ops\n",
            "  File \"/usr/local/lib/python3.7/dist-packages/kaolin/ops/__init__.py\", line 1, in <module>\n",
            "    from . import batch\n",
            "  File \"/usr/local/lib/python3.7/dist-packages/kaolin/ops/batch.py\", line 17, in <module>\n",
            "    from kaolin import _C\n",
            "ImportError: /usr/local/lib/python3.7/dist-packages/kaolin/_C.so: undefined symbol: _ZNK3c1010TensorImpl36is_contiguous_nondefault_policy_implENS_12MemoryFormatE\n",
            "    from . import io\n",
            "  File \"/usr/local/lib/python3.7/dist-packages/kaolin/io/__init__.py\", line 5, in <module>\n",
            "    from . import render\n",
            "  File \"/usr/local/lib/python3.7/dist-packages/kaolin/io/render.py\", line 23, in <module>\n",
            "    from ..render.camera import generate_perspective_projection\n",
            "  File \"/usr/local/lib/python3.7/dist-packages/kaolin/render/__init__.py\", line 2, in <module>\n",
            "    from . import mesh\n",
            "  File \"/usr/local/lib/python3.7/dist-packages/kaolin/render/mesh/__init__.py\", line 1, in <module>\n",
            "    from .utils import *\n",
            "  File \"/usr/local/lib/python3.7/dist-packages/kaolin/render/mesh/utils.py\", line 22, in <module>\n",
            "    from ... import ops\n",
            "  File \"/usr/local/lib/python3.7/dist-packages/kaolin/ops/__init__.py\", line 1, in <module>\n",
            "    from . import batch\n",
            "  File \"/usr/local/lib/python3.7/dist-packages/kaolin/ops/batch.py\", line 17, in <module>\n",
            "    from kaolin import _C\n",
            "ImportError: /usr/local/lib/python3.7/dist-packages/kaolin/_C.so: undefined symbol: _ZNK3c1010TensorImpl36is_contiguous_nondefault_policy_implENS_12MemoryFormatE\n",
            "ERROR:torch.distributed.elastic.multiprocessing.api:failed (exitcode: 1) local_rank: 0 (pid: 2524) of binary: /usr/bin/python3\n",
            "Traceback (most recent call last):\n",
            "  File \"/usr/lib/python3.7/runpy.py\", line 193, in _run_module_as_main\n",
            "    \"__main__\", mod_spec)\n",
            "  File \"/usr/lib/python3.7/runpy.py\", line 85, in _run_code\n",
            "    exec(code, run_globals)\n",
            "  File \"/usr/local/lib/python3.7/dist-packages/torch/distributed/launch.py\", line 193, in <module>\n",
            "    main()\n",
            "  File \"/usr/local/lib/python3.7/dist-packages/torch/distributed/launch.py\", line 189, in main\n",
            "    launch(args)\n",
            "  File \"/usr/local/lib/python3.7/dist-packages/torch/distributed/launch.py\", line 174, in launch\n",
            "    run(args)\n",
            "  File \"/usr/local/lib/python3.7/dist-packages/torch/distributed/run.py\", line 755, in run\n",
            "    )(*cmd_args)\n",
            "  File \"/usr/local/lib/python3.7/dist-packages/torch/distributed/launcher/api.py\", line 131, in __call__\n",
            "    return launch_agent(self._config, self._entrypoint, list(args))\n",
            "  File \"/usr/local/lib/python3.7/dist-packages/torch/distributed/launcher/api.py\", line 247, in launch_agent\n",
            "    failures=result.failures,\n",
            "torch.distributed.elastic.multiprocessing.errors.ChildFailedError: \n",
            "============================================================\n",
            "tools/extract_mesh.py FAILED\n",
            "------------------------------------------------------------\n",
            "Failures:\n",
            "[1]:\n",
            "  time      : 2022-07-29_05:46:13\n",
            "  host      : 1a899c7e03cc\n",
            "  rank      : 1 (local_rank: 1)\n",
            "  exitcode  : 1 (pid: 2525)\n",
            "  error_file: <N/A>\n",
            "  traceback : To enable traceback see: https://pytorch.org/docs/stable/elastic/errors.html\n",
            "[2]:\n",
            "  time      : 2022-07-29_05:46:13\n",
            "  host      : 1a899c7e03cc\n",
            "  rank      : 2 (local_rank: 2)\n",
            "  exitcode  : 1 (pid: 2526)\n",
            "  error_file: <N/A>\n",
            "  traceback : To enable traceback see: https://pytorch.org/docs/stable/elastic/errors.html\n",
            "[3]:\n",
            "  time      : 2022-07-29_05:46:13\n",
            "  host      : 1a899c7e03cc\n",
            "  rank      : 3 (local_rank: 3)\n",
            "  exitcode  : 1 (pid: 2527)\n",
            "  error_file: <N/A>\n",
            "  traceback : To enable traceback see: https://pytorch.org/docs/stable/elastic/errors.html\n",
            "------------------------------------------------------------\n",
            "Root Cause (first observed failure):\n",
            "[0]:\n",
            "  time      : 2022-07-29_05:46:13\n",
            "  host      : 1a899c7e03cc\n",
            "  rank      : 0 (local_rank: 0)\n",
            "  exitcode  : 1 (pid: 2524)\n",
            "  error_file: <N/A>\n",
            "  traceback : To enable traceback see: https://pytorch.org/docs/stable/elastic/errors.html\n",
            "============================================================\n"
          ]
        }
      ]
    },
    {
      "cell_type": "markdown",
      "source": [
        "##evaluation pipeline"
      ],
      "metadata": {
        "id": "0deeL5ngKD8l"
      }
    },
    {
      "cell_type": "code",
      "source": [
        "!sh scripts/eval_pipeline.sh $SCENE_NAME $MESH_PATH"
      ],
      "metadata": {
        "id": "fX8uYBj8KHA9"
      },
      "execution_count": null,
      "outputs": []
    },
    {
      "cell_type": "markdown",
      "source": [
        "#Reconstructing"
      ],
      "metadata": {
        "id": "pHZZf5FNKP5s"
      }
    },
    {
      "cell_type": "code",
      "source": [
        "!sh scripts/preprocess_data.sh"
      ],
      "metadata": {
        "id": "oNzWicrdKeJD",
        "outputId": "f43c39ac-f329-4054-8a42-9f869c437731",
        "colab": {
          "base_uri": "https://localhost:8080/"
        }
      },
      "execution_count": null,
      "outputs": [
        {
          "output_type": "stream",
          "name": "stdout",
          "text": [
            "+ set -u\n",
            "+ set -e\n",
            "+ date +%Y%m%d_%H%M%S\n",
            "+ now=20220728_141553\n",
            "+ pwd\n",
            "+ echo working directory is /content/drive/MyDrive/NeuralRecon-W-test\n",
            "working directory is /content/drive/MyDrive/NeuralRecon-W-test\n",
            "+ jobname=data-generation-20220728_141553\n",
            "+ SRC_PATH=/data/phototourism/training_set\n",
            "+ SCENE_NAME=brandenburg_gate\n",
            "+ DEST_PATH=/data/recon_data\n",
            "+ COLMAP_PATH=dense/sparse\n",
            "+ IMG_PATH=dense/images\n",
            "+ SPLIT_TYPE=none\n",
            "+ python tools/pre_process.py --src /data/phototourism/training_set/brandenburg_gate --dest /data/recon_data --split none --img_dir dense/images --colmap_dir dense/sparse\n",
            "/usr/local/lib/python3.7/dist-packages/torchvision/io/image.py:13: UserWarning: Failed to load image Python extension: libc10_hip.so: cannot open shared object file: No such file or directory\n",
            "  warn(f\"Failed to load image Python extension: {e}\")\n",
            "images groups:  [['']]\n",
            "Traceback (most recent call last):\n",
            "  File \"tools/pre_process.py\", line 193, in <module>\n",
            "    copy_file(args.src, args.dest, group_list, args.colmap_dir, args.img_dir)\n",
            "  File \"tools/pre_process.py\", line 99, in copy_file\n",
            "    \"--output_type\",'COLMAP'\n",
            "  File \"/usr/lib/python3.7/subprocess.py\", line 339, in call\n",
            "    with Popen(*popenargs, **kwargs) as p:\n",
            "  File \"/usr/lib/python3.7/subprocess.py\", line 800, in __init__\n",
            "    restore_signals, start_new_session)\n",
            "  File \"/usr/lib/python3.7/subprocess.py\", line 1551, in _execute_child\n",
            "    raise child_exception_type(errno_num, err_msg, err_filename)\n",
            "FileNotFoundError: [Errno 2] No such file or directory: 'colmap': 'colmap'\n"
          ]
        }
      ]
    },
    {
      "cell_type": "markdown",
      "source": [
        "# 测试用"
      ],
      "metadata": {
        "id": "uLhnDsAH1_cU"
      }
    },
    {
      "cell_type": "code",
      "source": [
        "!pip uninstall torchvision\n",
        "!pip install torchvision==0.12.0"
      ],
      "metadata": {
        "colab": {
          "base_uri": "https://localhost:8080/",
          "height": 682
        },
        "id": "Ie2PcftwBVtb",
        "outputId": "d7538583-2b82-4374-be92-b84c76d20fb1"
      },
      "execution_count": null,
      "outputs": [
        {
          "output_type": "stream",
          "name": "stdout",
          "text": [
            "Found existing installation: torchvision 0.12.0+rocm4.5.2\n",
            "Uninstalling torchvision-0.12.0+rocm4.5.2:\n",
            "  Would remove:\n",
            "    /usr/local/lib/python3.7/dist-packages/torchvision-0.12.0+rocm4.5.2.dist-info/*\n",
            "    /usr/local/lib/python3.7/dist-packages/torchvision.libs/libamd_comgr.a847f88b.so.2\n",
            "    /usr/local/lib/python3.7/dist-packages/torchvision.libs/libamdhip64.c85c7cef.so.4\n",
            "    /usr/local/lib/python3.7/dist-packages/torchvision.libs/libdrm.75edc4d3.so.2\n",
            "    /usr/local/lib/python3.7/dist-packages/torchvision.libs/libdrm_amdgpu.fdca4e9c.so.1\n",
            "    /usr/local/lib/python3.7/dist-packages/torchvision.libs/libelf.778b3e34.so.1\n",
            "    /usr/local/lib/python3.7/dist-packages/torchvision.libs/libhsa-runtime64.2f88ea9b.so.1\n",
            "    /usr/local/lib/python3.7/dist-packages/torchvision.libs/libjpeg.ceea7512.so.62\n",
            "    /usr/local/lib/python3.7/dist-packages/torchvision.libs/libnuma.716911dd.so.1\n",
            "    /usr/local/lib/python3.7/dist-packages/torchvision.libs/libpng16.7f72a3c5.so.16\n",
            "    /usr/local/lib/python3.7/dist-packages/torchvision.libs/libtinfo.d434ca9c.so.5\n",
            "    /usr/local/lib/python3.7/dist-packages/torchvision.libs/libz.1328edc3.so.1\n",
            "    /usr/local/lib/python3.7/dist-packages/torchvision/*\n",
            "Proceed (y/n)? y\n",
            "  Successfully uninstalled torchvision-0.12.0+rocm4.5.2\n",
            "Looking in indexes: https://pypi.org/simple, https://us-python.pkg.dev/colab-wheels/public/simple/\n",
            "Collecting torchvision==0.12.0\n",
            "  Using cached torchvision-0.12.0-cp37-cp37m-manylinux1_x86_64.whl (21.0 MB)\n",
            "Requirement already satisfied: torch==1.11.0 in /usr/local/lib/python3.7/dist-packages (from torchvision==0.12.0) (1.11.0+cu113)\n",
            "Requirement already satisfied: typing-extensions in /usr/local/lib/python3.7/dist-packages (from torchvision==0.12.0) (4.1.1)\n",
            "Requirement already satisfied: pillow!=8.3.*,>=5.3.0 in /usr/local/lib/python3.7/dist-packages (from torchvision==0.12.0) (9.2.0)\n",
            "Requirement already satisfied: requests in /usr/local/lib/python3.7/dist-packages (from torchvision==0.12.0) (2.28.1)\n",
            "Requirement already satisfied: numpy in /usr/local/lib/python3.7/dist-packages (from torchvision==0.12.0) (1.21.6)\n",
            "Requirement already satisfied: idna<4,>=2.5 in /usr/local/lib/python3.7/dist-packages (from requests->torchvision==0.12.0) (2.10)\n",
            "Requirement already satisfied: urllib3<1.27,>=1.21.1 in /usr/local/lib/python3.7/dist-packages (from requests->torchvision==0.12.0) (1.25.11)\n",
            "Requirement already satisfied: charset-normalizer<3,>=2 in /usr/local/lib/python3.7/dist-packages (from requests->torchvision==0.12.0) (2.1.0)\n",
            "Requirement already satisfied: certifi>=2017.4.17 in /usr/local/lib/python3.7/dist-packages (from requests->torchvision==0.12.0) (2022.6.15)\n",
            "Installing collected packages: torchvision\n",
            "Successfully installed torchvision-0.12.0\n"
          ]
        },
        {
          "output_type": "display_data",
          "data": {
            "application/vnd.colab-display-data+json": {
              "pip_warning": {
                "packages": [
                  "torchvision"
                ]
              }
            }
          },
          "metadata": {}
        }
      ]
    },
    {
      "cell_type": "code",
      "source": [
        "#!pip install -U torchtext==0.12.0\n",
        "import pytorch_lightning"
      ],
      "metadata": {
        "id": "T7YFZrHJ2A0T"
      },
      "execution_count": 9,
      "outputs": []
    },
    {
      "cell_type": "code",
      "source": [
        "import torchtext"
      ],
      "metadata": {
        "id": "pS8eWeF65WBR"
      },
      "execution_count": 2,
      "outputs": []
    },
    {
      "cell_type": "markdown",
      "source": [
        "## lightning安装"
      ],
      "metadata": {
        "id": "fREBG6MQemYn"
      }
    },
    {
      "cell_type": "code",
      "source": [
        "!pip install "
      ],
      "metadata": {
        "id": "5C6XgqyU_zX-"
      },
      "execution_count": null,
      "outputs": []
    },
    {
      "cell_type": "markdown",
      "source": [
        "pytorch-lightning 要求从Github下载\n",
        "\n",
        "见：https://stackoverflow.com/questions/66538407/unable-to-import-pytorch-lightning-on-google-colab\n",
        "\n",
        "另：https://github.com/Lightning-AI/lightning/issues/6210"
      ],
      "metadata": {
        "id": "DXODlEd35o0h"
      }
    },
    {
      "cell_type": "code",
      "source": [
        "!pip install git+https://github.com/Lightning-AI/lightning\n",
        "import pytorch_lightning as pl\n",
        "print(pl.__version__)"
      ],
      "metadata": {
        "colab": {
          "base_uri": "https://localhost:8080/",
          "height": 1000
        },
        "id": "GDbEyQns48Ub",
        "outputId": "d5409aaf-0889-4aca-cdb6-66b2fb2f0d4a"
      },
      "execution_count": 14,
      "outputs": [
        {
          "output_type": "stream",
          "name": "stdout",
          "text": [
            "Looking in indexes: https://pypi.org/simple, https://us-python.pkg.dev/colab-wheels/public/simple/\n",
            "Collecting git+https://github.com/Lightning-AI/lightning\n",
            "  Cloning https://github.com/Lightning-AI/lightning to /tmp/pip-req-build-or62t6qb\n",
            "  Running command git clone -q https://github.com/Lightning-AI/lightning /tmp/pip-req-build-or62t6qb\n",
            "  Running command git submodule update --init --recursive -q\n",
            "  Installing build dependencies ... \u001b[?25l\u001b[?25hdone\n",
            "  Getting requirements to build wheel ... \u001b[?25l\u001b[?25hdone\n",
            "    Preparing wheel metadata ... \u001b[?25l\u001b[?25hdone\n",
            "Requirement already satisfied: tensorboard>=2.9.1 in /usr/local/lib/python3.7/dist-packages (from lightning==2022.7.18) (2.9.1)\n",
            "Requirement already satisfied: PyYAML>=5.4 in /usr/local/lib/python3.7/dist-packages (from lightning==2022.7.18) (6.0)\n",
            "Requirement already satisfied: torchmetrics>=0.7.0 in /usr/local/lib/python3.7/dist-packages (from lightning==2022.7.18) (0.7.0)\n",
            "Requirement already satisfied: py in /usr/local/lib/python3.7/dist-packages (from lightning==2022.7.18) (1.11.0)\n",
            "Requirement already satisfied: torch>=1.9.* in /usr/local/lib/python3.7/dist-packages (from lightning==2022.7.18) (1.12.0+cu113)\n",
            "Requirement already satisfied: lightning-cloud==0.5.0 in /usr/local/lib/python3.7/dist-packages (from lightning==2022.7.18) (0.5.0)\n",
            "Requirement already satisfied: jinja2==3.0.3 in /usr/local/lib/python3.7/dist-packages (from lightning==2022.7.18) (3.0.3)\n",
            "Requirement already satisfied: traitlets in /usr/local/lib/python3.7/dist-packages (from lightning==2022.7.18) (5.1.1)\n",
            "Requirement already satisfied: deepdiff>=5.7.0 in /usr/local/lib/python3.7/dist-packages (from lightning==2022.7.18) (5.8.1)\n",
            "Requirement already satisfied: fsspec==2022.01.0 in /usr/local/lib/python3.7/dist-packages (from lightning==2022.7.18) (2022.1.0)\n",
            "Requirement already satisfied: packaging in /usr/local/lib/python3.7/dist-packages (from lightning==2022.7.18) (21.3)\n",
            "Requirement already satisfied: typing-extensions>=4.0.0 in /usr/local/lib/python3.7/dist-packages (from lightning==2022.7.18) (4.1.1)\n",
            "Requirement already satisfied: starsessions in /usr/local/lib/python3.7/dist-packages (from lightning==2022.7.18) (1.2.3)\n",
            "Requirement already satisfied: pyDeprecate>=0.3.1 in /usr/local/lib/python3.7/dist-packages (from lightning==2022.7.18) (0.3.1)\n",
            "Requirement already satisfied: s3fs==2022.1.0 in /usr/local/lib/python3.7/dist-packages (from lightning==2022.7.18) (2022.1.0)\n",
            "Requirement already satisfied: tqdm>=4.57.0 in /usr/local/lib/python3.7/dist-packages (from lightning==2022.7.18) (4.64.0)\n",
            "Requirement already satisfied: croniter in /usr/local/lib/python3.7/dist-packages (from lightning==2022.7.18) (1.3.5)\n",
            "Requirement already satisfied: numpy>=1.17.2 in /usr/local/lib/python3.7/dist-packages (from lightning==2022.7.18) (1.21.6)\n",
            "Requirement already satisfied: MarkupSafe>=2.0 in /usr/local/lib/python3.7/dist-packages (from jinja2==3.0.3->lightning==2022.7.18) (2.1.1)\n",
            "Requirement already satisfied: urllib3 in /usr/local/lib/python3.7/dist-packages (from lightning-cloud==0.5.0->lightning==2022.7.18) (1.25.11)\n",
            "Requirement already satisfied: six in /usr/local/lib/python3.7/dist-packages (from lightning-cloud==0.5.0->lightning==2022.7.18) (1.15.0)\n",
            "Requirement already satisfied: fastapi[all] in /usr/local/lib/python3.7/dist-packages (from lightning-cloud==0.5.0->lightning==2022.7.18) (0.79.0)\n",
            "Requirement already satisfied: click in /usr/local/lib/python3.7/dist-packages (from lightning-cloud==0.5.0->lightning==2022.7.18) (7.1.2)\n",
            "Requirement already satisfied: rich in /usr/local/lib/python3.7/dist-packages (from lightning-cloud==0.5.0->lightning==2022.7.18) (12.5.1)\n",
            "Requirement already satisfied: requests in /usr/local/lib/python3.7/dist-packages (from lightning-cloud==0.5.0->lightning==2022.7.18) (2.28.1)\n",
            "Requirement already satisfied: websocket-client in /usr/local/lib/python3.7/dist-packages (from lightning-cloud==0.5.0->lightning==2022.7.18) (1.3.3)\n",
            "Requirement already satisfied: pyjwt in /usr/local/lib/python3.7/dist-packages (from lightning-cloud==0.5.0->lightning==2022.7.18) (2.4.0)\n",
            "Requirement already satisfied: aiobotocore~=2.1.0 in /usr/local/lib/python3.7/dist-packages (from s3fs==2022.1.0->lightning==2022.7.18) (2.1.2)\n",
            "Requirement already satisfied: aiohttp<=4 in /usr/local/lib/python3.7/dist-packages (from s3fs==2022.1.0->lightning==2022.7.18) (3.8.1)\n",
            "Requirement already satisfied: wrapt>=1.10.10 in /usr/local/lib/python3.7/dist-packages (from aiobotocore~=2.1.0->s3fs==2022.1.0->lightning==2022.7.18) (1.14.1)\n",
            "Requirement already satisfied: aioitertools>=0.5.1 in /usr/local/lib/python3.7/dist-packages (from aiobotocore~=2.1.0->s3fs==2022.1.0->lightning==2022.7.18) (0.10.0)\n",
            "Requirement already satisfied: botocore<1.23.25,>=1.23.24 in /usr/local/lib/python3.7/dist-packages (from aiobotocore~=2.1.0->s3fs==2022.1.0->lightning==2022.7.18) (1.23.24)\n",
            "Requirement already satisfied: attrs>=17.3.0 in /usr/local/lib/python3.7/dist-packages (from aiohttp<=4->s3fs==2022.1.0->lightning==2022.7.18) (21.4.0)\n",
            "Requirement already satisfied: asynctest==0.13.0 in /usr/local/lib/python3.7/dist-packages (from aiohttp<=4->s3fs==2022.1.0->lightning==2022.7.18) (0.13.0)\n",
            "Requirement already satisfied: aiosignal>=1.1.2 in /usr/local/lib/python3.7/dist-packages (from aiohttp<=4->s3fs==2022.1.0->lightning==2022.7.18) (1.2.0)\n",
            "Requirement already satisfied: async-timeout<5.0,>=4.0.0a3 in /usr/local/lib/python3.7/dist-packages (from aiohttp<=4->s3fs==2022.1.0->lightning==2022.7.18) (4.0.2)\n",
            "Requirement already satisfied: yarl<2.0,>=1.0 in /usr/local/lib/python3.7/dist-packages (from aiohttp<=4->s3fs==2022.1.0->lightning==2022.7.18) (1.7.2)\n",
            "Requirement already satisfied: charset-normalizer<3.0,>=2.0 in /usr/local/lib/python3.7/dist-packages (from aiohttp<=4->s3fs==2022.1.0->lightning==2022.7.18) (2.1.0)\n",
            "Requirement already satisfied: frozenlist>=1.1.1 in /usr/local/lib/python3.7/dist-packages (from aiohttp<=4->s3fs==2022.1.0->lightning==2022.7.18) (1.3.0)\n",
            "Requirement already satisfied: multidict<7.0,>=4.5 in /usr/local/lib/python3.7/dist-packages (from aiohttp<=4->s3fs==2022.1.0->lightning==2022.7.18) (6.0.2)\n",
            "Requirement already satisfied: jmespath<1.0.0,>=0.7.1 in /usr/local/lib/python3.7/dist-packages (from botocore<1.23.25,>=1.23.24->aiobotocore~=2.1.0->s3fs==2022.1.0->lightning==2022.7.18) (0.10.0)\n",
            "Requirement already satisfied: python-dateutil<3.0.0,>=2.1 in /usr/local/lib/python3.7/dist-packages (from botocore<1.23.25,>=1.23.24->aiobotocore~=2.1.0->s3fs==2022.1.0->lightning==2022.7.18) (2.8.2)\n",
            "Requirement already satisfied: ordered-set<4.2.0,>=4.1.0 in /usr/local/lib/python3.7/dist-packages (from deepdiff>=5.7.0->lightning==2022.7.18) (4.1.0)\n",
            "Requirement already satisfied: pyparsing!=3.0.5,>=2.0.2 in /usr/local/lib/python3.7/dist-packages (from packaging->lightning==2022.7.18) (3.0.9)\n",
            "Requirement already satisfied: absl-py>=0.4 in /usr/local/lib/python3.7/dist-packages (from tensorboard>=2.9.1->lightning==2022.7.18) (1.2.0)\n",
            "Requirement already satisfied: markdown>=2.6.8 in /usr/local/lib/python3.7/dist-packages (from tensorboard>=2.9.1->lightning==2022.7.18) (3.4.1)\n",
            "Requirement already satisfied: werkzeug>=1.0.1 in /usr/local/lib/python3.7/dist-packages (from tensorboard>=2.9.1->lightning==2022.7.18) (2.2.1)\n",
            "Requirement already satisfied: setuptools>=41.0.0 in /usr/local/lib/python3.7/dist-packages (from tensorboard>=2.9.1->lightning==2022.7.18) (57.4.0)\n",
            "Requirement already satisfied: google-auth-oauthlib<0.5,>=0.4.1 in /usr/local/lib/python3.7/dist-packages (from tensorboard>=2.9.1->lightning==2022.7.18) (0.4.6)\n",
            "Requirement already satisfied: protobuf<3.20,>=3.9.2 in /usr/local/lib/python3.7/dist-packages (from tensorboard>=2.9.1->lightning==2022.7.18) (3.17.3)\n",
            "Requirement already satisfied: google-auth<3,>=1.6.3 in /usr/local/lib/python3.7/dist-packages (from tensorboard>=2.9.1->lightning==2022.7.18) (1.35.0)\n",
            "Requirement already satisfied: tensorboard-data-server<0.7.0,>=0.6.0 in /usr/local/lib/python3.7/dist-packages (from tensorboard>=2.9.1->lightning==2022.7.18) (0.6.1)\n",
            "Requirement already satisfied: grpcio>=1.24.3 in /usr/local/lib/python3.7/dist-packages (from tensorboard>=2.9.1->lightning==2022.7.18) (1.47.0)\n",
            "Requirement already satisfied: wheel>=0.26 in /usr/local/lib/python3.7/dist-packages (from tensorboard>=2.9.1->lightning==2022.7.18) (0.37.1)\n",
            "Requirement already satisfied: tensorboard-plugin-wit>=1.6.0 in /usr/local/lib/python3.7/dist-packages (from tensorboard>=2.9.1->lightning==2022.7.18) (1.8.1)\n",
            "Requirement already satisfied: rsa<5,>=3.1.4 in /usr/local/lib/python3.7/dist-packages (from google-auth<3,>=1.6.3->tensorboard>=2.9.1->lightning==2022.7.18) (4.9)\n",
            "Requirement already satisfied: pyasn1-modules>=0.2.1 in /usr/local/lib/python3.7/dist-packages (from google-auth<3,>=1.6.3->tensorboard>=2.9.1->lightning==2022.7.18) (0.2.8)\n",
            "Requirement already satisfied: cachetools<5.0,>=2.0.0 in /usr/local/lib/python3.7/dist-packages (from google-auth<3,>=1.6.3->tensorboard>=2.9.1->lightning==2022.7.18) (4.2.4)\n",
            "Requirement already satisfied: requests-oauthlib>=0.7.0 in /usr/local/lib/python3.7/dist-packages (from google-auth-oauthlib<0.5,>=0.4.1->tensorboard>=2.9.1->lightning==2022.7.18) (1.3.1)\n",
            "Requirement already satisfied: importlib-metadata>=4.4 in /usr/local/lib/python3.7/dist-packages (from markdown>=2.6.8->tensorboard>=2.9.1->lightning==2022.7.18) (4.12.0)\n",
            "Requirement already satisfied: zipp>=0.5 in /usr/local/lib/python3.7/dist-packages (from importlib-metadata>=4.4->markdown>=2.6.8->tensorboard>=2.9.1->lightning==2022.7.18) (3.8.1)\n",
            "Requirement already satisfied: pyasn1<0.5.0,>=0.4.6 in /usr/local/lib/python3.7/dist-packages (from pyasn1-modules>=0.2.1->google-auth<3,>=1.6.3->tensorboard>=2.9.1->lightning==2022.7.18) (0.4.8)\n",
            "Requirement already satisfied: certifi>=2017.4.17 in /usr/local/lib/python3.7/dist-packages (from requests->lightning-cloud==0.5.0->lightning==2022.7.18) (2022.6.15)\n",
            "Requirement already satisfied: idna<4,>=2.5 in /usr/local/lib/python3.7/dist-packages (from requests->lightning-cloud==0.5.0->lightning==2022.7.18) (2.10)\n",
            "Requirement already satisfied: oauthlib>=3.0.0 in /usr/local/lib/python3.7/dist-packages (from requests-oauthlib>=0.7.0->google-auth-oauthlib<0.5,>=0.4.1->tensorboard>=2.9.1->lightning==2022.7.18) (3.2.0)\n",
            "Requirement already satisfied: starlette==0.19.1 in /usr/local/lib/python3.7/dist-packages (from fastapi[all]->lightning-cloud==0.5.0->lightning==2022.7.18) (0.19.1)\n",
            "Requirement already satisfied: pydantic!=1.7,!=1.7.1,!=1.7.2,!=1.7.3,!=1.8,!=1.8.1,<2.0.0,>=1.6.2 in /usr/local/lib/python3.7/dist-packages (from fastapi[all]->lightning-cloud==0.5.0->lightning==2022.7.18) (1.9.1)\n",
            "Requirement already satisfied: itsdangerous<3.0.0,>=1.1.0 in /usr/local/lib/python3.7/dist-packages (from fastapi[all]->lightning-cloud==0.5.0->lightning==2022.7.18) (2.1.2)\n",
            "Requirement already satisfied: python-multipart<0.0.6,>=0.0.5 in /usr/local/lib/python3.7/dist-packages (from fastapi[all]->lightning-cloud==0.5.0->lightning==2022.7.18) (0.0.5)\n",
            "Requirement already satisfied: email_validator<2.0.0,>=1.1.1 in /usr/local/lib/python3.7/dist-packages (from fastapi[all]->lightning-cloud==0.5.0->lightning==2022.7.18) (1.2.1)\n",
            "Requirement already satisfied: orjson<4.0.0,>=3.2.1 in /usr/local/lib/python3.7/dist-packages (from fastapi[all]->lightning-cloud==0.5.0->lightning==2022.7.18) (3.7.8)\n",
            "Requirement already satisfied: uvicorn[standard]<0.18.0,>=0.12.0 in /usr/local/lib/python3.7/dist-packages (from fastapi[all]->lightning-cloud==0.5.0->lightning==2022.7.18) (0.17.6)\n",
            "Requirement already satisfied: ujson!=4.0.2,!=4.1.0,!=4.2.0,!=4.3.0,!=5.0.0,!=5.1.0,<6.0.0,>=4.0.1 in /usr/local/lib/python3.7/dist-packages (from fastapi[all]->lightning-cloud==0.5.0->lightning==2022.7.18) (5.4.0)\n",
            "Requirement already satisfied: anyio<5,>=3.4.0 in /usr/local/lib/python3.7/dist-packages (from starlette==0.19.1->fastapi[all]->lightning-cloud==0.5.0->lightning==2022.7.18) (3.6.1)\n",
            "Requirement already satisfied: sniffio>=1.1 in /usr/local/lib/python3.7/dist-packages (from anyio<5,>=3.4.0->starlette==0.19.1->fastapi[all]->lightning-cloud==0.5.0->lightning==2022.7.18) (1.2.0)\n",
            "Requirement already satisfied: dnspython>=1.15.0 in /usr/local/lib/python3.7/dist-packages (from email_validator<2.0.0,>=1.1.1->fastapi[all]->lightning-cloud==0.5.0->lightning==2022.7.18) (2.2.1)\n",
            "Requirement already satisfied: h11>=0.8 in /usr/local/lib/python3.7/dist-packages (from uvicorn[standard]<0.18.0,>=0.12.0->fastapi[all]->lightning-cloud==0.5.0->lightning==2022.7.18) (0.13.0)\n",
            "Requirement already satisfied: asgiref>=3.4.0 in /usr/local/lib/python3.7/dist-packages (from uvicorn[standard]<0.18.0,>=0.12.0->fastapi[all]->lightning-cloud==0.5.0->lightning==2022.7.18) (3.5.2)\n",
            "Requirement already satisfied: httptools>=0.4.0 in /usr/local/lib/python3.7/dist-packages (from uvicorn[standard]<0.18.0,>=0.12.0->fastapi[all]->lightning-cloud==0.5.0->lightning==2022.7.18) (0.4.0)\n",
            "Requirement already satisfied: uvloop!=0.15.0,!=0.15.1,>=0.14.0 in /usr/local/lib/python3.7/dist-packages (from uvicorn[standard]<0.18.0,>=0.12.0->fastapi[all]->lightning-cloud==0.5.0->lightning==2022.7.18) (0.16.0)\n",
            "Requirement already satisfied: python-dotenv>=0.13 in /usr/local/lib/python3.7/dist-packages (from uvicorn[standard]<0.18.0,>=0.12.0->fastapi[all]->lightning-cloud==0.5.0->lightning==2022.7.18) (0.20.0)\n",
            "Requirement already satisfied: watchgod>=0.6 in /usr/local/lib/python3.7/dist-packages (from uvicorn[standard]<0.18.0,>=0.12.0->fastapi[all]->lightning-cloud==0.5.0->lightning==2022.7.18) (0.8.2)\n",
            "Requirement already satisfied: websockets>=10.0 in /usr/local/lib/python3.7/dist-packages (from uvicorn[standard]<0.18.0,>=0.12.0->fastapi[all]->lightning-cloud==0.5.0->lightning==2022.7.18) (10.3)\n",
            "Requirement already satisfied: pygments<3.0.0,>=2.6.0 in /usr/local/lib/python3.7/dist-packages (from rich->lightning-cloud==0.5.0->lightning==2022.7.18) (2.6.1)\n",
            "Requirement already satisfied: commonmark<0.10.0,>=0.9.0 in /usr/local/lib/python3.7/dist-packages (from rich->lightning-cloud==0.5.0->lightning==2022.7.18) (0.9.1)\n"
          ]
        },
        {
          "output_type": "error",
          "ename": "AttributeError",
          "evalue": "ignored",
          "traceback": [
            "\u001b[0;31m---------------------------------------------------------------------------\u001b[0m",
            "\u001b[0;31mAttributeError\u001b[0m                            Traceback (most recent call last)",
            "\u001b[0;32m<ipython-input-14-fe1a4fd98cc4>\u001b[0m in \u001b[0;36m<module>\u001b[0;34m()\u001b[0m\n\u001b[1;32m      1\u001b[0m \u001b[0mget_ipython\u001b[0m\u001b[0;34m(\u001b[0m\u001b[0;34m)\u001b[0m\u001b[0;34m.\u001b[0m\u001b[0msystem\u001b[0m\u001b[0;34m(\u001b[0m\u001b[0;34m'pip install git+https://github.com/Lightning-AI/lightning'\u001b[0m\u001b[0;34m)\u001b[0m\u001b[0;34m\u001b[0m\u001b[0;34m\u001b[0m\u001b[0m\n\u001b[1;32m      2\u001b[0m \u001b[0;32mimport\u001b[0m \u001b[0mpytorch_lightning\u001b[0m \u001b[0;32mas\u001b[0m \u001b[0mpl\u001b[0m\u001b[0;34m\u001b[0m\u001b[0;34m\u001b[0m\u001b[0m\n\u001b[0;32m----> 3\u001b[0;31m \u001b[0mprint\u001b[0m\u001b[0;34m(\u001b[0m\u001b[0mpl\u001b[0m\u001b[0;34m.\u001b[0m\u001b[0m__version__\u001b[0m\u001b[0;34m)\u001b[0m\u001b[0;34m\u001b[0m\u001b[0;34m\u001b[0m\u001b[0m\n\u001b[0m",
            "\u001b[0;31mAttributeError\u001b[0m: module 'pytorch_lightning' has no attribute '__version__'"
          ]
        }
      ]
    },
    {
      "cell_type": "code",
      "source": [
        "import pytorch_lightning as pl\n",
        "class MyDataModule(pl.LightningDataModule):\n",
        "  pass\n",
        "#print(pl.__version__)"
      ],
      "metadata": {
        "id": "mpdYUBF9_67K"
      },
      "execution_count": null,
      "outputs": []
    },
    {
      "cell_type": "code",
      "source": [
        "import torchtext"
      ],
      "metadata": {
        "id": "5jJ0MvWwwHkc"
      },
      "execution_count": null,
      "outputs": []
    },
    {
      "cell_type": "code",
      "source": [
        "from torchtext.legacy.data import Batch"
      ],
      "metadata": {
        "id": "Og5xJWKzvVcN"
      },
      "execution_count": null,
      "outputs": []
    },
    {
      "cell_type": "markdown",
      "source": [
        "===分割线==="
      ],
      "metadata": {
        "id": "GPAIJnLeA7Mx"
      }
    },
    {
      "cell_type": "code",
      "source": [
        "!python train.py --cfg_path config/train_brandenburg_gate.yaml --num_gpus 1 --num_nodes 2 --num_epochs 20 --batch_size 2048 --test_batch_size 512 --num_workers 16 --exp_name train-exp_BG"
      ],
      "metadata": {
        "colab": {
          "base_uri": "https://localhost:8080/"
        },
        "id": "fH60XCC4A83r",
        "outputId": "b7049c18-8c0e-42ce-bd81-ea80a83aa8cf"
      },
      "execution_count": null,
      "outputs": [
        {
          "output_type": "stream",
          "name": "stdout",
          "text": [
            "/usr/local/lib/python3.7/dist-packages/torchvision/io/image.py:13: UserWarning: Failed to load image Python extension: libc10_hip.so: cannot open shared object file: No such file or directory\n",
            "  warn(f\"Failed to load image Python extension: {e}\")\n",
            "INFO - 2022-07-28 08:54:41,425 - rasterization - Cannot import nvdiffrast\n",
            "src/tcmalloc.cc:283] Attempt to free invalid pointer 0x7ffd491a5198 \n"
          ]
        }
      ]
    },
    {
      "cell_type": "code",
      "source": [
        "!pip install tensorboard==2.8\n",
        "!pip install requests==2.23.0"
      ],
      "metadata": {
        "id": "F8U8qaG_fEC5"
      },
      "execution_count": null,
      "outputs": []
    },
    {
      "cell_type": "markdown",
      "source": [
        "### 杂务"
      ],
      "metadata": {
        "id": "dVD4iurMf5Ar"
      }
    },
    {
      "cell_type": "code",
      "source": [
        "import pytorch_lightning.loggers\n"
      ],
      "metadata": {
        "id": "_TLZ-s44m4SR"
      },
      "execution_count": 31,
      "outputs": []
    },
    {
      "cell_type": "code",
      "source": [
        "from pytorch_lightning.loggers import TestTubeLogger"
      ],
      "metadata": {
        "id": "h5xGJELom78f"
      },
      "execution_count": null,
      "outputs": []
    },
    {
      "cell_type": "code",
      "source": [
        "import kaolin"
      ],
      "metadata": {
        "id": "eBIFlwsGhqfr"
      },
      "execution_count": 33,
      "outputs": []
    },
    {
      "cell_type": "code",
      "source": [
        "from kaolin import _C"
      ],
      "metadata": {
        "id": "OZvMlfUNha_S"
      },
      "execution_count": 34,
      "outputs": []
    },
    {
      "cell_type": "code",
      "source": [
        "import pytorch_lightning as pl"
      ],
      "metadata": {
        "id": "xBaTPwEb-Bhh"
      },
      "execution_count": 11,
      "outputs": []
    }
  ]
}