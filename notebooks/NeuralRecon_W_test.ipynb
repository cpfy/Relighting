{
  "nbformat": 4,
  "nbformat_minor": 0,
  "metadata": {
    "colab": {
      "name": "NeuralRecon-W-test.ipynb",
      "provenance": [],
      "machine_shape": "hm"
    },
    "kernelspec": {
      "name": "python3",
      "display_name": "Python 3"
    },
    "language_info": {
      "name": "python"
    },
    "accelerator": "GPU",
    "gpuClass": "standard"
  },
  "cells": [
    {
      "cell_type": "markdown",
      "source": [
        "#必做项"
      ],
      "metadata": {
        "id": "L5alSqKnHJpw"
      }
    },
    {
      "cell_type": "markdown",
      "source": [
        "搭载Google Drive"
      ],
      "metadata": {
        "id": "sbziHIDz3j9v"
      }
    },
    {
      "cell_type": "code",
      "source": [
        "from google.colab import drive\n",
        "drive.mount(\"/content/drive\")\n",
        "\n",
        "import os\n",
        "path=\"/content/drive/MyDrive/NeuralRecon-W-test\"\n",
        "os.chdir(path)\n",
        "os.listdir(path)"
      ],
      "metadata": {
        "colab": {
          "base_uri": "https://localhost:8080/"
        },
        "id": "q0lpzDY83qLq",
        "outputId": "d7587e1c-526b-4a60-b19d-c68dddec1c9c"
      },
      "execution_count": 8,
      "outputs": [
        {
          "output_type": "stream",
          "name": "stdout",
          "text": [
            "Drive already mounted at /content/drive; to attempt to forcibly remount, call drive.mount(\"/content/drive\", force_remount=True).\n"
          ]
        },
        {
          "output_type": "execute_result",
          "data": {
            "text/plain": [
              "['metrics.py',\n",
              " 'README.md',\n",
              " 'LICENSE',\n",
              " 'requirements.txt',\n",
              " 'losses.py',\n",
              " 'environment.yaml',\n",
              " 'tools',\n",
              " 'scripts',\n",
              " 'utils',\n",
              " 'models',\n",
              " 'evaluations',\n",
              " 'assets',\n",
              " 'rendering',\n",
              " 'opt.py',\n",
              " 'train.py',\n",
              " 'lightning_modules',\n",
              " 'datasets',\n",
              " '.gitignore',\n",
              " 'data',\n",
              " 'weights',\n",
              " 'log',\n",
              " 'config']"
            ]
          },
          "metadata": {},
          "execution_count": 8
        }
      ]
    },
    {
      "cell_type": "markdown",
      "source": [
        "# 第一次初始化操作"
      ],
      "metadata": {
        "id": "YrOuLSOGBKmy"
      }
    },
    {
      "cell_type": "markdown",
      "source": [
        "操作说明与仓库地址：https://github.com/zju3dv/NeuralRecon-W"
      ],
      "metadata": {
        "id": "ff2BKwPdFGZW"
      }
    },
    {
      "cell_type": "markdown",
      "source": [
        "下载数据，示例见：（已完成）\n",
        "\n",
        "```shell\n",
        "mkdir data && cd data\n",
        "gdown --id 1eZvmk4GQkrRKUNZpagZEIY_z8Lsdw94v\n",
        "```\n",
        "\n",
        "此处参见unzipfile.ipynb"
      ],
      "metadata": {
        "id": "jRtdPyMPE-ru"
      }
    },
    {
      "cell_type": "markdown",
      "source": [
        "对所有scene生成Ray Cache，例如：\n",
        "\n",
        "```python\n",
        "for SCENE_NAME in brandenburg_gate lincoln_memorial palacio_de_bellas_artes pantheon_exterior; do\n",
        "  scripts/data_generation.sh data/heritage-recon/${SCENE_NAME}\n",
        "done\n",
        "```\n",
        "\n"
      ],
      "metadata": {
        "id": "iTmrokKrFRo0"
      }
    },
    {
      "cell_type": "code",
      "source": [
        "!ls"
      ],
      "metadata": {
        "colab": {
          "base_uri": "https://localhost:8080/"
        },
        "id": "7HjjHbVRLwjj",
        "outputId": "c8a40897-748d-4a8f-8d94-374bcbeb4d90"
      },
      "execution_count": 10,
      "outputs": [
        {
          "output_type": "stream",
          "name": "stdout",
          "text": [
            "assets\t  environment.yaml   log\t opt.py\t\t   scripts   weights\n",
            "config\t  evaluations\t     losses.py\t README.md\t   tools\n",
            "data\t  LICENSE\t     metrics.py  rendering\t   train.py\n",
            "datasets  lightning_modules  models\t requirements.txt  utils\n"
          ]
        }
      ]
    },
    {
      "cell_type": "markdown",
      "source": [
        "本来应用于生成ray cache数据，目前kaolin一直报错\n",
        "提了一个Issue：https://github.com/NVIDIAGameWorks/kaolin/issues/597"
      ],
      "metadata": {
        "id": "_sOfbxQZ0c6h"
      }
    },
    {
      "cell_type": "code",
      "source": [
        "!sh scripts/data_generation.sh data/heritage-recon/brandenburg_gate\n"
      ],
      "metadata": {
        "colab": {
          "base_uri": "https://localhost:8080/"
        },
        "id": "Lz6uOzg3FUfM",
        "outputId": "d3199500-429b-42ae-b4ec-0b03ad3d05f3"
      },
      "execution_count": 11,
      "outputs": [
        {
          "output_type": "stream",
          "name": "stdout",
          "text": [
            "+ set -u\n",
            "+ set -e\n",
            "+ date +%Y%m%d_%H%M%S\n",
            "+ now=20220727_083244\n",
            "+ pwd\n",
            "+ echo working directory is /content/drive/MyDrive/NeuralRecon-W-test\n",
            "working directory is /content/drive/MyDrive/NeuralRecon-W-test\n",
            "+ jobname=data-generation-data/heritage-recon/brandenburg_gate-20220727_083244\n",
            "+ export CUDA_VISIBLE_DEVICES=5\n",
            "+ dataset_name=phototourism\n",
            "+ cache_dir=cache_sgs\n",
            "+ root_dir=data/heritage-recon/brandenburg_gate\n",
            "+ min_observation=-1\n",
            "+ [ ! -f data/heritage-recon/brandenburg_gate/brandenburg_gate.tsv ]\n",
            "+ python tools/prepare_data/prepare_data_cache.py --root_dir data/heritage-recon/brandenburg_gate --dataset_name phototourism --cache_dir cache_sgs --img_downscale 1 --semantic_map_path semantic_maps --split_to_chunks 64\n",
            "+ tee log/data-generation-data/heritage-recon/brandenburg_gate-20220727_083244.log\n",
            "Traceback (most recent call last):\n",
            "  File \"tools/prepare_data/prepare_data_cache.py\", line 5, in <module>\n",
            "    from datasets import dataset_dict\n",
            "  File \"./datasets/__init__.py\", line 1, in <module>\n",
            "    from .phototourism import PhototourismDataset\n",
            "  File \"./datasets/phototourism.py\", line 16, in <module>\n",
            "    from tools.prepare_data.generate_voxel import get_near_far, gen_octree_from_sfm\n",
            "  File \"./tools/prepare_data/generate_voxel.py\", line 13, in <module>\n",
            "    from kaolin.ops import spc\n",
            "  File \"/usr/local/lib/python3.7/dist-packages/kaolin/__init__.py\", line 1, in <module>\n",
            "    from . import io\n",
            "  File \"/usr/local/lib/python3.7/dist-packages/kaolin/io/__init__.py\", line 5, in <module>\n",
            "    from . import render\n",
            "  File \"/usr/local/lib/python3.7/dist-packages/kaolin/io/render.py\", line 23, in <module>\n",
            "    from ..render.camera import generate_perspective_projection\n",
            "  File \"/usr/local/lib/python3.7/dist-packages/kaolin/render/__init__.py\", line 2, in <module>\n",
            "    from . import mesh\n",
            "  File \"/usr/local/lib/python3.7/dist-packages/kaolin/render/mesh/__init__.py\", line 1, in <module>\n",
            "    from .utils import *\n",
            "  File \"/usr/local/lib/python3.7/dist-packages/kaolin/render/mesh/utils.py\", line 22, in <module>\n",
            "    from ... import ops\n",
            "  File \"/usr/local/lib/python3.7/dist-packages/kaolin/ops/__init__.py\", line 1, in <module>\n",
            "    from . import batch\n",
            "  File \"/usr/local/lib/python3.7/dist-packages/kaolin/ops/batch.py\", line 17, in <module>\n",
            "    from kaolin import _C\n",
            "ImportError: /usr/local/lib/python3.7/dist-packages/kaolin/_C.so: undefined symbol: _ZNK3c1010TensorImpl36is_contiguous_nondefault_policy_implENS_12MemoryFormatE\n"
          ]
        }
      ]
    },
    {
      "cell_type": "code",
      "source": [
        "!sh scripts/data_generation.sh data/heritage-recon/lincoln_memorial\n",
        "!shscripts/data_generation.sh data/heritage-recon/palacio_de_bellas_artes\n",
        "!sh scripts/data_generation.sh data/heritage-recon/pantheon_exterior"
      ],
      "metadata": {
        "id": "Xv3FD_FAFw2e",
        "colab": {
          "base_uri": "https://localhost:8080/"
        },
        "outputId": "dd48051c-d338-4b36-cf8d-69accb104f8e"
      },
      "execution_count": 12,
      "outputs": [
        {
          "output_type": "stream",
          "name": "stdout",
          "text": [
            "+ set -u\n",
            "+ set -e\n",
            "+ date +%Y%m%d_%H%M%S\n",
            "+ now=20220727_083257\n",
            "+ pwd\n",
            "+ echo working directory is /content/drive/MyDrive/NeuralRecon-W-test\n",
            "working directory is /content/drive/MyDrive/NeuralRecon-W-test\n",
            "+ jobname=data-generation-data/heritage-recon/lincoln_memorial-20220727_083257\n",
            "+ export CUDA_VISIBLE_DEVICES=5\n",
            "+ dataset_name=phototourism\n",
            "+ cache_dir=cache_sgs\n",
            "+ root_dir=data/heritage-recon/lincoln_memorial\n",
            "+ min_observation=-1\n",
            "+ [ ! -f data/heritage-recon/lincoln_memorial/lincoln_memorial.tsv ]\n",
            "+ python tools/prepare_data/prepare_data_cache.py --root_dir data/heritage-recon/lincoln_memorial --dataset_name phototourism --cache_dir cache_sgs --img_downscale 1 --semantic_map_path semantic_maps --split_to_chunks 64\n",
            "+ tee log/data-generation-data/heritage-recon/lincoln_memorial-20220727_083257.log\n",
            "Traceback (most recent call last):\n",
            "  File \"tools/prepare_data/prepare_data_cache.py\", line 5, in <module>\n",
            "    from datasets import dataset_dict\n",
            "  File \"./datasets/__init__.py\", line 1, in <module>\n",
            "    from .phototourism import PhototourismDataset\n",
            "  File \"./datasets/phototourism.py\", line 16, in <module>\n",
            "    from tools.prepare_data.generate_voxel import get_near_far, gen_octree_from_sfm\n",
            "  File \"./tools/prepare_data/generate_voxel.py\", line 13, in <module>\n",
            "    from kaolin.ops import spc\n",
            "  File \"/usr/local/lib/python3.7/dist-packages/kaolin/__init__.py\", line 1, in <module>\n",
            "    from . import io\n",
            "  File \"/usr/local/lib/python3.7/dist-packages/kaolin/io/__init__.py\", line 5, in <module>\n",
            "    from . import render\n",
            "  File \"/usr/local/lib/python3.7/dist-packages/kaolin/io/render.py\", line 23, in <module>\n",
            "    from ..render.camera import generate_perspective_projection\n",
            "  File \"/usr/local/lib/python3.7/dist-packages/kaolin/render/__init__.py\", line 2, in <module>\n",
            "    from . import mesh\n",
            "  File \"/usr/local/lib/python3.7/dist-packages/kaolin/render/mesh/__init__.py\", line 1, in <module>\n",
            "    from .utils import *\n",
            "  File \"/usr/local/lib/python3.7/dist-packages/kaolin/render/mesh/utils.py\", line 22, in <module>\n",
            "    from ... import ops\n",
            "  File \"/usr/local/lib/python3.7/dist-packages/kaolin/ops/__init__.py\", line 1, in <module>\n",
            "    from . import batch\n",
            "  File \"/usr/local/lib/python3.7/dist-packages/kaolin/ops/batch.py\", line 17, in <module>\n",
            "    from kaolin import _C\n",
            "ImportError: /usr/local/lib/python3.7/dist-packages/kaolin/_C.so: undefined symbol: _ZNK3c1010TensorImpl36is_contiguous_nondefault_policy_implENS_12MemoryFormatE\n",
            "/bin/bash: shscripts/data_generation.sh: No such file or directory\n",
            "+ set -u\n",
            "+ set -e\n",
            "+ date +%Y%m%d_%H%M%S\n",
            "+ now=20220727_083300\n",
            "+ pwd\n",
            "+ echo working directory is /content/drive/MyDrive/NeuralRecon-W-test\n",
            "working directory is /content/drive/MyDrive/NeuralRecon-W-test\n",
            "+ jobname=data-generation-data/heritage-recon/pantheon_exterior-20220727_083300\n",
            "+ export CUDA_VISIBLE_DEVICES=5\n",
            "+ dataset_name=phototourism\n",
            "+ cache_dir=cache_sgs\n",
            "+ root_dir=data/heritage-recon/pantheon_exterior\n",
            "+ min_observation=-1\n",
            "+ [ ! -f data/heritage-recon/pantheon_exterior/pantheon_exterior.tsv ]\n",
            "+ python tools/prepare_data/prepare_data_cache.py --root_dir data/heritage-recon/pantheon_exterior --dataset_name phototourism --cache_dir cache_sgs --img_downscale 1 --semantic_map_path semantic_maps --split_to_chunks 64\n",
            "+ tee log/data-generation-data/heritage-recon/pantheon_exterior-20220727_083300.log\n",
            "Traceback (most recent call last):\n",
            "  File \"tools/prepare_data/prepare_data_cache.py\", line 5, in <module>\n",
            "    from datasets import dataset_dict\n",
            "  File \"./datasets/__init__.py\", line 1, in <module>\n",
            "    from .phototourism import PhototourismDataset\n",
            "  File \"./datasets/phototourism.py\", line 16, in <module>\n",
            "    from tools.prepare_data.generate_voxel import get_near_far, gen_octree_from_sfm\n",
            "  File \"./tools/prepare_data/generate_voxel.py\", line 13, in <module>\n",
            "    from kaolin.ops import spc\n",
            "  File \"/usr/local/lib/python3.7/dist-packages/kaolin/__init__.py\", line 1, in <module>\n",
            "    from . import io\n",
            "  File \"/usr/local/lib/python3.7/dist-packages/kaolin/io/__init__.py\", line 5, in <module>\n",
            "    from . import render\n",
            "  File \"/usr/local/lib/python3.7/dist-packages/kaolin/io/render.py\", line 23, in <module>\n",
            "    from ..render.camera import generate_perspective_projection\n",
            "  File \"/usr/local/lib/python3.7/dist-packages/kaolin/render/__init__.py\", line 2, in <module>\n",
            "    from . import mesh\n",
            "  File \"/usr/local/lib/python3.7/dist-packages/kaolin/render/mesh/__init__.py\", line 1, in <module>\n",
            "    from .utils import *\n",
            "  File \"/usr/local/lib/python3.7/dist-packages/kaolin/render/mesh/utils.py\", line 22, in <module>\n",
            "    from ... import ops\n",
            "  File \"/usr/local/lib/python3.7/dist-packages/kaolin/ops/__init__.py\", line 1, in <module>\n",
            "    from . import batch\n",
            "  File \"/usr/local/lib/python3.7/dist-packages/kaolin/ops/batch.py\", line 17, in <module>\n",
            "    from kaolin import _C\n",
            "ImportError: /usr/local/lib/python3.7/dist-packages/kaolin/_C.so: undefined symbol: _ZNK3c1010TensorImpl36is_contiguous_nondefault_policy_implENS_12MemoryFormatE\n"
          ]
        }
      ]
    },
    {
      "cell_type": "markdown",
      "source": [
        "补充requirements包，上一步之前先如下安装"
      ],
      "metadata": {
        "id": "QpzC4_foGx_k"
      }
    },
    {
      "cell_type": "code",
      "source": [
        "!pip install torchvision\n",
        "!pip install kaolin"
      ],
      "metadata": {
        "colab": {
          "base_uri": "https://localhost:8080/"
        },
        "id": "ZtUmtyczG0e4",
        "outputId": "31a35725-ece3-4e5d-a21f-fce251aed073"
      },
      "execution_count": null,
      "outputs": [
        {
          "output_type": "stream",
          "name": "stdout",
          "text": [
            "Looking in indexes: https://pypi.org/simple, https://us-python.pkg.dev/colab-wheels/public/simple/\n",
            "Requirement already satisfied: torchvision in /usr/local/lib/python3.7/dist-packages (0.13.0+cu113)\n",
            "Requirement already satisfied: requests in /usr/local/lib/python3.7/dist-packages (from torchvision) (2.23.0)\n",
            "Requirement already satisfied: typing-extensions in /usr/local/lib/python3.7/dist-packages (from torchvision) (4.1.1)\n",
            "Requirement already satisfied: torch==1.12.0 in /usr/local/lib/python3.7/dist-packages (from torchvision) (1.12.0+cu113)\n",
            "Requirement already satisfied: numpy in /usr/local/lib/python3.7/dist-packages (from torchvision) (1.21.6)\n",
            "Requirement already satisfied: pillow!=8.3.*,>=5.3.0 in /usr/local/lib/python3.7/dist-packages (from torchvision) (9.2.0)\n",
            "Requirement already satisfied: chardet<4,>=3.0.2 in /usr/local/lib/python3.7/dist-packages (from requests->torchvision) (3.0.4)\n",
            "Requirement already satisfied: urllib3!=1.25.0,!=1.25.1,<1.26,>=1.21.1 in /usr/local/lib/python3.7/dist-packages (from requests->torchvision) (1.24.3)\n",
            "Requirement already satisfied: idna<3,>=2.5 in /usr/local/lib/python3.7/dist-packages (from requests->torchvision) (2.10)\n",
            "Requirement already satisfied: certifi>=2017.4.17 in /usr/local/lib/python3.7/dist-packages (from requests->torchvision) (2022.6.15)\n",
            "Looking in indexes: https://pypi.org/simple, https://us-python.pkg.dev/colab-wheels/public/simple/\n",
            "Requirement already satisfied: kaolin in /usr/local/lib/python3.7/dist-packages (0.11.0)\n",
            "Requirement already satisfied: usd-core>=20.11 in /usr/local/lib/python3.7/dist-packages (from kaolin) (22.8)\n",
            "Requirement already satisfied: Pillow>=8.0.0 in /usr/local/lib/python3.7/dist-packages (from kaolin) (9.2.0)\n",
            "Requirement already satisfied: flask==2.0.3 in /usr/local/lib/python3.7/dist-packages (from kaolin) (2.0.3)\n",
            "Requirement already satisfied: tornado==6.1 in /usr/local/lib/python3.7/dist-packages (from kaolin) (6.1)\n",
            "Requirement already satisfied: tqdm>=4.51.0 in /usr/local/lib/python3.7/dist-packages (from kaolin) (4.64.0)\n",
            "Requirement already satisfied: scipy<=1.5.2,>=1.2.0 in /usr/local/lib/python3.7/dist-packages (from kaolin) (1.5.2)\n",
            "Requirement already satisfied: Jinja2>=3.0 in /usr/local/lib/python3.7/dist-packages (from flask==2.0.3->kaolin) (3.1.2)\n",
            "Requirement already satisfied: itsdangerous>=2.0 in /usr/local/lib/python3.7/dist-packages (from flask==2.0.3->kaolin) (2.1.2)\n",
            "Requirement already satisfied: click>=7.1.2 in /usr/local/lib/python3.7/dist-packages (from flask==2.0.3->kaolin) (7.1.2)\n",
            "Requirement already satisfied: Werkzeug>=2.0 in /usr/local/lib/python3.7/dist-packages (from flask==2.0.3->kaolin) (2.2.0)\n",
            "Requirement already satisfied: MarkupSafe>=2.0 in /usr/local/lib/python3.7/dist-packages (from Jinja2>=3.0->flask==2.0.3->kaolin) (2.1.1)\n",
            "Requirement already satisfied: numpy>=1.14.5 in /usr/local/lib/python3.7/dist-packages (from scipy<=1.5.2,>=1.2.0->kaolin) (1.21.6)\n"
          ]
        }
      ]
    },
    {
      "cell_type": "markdown",
      "source": [
        "# 日常训练"
      ],
      "metadata": {
        "id": "DgA6hEpXBRBi"
      }
    },
    {
      "cell_type": "markdown",
      "source": [
        "查看GPU信息"
      ],
      "metadata": {
        "id": "DeeCv2NK3URX"
      }
    },
    {
      "cell_type": "code",
      "execution_count": null,
      "metadata": {
        "colab": {
          "base_uri": "https://localhost:8080/"
        },
        "id": "yReaXYyR3HZW",
        "outputId": "ef3f7b12-4003-419f-9a18-e18338ec9879"
      },
      "outputs": [
        {
          "output_type": "stream",
          "name": "stdout",
          "text": [
            "Wed Jul 27 07:58:23 2022       \n",
            "+-----------------------------------------------------------------------------+\n",
            "| NVIDIA-SMI 460.32.03    Driver Version: 460.32.03    CUDA Version: 11.2     |\n",
            "|-------------------------------+----------------------+----------------------+\n",
            "| GPU  Name        Persistence-M| Bus-Id        Disp.A | Volatile Uncorr. ECC |\n",
            "| Fan  Temp  Perf  Pwr:Usage/Cap|         Memory-Usage | GPU-Util  Compute M. |\n",
            "|                               |                      |               MIG M. |\n",
            "|===============================+======================+======================|\n",
            "|   0  Tesla T4            Off  | 00000000:00:04.0 Off |                    0 |\n",
            "| N/A   40C    P8     9W /  70W |      0MiB / 15109MiB |      0%      Default |\n",
            "|                               |                      |                  N/A |\n",
            "+-------------------------------+----------------------+----------------------+\n",
            "                                                                               \n",
            "+-----------------------------------------------------------------------------+\n",
            "| Processes:                                                                  |\n",
            "|  GPU   GI   CI        PID   Type   Process name                  GPU Memory |\n",
            "|        ID   ID                                                   Usage      |\n",
            "|=============================================================================|\n",
            "|  No running processes found                                                 |\n",
            "+-----------------------------------------------------------------------------+\n"
          ]
        }
      ],
      "source": [
        "gpu_info = !nvidia-smi\n",
        "gpu_info = '\\n'.join(gpu_info)\n",
        "if gpu_info.find('failed') >= 0:\n",
        "  print('Not connected to a GPU')\n",
        "else:\n",
        "  print(gpu_info)"
      ]
    },
    {
      "cell_type": "markdown",
      "source": [
        "安装依赖库"
      ],
      "metadata": {
        "id": "ZbIFXD4o3wQs"
      }
    },
    {
      "cell_type": "code",
      "source": [
        "!pip install -r requirements.txt"
      ],
      "metadata": {
        "colab": {
          "base_uri": "https://localhost:8080/",
          "height": 1000
        },
        "id": "yaBy37e_3xaZ",
        "outputId": "e573deea-dd90-4a3b-de20-9c8dcf1a7fba"
      },
      "execution_count": null,
      "outputs": [
        {
          "output_type": "stream",
          "name": "stdout",
          "text": [
            "Looking in indexes: https://pypi.org/simple, https://us-python.pkg.dev/colab-wheels/public/simple/\n",
            "Collecting pytorch-lightning==1.4.8\n",
            "  Downloading pytorch_lightning-1.4.8-py3-none-any.whl (924 kB)\n",
            "\u001b[K     |████████████████████████████████| 924 kB 14.8 MB/s \n",
            "\u001b[?25hCollecting torchmetrics==0.7.0\n",
            "  Downloading torchmetrics-0.7.0-py3-none-any.whl (396 kB)\n",
            "\u001b[K     |████████████████████████████████| 396 kB 70.3 MB/s \n",
            "\u001b[?25hCollecting einops==0.3.0\n",
            "  Downloading einops-0.3.0-py2.py3-none-any.whl (25 kB)\n",
            "Collecting test-tube==0.7.5\n",
            "  Downloading test_tube-0.7.5.tar.gz (21 kB)\n",
            "Collecting kornia==0.4.1\n",
            "  Downloading kornia-0.4.1-py2.py3-none-any.whl (225 kB)\n",
            "\u001b[K     |████████████████████████████████| 225 kB 74.5 MB/s \n",
            "\u001b[?25hCollecting opencv-python==4.5.1.48\n",
            "  Downloading opencv_python-4.5.1.48-cp37-cp37m-manylinux2014_x86_64.whl (50.4 MB)\n",
            "\u001b[K     |████████████████████████████████| 50.4 MB 1.2 MB/s \n",
            "\u001b[?25hCollecting matplotlib==3.3.3\n",
            "  Downloading matplotlib-3.3.3-cp37-cp37m-manylinux1_x86_64.whl (11.6 MB)\n",
            "\u001b[K     |████████████████████████████████| 11.6 MB 50.7 MB/s \n",
            "\u001b[?25hRequirement already satisfied: jupyter in /usr/local/lib/python3.7/dist-packages (from -r requirements.txt (line 8)) (1.0.0)\n",
            "Collecting imageio==2.9.0\n",
            "  Downloading imageio-2.9.0-py3-none-any.whl (3.3 MB)\n",
            "\u001b[K     |████████████████████████████████| 3.3 MB 63.9 MB/s \n",
            "\u001b[?25hCollecting imageio-ffmpeg==0.4.2\n",
            "  Downloading imageio_ffmpeg-0.4.2-py3-none-manylinux2010_x86_64.whl (26.9 MB)\n",
            "\u001b[K     |████████████████████████████████| 26.9 MB 28.0 MB/s \n",
            "\u001b[?25hCollecting pandas==1.1.5\n",
            "  Downloading pandas-1.1.5-cp37-cp37m-manylinux1_x86_64.whl (9.5 MB)\n",
            "\u001b[K     |████████████████████████████████| 9.5 MB 72.2 MB/s \n",
            "\u001b[?25hCollecting torch_optimizer\n",
            "  Downloading torch_optimizer-0.3.0-py3-none-any.whl (61 kB)\n",
            "\u001b[K     |████████████████████████████████| 61 kB 591 kB/s \n",
            "\u001b[?25hCollecting lpips==0.1.3\n",
            "  Downloading lpips-0.1.3-py3-none-any.whl (53 kB)\n",
            "\u001b[K     |████████████████████████████████| 53 kB 2.8 MB/s \n",
            "\u001b[?25hCollecting loguru\n",
            "  Downloading loguru-0.6.0-py3-none-any.whl (58 kB)\n",
            "\u001b[K     |████████████████████████████████| 58 kB 6.3 MB/s \n",
            "\u001b[?25hCollecting yacs\n",
            "  Downloading yacs-0.1.8-py3-none-any.whl (14 kB)\n",
            "Requirement already satisfied: h5py in /usr/local/lib/python3.7/dist-packages (from -r requirements.txt (line 16)) (3.1.0)\n",
            "Collecting plotly==4.14.3\n",
            "  Downloading plotly-4.14.3-py2.py3-none-any.whl (13.2 MB)\n",
            "\u001b[K     |████████████████████████████████| 13.2 MB 58.8 MB/s \n",
            "\u001b[?25hCollecting PyMCubes==0.1.2\n",
            "  Downloading PyMCubes-0.1.2-cp37-cp37m-manylinux2010_x86_64.whl (265 kB)\n",
            "\u001b[K     |████████████████████████████████| 265 kB 92.4 MB/s \n",
            "\u001b[?25hCollecting pycollada==0.7.1\n",
            "  Downloading pycollada-0.7.1.tar.gz (105 kB)\n",
            "\u001b[K     |████████████████████████████████| 105 kB 86.9 MB/s \n",
            "\u001b[?25hCollecting trimesh==3.9.1\n",
            "  Downloading trimesh-3.9.1-py3-none-any.whl (628 kB)\n",
            "\u001b[K     |████████████████████████████████| 628 kB 66.9 MB/s \n",
            "\u001b[?25hCollecting pyglet==1.5.10\n",
            "  Downloading pyglet-1.5.10-py3-none-any.whl (1.1 MB)\n",
            "\u001b[K     |████████████████████████████████| 1.1 MB 74.8 MB/s \n",
            "\u001b[?25hCollecting networkx==2.5\n",
            "  Downloading networkx-2.5-py3-none-any.whl (1.6 MB)\n",
            "\u001b[K     |████████████████████████████████| 1.6 MB 74.2 MB/s \n",
            "\u001b[?25hRequirement already satisfied: scikit-image in /usr/local/lib/python3.7/dist-packages (from -r requirements.txt (line 27)) (0.18.3)\n",
            "Collecting plyfile==0.7.2\n",
            "  Downloading plyfile-0.7.2-py3-none-any.whl (39 kB)\n",
            "Collecting open3d==0.12.0\n",
            "  Downloading open3d-0.12.0-cp37-cp37m-manylinux2014_x86_64.whl (188.4 MB)\n",
            "\u001b[K     |████████████████████████████████| 188.4 MB 26 kB/s \n",
            "\u001b[?25hCollecting mmcv-full\n",
            "  Downloading mmcv-full-1.6.1.tar.gz (563 kB)\n",
            "\u001b[K     |████████████████████████████████| 563 kB 9.2 MB/s \n",
            "\u001b[?25hCollecting mmsegmentation\n",
            "  Downloading mmsegmentation-0.26.0-py3-none-any.whl (816 kB)\n",
            "\u001b[K     |████████████████████████████████| 816 kB 68.5 MB/s \n",
            "\u001b[?25hCollecting pyDeprecate==0.3.1\n",
            "  Downloading pyDeprecate-0.3.1-py3-none-any.whl (10 kB)\n",
            "Requirement already satisfied: packaging>=17.0 in /usr/local/lib/python3.7/dist-packages (from pytorch-lightning==1.4.8->-r requirements.txt (line 1)) (21.3)\n",
            "Collecting PyYAML>=5.1\n",
            "  Downloading PyYAML-6.0-cp37-cp37m-manylinux_2_5_x86_64.manylinux1_x86_64.manylinux_2_12_x86_64.manylinux2010_x86_64.whl (596 kB)\n",
            "\u001b[K     |████████████████████████████████| 596 kB 78.9 MB/s \n",
            "\u001b[?25hCollecting fsspec[http]!=2021.06.0,>=2021.05.0\n",
            "  Downloading fsspec-2022.5.0-py3-none-any.whl (140 kB)\n",
            "\u001b[K     |████████████████████████████████| 140 kB 87.0 MB/s \n",
            "\u001b[?25hRequirement already satisfied: tensorboard>=2.2.0 in /usr/local/lib/python3.7/dist-packages (from pytorch-lightning==1.4.8->-r requirements.txt (line 1)) (2.8.0)\n",
            "Requirement already satisfied: torch>=1.6 in /usr/local/lib/python3.7/dist-packages (from pytorch-lightning==1.4.8->-r requirements.txt (line 1)) (1.12.0+cu113)\n",
            "Requirement already satisfied: numpy>=1.17.2 in /usr/local/lib/python3.7/dist-packages (from pytorch-lightning==1.4.8->-r requirements.txt (line 1)) (1.21.6)\n",
            "Requirement already satisfied: typing-extensions in /usr/local/lib/python3.7/dist-packages (from pytorch-lightning==1.4.8->-r requirements.txt (line 1)) (4.1.1)\n",
            "Requirement already satisfied: tqdm>=4.41.0 in /usr/local/lib/python3.7/dist-packages (from pytorch-lightning==1.4.8->-r requirements.txt (line 1)) (4.64.0)\n",
            "Collecting future>=0.17.1\n",
            "  Downloading future-0.18.2.tar.gz (829 kB)\n",
            "\u001b[K     |████████████████████████████████| 829 kB 69.6 MB/s \n",
            "\u001b[?25hRequirement already satisfied: pyparsing!=2.0.4,!=2.1.2,!=2.1.6,>=2.0.3 in /usr/local/lib/python3.7/dist-packages (from matplotlib==3.3.3->-r requirements.txt (line 7)) (3.0.9)\n",
            "Requirement already satisfied: cycler>=0.10 in /usr/local/lib/python3.7/dist-packages (from matplotlib==3.3.3->-r requirements.txt (line 7)) (0.11.0)\n",
            "Requirement already satisfied: python-dateutil>=2.1 in /usr/local/lib/python3.7/dist-packages (from matplotlib==3.3.3->-r requirements.txt (line 7)) (2.8.2)\n",
            "Requirement already satisfied: kiwisolver>=1.0.1 in /usr/local/lib/python3.7/dist-packages (from matplotlib==3.3.3->-r requirements.txt (line 7)) (1.4.4)\n",
            "Requirement already satisfied: pillow>=6.2.0 in /usr/local/lib/python3.7/dist-packages (from matplotlib==3.3.3->-r requirements.txt (line 7)) (7.1.2)\n",
            "Requirement already satisfied: pytz>=2017.2 in /usr/local/lib/python3.7/dist-packages (from pandas==1.1.5->-r requirements.txt (line 11)) (2022.1)\n",
            "Requirement already satisfied: six in /usr/local/lib/python3.7/dist-packages (from plotly==4.14.3->-r requirements.txt (line 19)) (1.15.0)\n",
            "Collecting retrying>=1.3.3\n",
            "  Downloading retrying-1.3.3.tar.gz (10 kB)\n",
            "Requirement already satisfied: setuptools in /usr/local/lib/python3.7/dist-packages (from trimesh==3.9.1->-r requirements.txt (line 24)) (57.4.0)\n",
            "Requirement already satisfied: decorator>=4.3.0 in /usr/local/lib/python3.7/dist-packages (from networkx==2.5->-r requirements.txt (line 26)) (4.4.2)\n",
            "Requirement already satisfied: widgetsnbextension in /usr/local/lib/python3.7/dist-packages (from open3d==0.12.0->-r requirements.txt (line 31)) (3.6.1)\n",
            "Collecting addict\n",
            "  Downloading addict-2.4.0-py3-none-any.whl (3.8 kB)\n",
            "Requirement already satisfied: sklearn in /usr/local/lib/python3.7/dist-packages (from open3d==0.12.0->-r requirements.txt (line 31)) (0.0)\n",
            "Requirement already satisfied: ipywidgets in /usr/local/lib/python3.7/dist-packages (from open3d==0.12.0->-r requirements.txt (line 31)) (7.7.1)\n",
            "Requirement already satisfied: notebook in /usr/local/lib/python3.7/dist-packages (from open3d==0.12.0->-r requirements.txt (line 31)) (5.3.1)\n",
            "Collecting aiohttp\n",
            "  Downloading aiohttp-3.8.1-cp37-cp37m-manylinux_2_5_x86_64.manylinux1_x86_64.manylinux_2_12_x86_64.manylinux2010_x86_64.whl (1.1 MB)\n",
            "\u001b[K     |████████████████████████████████| 1.1 MB 77.2 MB/s \n",
            "\u001b[?25hRequirement already satisfied: requests in /usr/local/lib/python3.7/dist-packages (from fsspec[http]!=2021.06.0,>=2021.05.0->pytorch-lightning==1.4.8->-r requirements.txt (line 1)) (2.23.0)\n",
            "Requirement already satisfied: grpcio>=1.24.3 in /usr/local/lib/python3.7/dist-packages (from tensorboard>=2.2.0->pytorch-lightning==1.4.8->-r requirements.txt (line 1)) (1.47.0)\n",
            "Requirement already satisfied: tensorboard-data-server<0.7.0,>=0.6.0 in /usr/local/lib/python3.7/dist-packages (from tensorboard>=2.2.0->pytorch-lightning==1.4.8->-r requirements.txt (line 1)) (0.6.1)\n",
            "Requirement already satisfied: werkzeug>=0.11.15 in /usr/local/lib/python3.7/dist-packages (from tensorboard>=2.2.0->pytorch-lightning==1.4.8->-r requirements.txt (line 1)) (1.0.1)\n",
            "Requirement already satisfied: google-auth-oauthlib<0.5,>=0.4.1 in /usr/local/lib/python3.7/dist-packages (from tensorboard>=2.2.0->pytorch-lightning==1.4.8->-r requirements.txt (line 1)) (0.4.6)\n",
            "Requirement already satisfied: markdown>=2.6.8 in /usr/local/lib/python3.7/dist-packages (from tensorboard>=2.2.0->pytorch-lightning==1.4.8->-r requirements.txt (line 1)) (3.4.1)\n",
            "Requirement already satisfied: protobuf>=3.6.0 in /usr/local/lib/python3.7/dist-packages (from tensorboard>=2.2.0->pytorch-lightning==1.4.8->-r requirements.txt (line 1)) (3.17.3)\n",
            "Requirement already satisfied: absl-py>=0.4 in /usr/local/lib/python3.7/dist-packages (from tensorboard>=2.2.0->pytorch-lightning==1.4.8->-r requirements.txt (line 1)) (1.2.0)\n",
            "Requirement already satisfied: wheel>=0.26 in /usr/local/lib/python3.7/dist-packages (from tensorboard>=2.2.0->pytorch-lightning==1.4.8->-r requirements.txt (line 1)) (0.37.1)\n",
            "Requirement already satisfied: tensorboard-plugin-wit>=1.6.0 in /usr/local/lib/python3.7/dist-packages (from tensorboard>=2.2.0->pytorch-lightning==1.4.8->-r requirements.txt (line 1)) (1.8.1)\n",
            "Requirement already satisfied: google-auth<3,>=1.6.3 in /usr/local/lib/python3.7/dist-packages (from tensorboard>=2.2.0->pytorch-lightning==1.4.8->-r requirements.txt (line 1)) (1.35.0)\n",
            "Requirement already satisfied: pyasn1-modules>=0.2.1 in /usr/local/lib/python3.7/dist-packages (from google-auth<3,>=1.6.3->tensorboard>=2.2.0->pytorch-lightning==1.4.8->-r requirements.txt (line 1)) (0.2.8)\n",
            "Requirement already satisfied: cachetools<5.0,>=2.0.0 in /usr/local/lib/python3.7/dist-packages (from google-auth<3,>=1.6.3->tensorboard>=2.2.0->pytorch-lightning==1.4.8->-r requirements.txt (line 1)) (4.2.4)\n",
            "Requirement already satisfied: rsa<5,>=3.1.4 in /usr/local/lib/python3.7/dist-packages (from google-auth<3,>=1.6.3->tensorboard>=2.2.0->pytorch-lightning==1.4.8->-r requirements.txt (line 1)) (4.9)\n",
            "Requirement already satisfied: requests-oauthlib>=0.7.0 in /usr/local/lib/python3.7/dist-packages (from google-auth-oauthlib<0.5,>=0.4.1->tensorboard>=2.2.0->pytorch-lightning==1.4.8->-r requirements.txt (line 1)) (1.3.1)\n",
            "Requirement already satisfied: importlib-metadata>=4.4 in /usr/local/lib/python3.7/dist-packages (from markdown>=2.6.8->tensorboard>=2.2.0->pytorch-lightning==1.4.8->-r requirements.txt (line 1)) (4.12.0)\n",
            "Requirement already satisfied: zipp>=0.5 in /usr/local/lib/python3.7/dist-packages (from importlib-metadata>=4.4->markdown>=2.6.8->tensorboard>=2.2.0->pytorch-lightning==1.4.8->-r requirements.txt (line 1)) (3.8.1)\n",
            "Requirement already satisfied: pyasn1<0.5.0,>=0.4.6 in /usr/local/lib/python3.7/dist-packages (from pyasn1-modules>=0.2.1->google-auth<3,>=1.6.3->tensorboard>=2.2.0->pytorch-lightning==1.4.8->-r requirements.txt (line 1)) (0.4.8)\n",
            "Requirement already satisfied: urllib3!=1.25.0,!=1.25.1,<1.26,>=1.21.1 in /usr/local/lib/python3.7/dist-packages (from requests->fsspec[http]!=2021.06.0,>=2021.05.0->pytorch-lightning==1.4.8->-r requirements.txt (line 1)) (1.24.3)\n",
            "Requirement already satisfied: idna<3,>=2.5 in /usr/local/lib/python3.7/dist-packages (from requests->fsspec[http]!=2021.06.0,>=2021.05.0->pytorch-lightning==1.4.8->-r requirements.txt (line 1)) (2.10)\n",
            "Requirement already satisfied: chardet<4,>=3.0.2 in /usr/local/lib/python3.7/dist-packages (from requests->fsspec[http]!=2021.06.0,>=2021.05.0->pytorch-lightning==1.4.8->-r requirements.txt (line 1)) (3.0.4)\n",
            "Requirement already satisfied: certifi>=2017.4.17 in /usr/local/lib/python3.7/dist-packages (from requests->fsspec[http]!=2021.06.0,>=2021.05.0->pytorch-lightning==1.4.8->-r requirements.txt (line 1)) (2022.6.15)\n",
            "Requirement already satisfied: oauthlib>=3.0.0 in /usr/local/lib/python3.7/dist-packages (from requests-oauthlib>=0.7.0->google-auth-oauthlib<0.5,>=0.4.1->tensorboard>=2.2.0->pytorch-lightning==1.4.8->-r requirements.txt (line 1)) (3.2.0)\n",
            "Requirement already satisfied: ipykernel in /usr/local/lib/python3.7/dist-packages (from jupyter->-r requirements.txt (line 8)) (4.10.1)\n",
            "Requirement already satisfied: jupyter-console in /usr/local/lib/python3.7/dist-packages (from jupyter->-r requirements.txt (line 8)) (5.2.0)\n",
            "Requirement already satisfied: nbconvert in /usr/local/lib/python3.7/dist-packages (from jupyter->-r requirements.txt (line 8)) (5.6.1)\n",
            "Requirement already satisfied: qtconsole in /usr/local/lib/python3.7/dist-packages (from jupyter->-r requirements.txt (line 8)) (5.3.1)\n",
            "Collecting pytorch-ranger>=0.1.1\n",
            "  Downloading pytorch_ranger-0.1.1-py3-none-any.whl (14 kB)\n",
            "Requirement already satisfied: cached-property in /usr/local/lib/python3.7/dist-packages (from h5py->-r requirements.txt (line 16)) (1.5.2)\n",
            "Requirement already satisfied: scipy>=1.0.1 in /usr/local/lib/python3.7/dist-packages (from scikit-image->-r requirements.txt (line 27)) (1.7.3)\n",
            "Requirement already satisfied: PyWavelets>=1.1.1 in /usr/local/lib/python3.7/dist-packages (from scikit-image->-r requirements.txt (line 27)) (1.3.0)\n",
            "Requirement already satisfied: tifffile>=2019.7.26 in /usr/local/lib/python3.7/dist-packages (from scikit-image->-r requirements.txt (line 27)) (2021.11.2)\n",
            "Collecting yapf\n",
            "  Downloading yapf-0.32.0-py2.py3-none-any.whl (190 kB)\n",
            "\u001b[K     |████████████████████████████████| 190 kB 87.2 MB/s \n",
            "\u001b[?25hCollecting mmcls>=0.20.1\n",
            "  Downloading mmcls-0.23.1-py2.py3-none-any.whl (577 kB)\n",
            "\u001b[K     |████████████████████████████████| 577 kB 68.7 MB/s \n",
            "\u001b[?25hRequirement already satisfied: prettytable in /usr/local/lib/python3.7/dist-packages (from mmsegmentation->-r requirements.txt (line 35)) (3.3.0)\n",
            "Collecting async-timeout<5.0,>=4.0.0a3\n",
            "  Downloading async_timeout-4.0.2-py3-none-any.whl (5.8 kB)\n",
            "Requirement already satisfied: charset-normalizer<3.0,>=2.0 in /usr/local/lib/python3.7/dist-packages (from aiohttp->fsspec[http]!=2021.06.0,>=2021.05.0->pytorch-lightning==1.4.8->-r requirements.txt (line 1)) (2.1.0)\n",
            "Collecting aiosignal>=1.1.2\n",
            "  Downloading aiosignal-1.2.0-py3-none-any.whl (8.2 kB)\n",
            "Collecting asynctest==0.13.0\n",
            "  Downloading asynctest-0.13.0-py3-none-any.whl (26 kB)\n",
            "Requirement already satisfied: attrs>=17.3.0 in /usr/local/lib/python3.7/dist-packages (from aiohttp->fsspec[http]!=2021.06.0,>=2021.05.0->pytorch-lightning==1.4.8->-r requirements.txt (line 1)) (21.4.0)\n",
            "Collecting frozenlist>=1.1.1\n",
            "  Downloading frozenlist-1.3.0-cp37-cp37m-manylinux_2_5_x86_64.manylinux1_x86_64.manylinux_2_17_x86_64.manylinux2014_x86_64.whl (144 kB)\n",
            "\u001b[K     |████████████████████████████████| 144 kB 85.2 MB/s \n",
            "\u001b[?25hCollecting multidict<7.0,>=4.5\n",
            "  Downloading multidict-6.0.2-cp37-cp37m-manylinux_2_17_x86_64.manylinux2014_x86_64.whl (94 kB)\n",
            "\u001b[K     |████████████████████████████████| 94 kB 4.1 MB/s \n",
            "\u001b[?25hCollecting yarl<2.0,>=1.0\n",
            "  Downloading yarl-1.7.2-cp37-cp37m-manylinux_2_5_x86_64.manylinux1_x86_64.manylinux_2_12_x86_64.manylinux2010_x86_64.whl (271 kB)\n",
            "\u001b[K     |████████████████████████████████| 271 kB 78.9 MB/s \n",
            "\u001b[?25hRequirement already satisfied: jupyter-client in /usr/local/lib/python3.7/dist-packages (from ipykernel->jupyter->-r requirements.txt (line 8)) (5.3.5)\n",
            "Requirement already satisfied: traitlets>=4.1.0 in /usr/local/lib/python3.7/dist-packages (from ipykernel->jupyter->-r requirements.txt (line 8)) (5.1.1)\n",
            "Requirement already satisfied: ipython>=4.0.0 in /usr/local/lib/python3.7/dist-packages (from ipykernel->jupyter->-r requirements.txt (line 8)) (5.5.0)\n",
            "Requirement already satisfied: tornado>=4.0 in /usr/local/lib/python3.7/dist-packages (from ipykernel->jupyter->-r requirements.txt (line 8)) (5.1.1)\n",
            "Requirement already satisfied: simplegeneric>0.8 in /usr/local/lib/python3.7/dist-packages (from ipython>=4.0.0->ipykernel->jupyter->-r requirements.txt (line 8)) (0.8.1)\n",
            "Requirement already satisfied: pexpect in /usr/local/lib/python3.7/dist-packages (from ipython>=4.0.0->ipykernel->jupyter->-r requirements.txt (line 8)) (4.8.0)\n",
            "Requirement already satisfied: pickleshare in /usr/local/lib/python3.7/dist-packages (from ipython>=4.0.0->ipykernel->jupyter->-r requirements.txt (line 8)) (0.7.5)\n",
            "Requirement already satisfied: prompt-toolkit<2.0.0,>=1.0.4 in /usr/local/lib/python3.7/dist-packages (from ipython>=4.0.0->ipykernel->jupyter->-r requirements.txt (line 8)) (1.0.18)\n",
            "Requirement already satisfied: pygments in /usr/local/lib/python3.7/dist-packages (from ipython>=4.0.0->ipykernel->jupyter->-r requirements.txt (line 8)) (2.6.1)\n",
            "Requirement already satisfied: wcwidth in /usr/local/lib/python3.7/dist-packages (from prompt-toolkit<2.0.0,>=1.0.4->ipython>=4.0.0->ipykernel->jupyter->-r requirements.txt (line 8)) (0.2.5)\n",
            "Requirement already satisfied: jupyterlab-widgets>=1.0.0 in /usr/local/lib/python3.7/dist-packages (from ipywidgets->open3d==0.12.0->-r requirements.txt (line 31)) (1.1.1)\n",
            "Requirement already satisfied: ipython-genutils~=0.2.0 in /usr/local/lib/python3.7/dist-packages (from ipywidgets->open3d==0.12.0->-r requirements.txt (line 31)) (0.2.0)\n",
            "Requirement already satisfied: nbformat in /usr/local/lib/python3.7/dist-packages (from notebook->open3d==0.12.0->-r requirements.txt (line 31)) (5.4.0)\n",
            "Requirement already satisfied: Send2Trash in /usr/local/lib/python3.7/dist-packages (from notebook->open3d==0.12.0->-r requirements.txt (line 31)) (1.8.0)\n",
            "Requirement already satisfied: jupyter-core>=4.4.0 in /usr/local/lib/python3.7/dist-packages (from notebook->open3d==0.12.0->-r requirements.txt (line 31)) (4.11.1)\n",
            "Requirement already satisfied: jinja2 in /usr/local/lib/python3.7/dist-packages (from notebook->open3d==0.12.0->-r requirements.txt (line 31)) (2.11.3)\n",
            "Requirement already satisfied: terminado>=0.8.1 in /usr/local/lib/python3.7/dist-packages (from notebook->open3d==0.12.0->-r requirements.txt (line 31)) (0.13.3)\n",
            "Requirement already satisfied: pyzmq>=13 in /usr/local/lib/python3.7/dist-packages (from jupyter-client->ipykernel->jupyter->-r requirements.txt (line 8)) (23.2.0)\n",
            "Requirement already satisfied: ptyprocess in /usr/local/lib/python3.7/dist-packages (from terminado>=0.8.1->notebook->open3d==0.12.0->-r requirements.txt (line 31)) (0.7.0)\n",
            "Requirement already satisfied: MarkupSafe>=0.23 in /usr/local/lib/python3.7/dist-packages (from jinja2->notebook->open3d==0.12.0->-r requirements.txt (line 31)) (2.0.1)\n",
            "Requirement already satisfied: entrypoints>=0.2.2 in /usr/local/lib/python3.7/dist-packages (from nbconvert->jupyter->-r requirements.txt (line 8)) (0.4)\n",
            "Requirement already satisfied: bleach in /usr/local/lib/python3.7/dist-packages (from nbconvert->jupyter->-r requirements.txt (line 8)) (5.0.1)\n",
            "Requirement already satisfied: pandocfilters>=1.4.1 in /usr/local/lib/python3.7/dist-packages (from nbconvert->jupyter->-r requirements.txt (line 8)) (1.5.0)\n",
            "Requirement already satisfied: testpath in /usr/local/lib/python3.7/dist-packages (from nbconvert->jupyter->-r requirements.txt (line 8)) (0.6.0)\n",
            "Requirement already satisfied: mistune<2,>=0.8.1 in /usr/local/lib/python3.7/dist-packages (from nbconvert->jupyter->-r requirements.txt (line 8)) (0.8.4)\n",
            "Requirement already satisfied: defusedxml in /usr/local/lib/python3.7/dist-packages (from nbconvert->jupyter->-r requirements.txt (line 8)) (0.7.1)\n",
            "Requirement already satisfied: fastjsonschema in /usr/local/lib/python3.7/dist-packages (from nbformat->notebook->open3d==0.12.0->-r requirements.txt (line 31)) (2.16.1)\n",
            "Requirement already satisfied: jsonschema>=2.6 in /usr/local/lib/python3.7/dist-packages (from nbformat->notebook->open3d==0.12.0->-r requirements.txt (line 31)) (4.3.3)\n",
            "Requirement already satisfied: importlib-resources>=1.4.0 in /usr/local/lib/python3.7/dist-packages (from jsonschema>=2.6->nbformat->notebook->open3d==0.12.0->-r requirements.txt (line 31)) (5.8.0)\n",
            "Requirement already satisfied: pyrsistent!=0.17.0,!=0.17.1,!=0.17.2,>=0.14.0 in /usr/local/lib/python3.7/dist-packages (from jsonschema>=2.6->nbformat->notebook->open3d==0.12.0->-r requirements.txt (line 31)) (0.18.1)\n",
            "Requirement already satisfied: webencodings in /usr/local/lib/python3.7/dist-packages (from bleach->nbconvert->jupyter->-r requirements.txt (line 8)) (0.5.1)\n",
            "Requirement already satisfied: qtpy>=2.0.1 in /usr/local/lib/python3.7/dist-packages (from qtconsole->jupyter->-r requirements.txt (line 8)) (2.1.0)\n",
            "Requirement already satisfied: scikit-learn in /usr/local/lib/python3.7/dist-packages (from sklearn->open3d==0.12.0->-r requirements.txt (line 31)) (1.0.2)\n",
            "Requirement already satisfied: threadpoolctl>=2.0.0 in /usr/local/lib/python3.7/dist-packages (from scikit-learn->sklearn->open3d==0.12.0->-r requirements.txt (line 31)) (3.1.0)\n",
            "Requirement already satisfied: joblib>=0.11 in /usr/local/lib/python3.7/dist-packages (from scikit-learn->sklearn->open3d==0.12.0->-r requirements.txt (line 31)) (1.1.0)\n",
            "Building wheels for collected packages: test-tube, pycollada, future, retrying, mmcv-full\n",
            "  Building wheel for test-tube (setup.py) ... \u001b[?25l\u001b[?25hdone\n",
            "  Created wheel for test-tube: filename=test_tube-0.7.5-py3-none-any.whl size=25356 sha256=e5c6d790aca41fedc6277ba94b203286cc0a9b5d7742ff08a713f0d1214b45c4\n",
            "  Stored in directory: /root/.cache/pip/wheels/1c/50/0d/15b3236957cc18a5c39ec4d4d4d21624f4d4a876756ec17064\n",
            "  Building wheel for pycollada (setup.py) ... \u001b[?25l\u001b[?25hdone\n",
            "  Created wheel for pycollada: filename=pycollada-0.7.1-py3-none-any.whl size=125607 sha256=8c76e9ff039e415c2cb546a226264587469f9f6aa516f79670fe82ed0015f80d\n",
            "  Stored in directory: /root/.cache/pip/wheels/a8/2c/28/d72f17dceae54dde19fcaf489b284966a2b0eae2141406b85a\n",
            "  Building wheel for future (setup.py) ... \u001b[?25l\u001b[?25hdone\n",
            "  Created wheel for future: filename=future-0.18.2-py3-none-any.whl size=491070 sha256=744e109c24aab1163e1e35a44019e5d8809a35ccd89b0fd50486402093d37e48\n",
            "  Stored in directory: /root/.cache/pip/wheels/56/b0/fe/4410d17b32f1f0c3cf54cdfb2bc04d7b4b8f4ae377e2229ba0\n",
            "  Building wheel for retrying (setup.py) ... \u001b[?25l\u001b[?25hdone\n",
            "  Created wheel for retrying: filename=retrying-1.3.3-py3-none-any.whl size=11447 sha256=f25761350960a02bf1eaed14c6eee3d04978ff9e970eb0d4b0fcf0ab0ce75d2e\n",
            "  Stored in directory: /root/.cache/pip/wheels/f9/8d/8d/f6af3f7f9eea3553bc2fe6d53e4b287dad18b06a861ac56ddf\n",
            "  Building wheel for mmcv-full (setup.py) ... \u001b[?25l\u001b[?25hdone\n",
            "  Created wheel for mmcv-full: filename=mmcv_full-1.6.1-cp37-cp37m-linux_x86_64.whl size=24792864 sha256=87a8ae8431dae86905211d68cda3d8fbad4542ba688c5b9eaaaf20aa47d61dc8\n",
            "  Stored in directory: /root/.cache/pip/wheels/a6/f3/f8/bc5b70943e7de08aabc5902b1bfbedf08239db3a895910f7af\n",
            "Successfully built test-tube pycollada future retrying mmcv-full\n",
            "Installing collected packages: multidict, frozenlist, yarl, asynctest, async-timeout, aiosignal, pyDeprecate, matplotlib, fsspec, aiohttp, yapf, torchmetrics, retrying, PyYAML, pytorch-ranger, plyfile, pandas, networkx, mmcls, imageio, future, addict, yacs, trimesh, torch-optimizer, test-tube, pytorch-lightning, PyMCubes, pyglet, pycollada, plotly, opencv-python, open3d, mmsegmentation, mmcv-full, lpips, loguru, kornia, imageio-ffmpeg, einops\n",
            "  Attempting uninstall: matplotlib\n",
            "    Found existing installation: matplotlib 3.2.2\n",
            "    Uninstalling matplotlib-3.2.2:\n",
            "      Successfully uninstalled matplotlib-3.2.2\n",
            "  Attempting uninstall: PyYAML\n",
            "    Found existing installation: PyYAML 3.13\n",
            "    Uninstalling PyYAML-3.13:\n",
            "      Successfully uninstalled PyYAML-3.13\n",
            "  Attempting uninstall: pandas\n",
            "    Found existing installation: pandas 1.3.5\n",
            "    Uninstalling pandas-1.3.5:\n",
            "      Successfully uninstalled pandas-1.3.5\n",
            "  Attempting uninstall: networkx\n",
            "    Found existing installation: networkx 2.6.3\n",
            "    Uninstalling networkx-2.6.3:\n",
            "      Successfully uninstalled networkx-2.6.3\n",
            "  Attempting uninstall: imageio\n",
            "    Found existing installation: imageio 2.4.1\n",
            "    Uninstalling imageio-2.4.1:\n",
            "      Successfully uninstalled imageio-2.4.1\n",
            "  Attempting uninstall: future\n",
            "    Found existing installation: future 0.16.0\n",
            "    Uninstalling future-0.16.0:\n",
            "      Successfully uninstalled future-0.16.0\n",
            "  Attempting uninstall: pyglet\n",
            "    Found existing installation: pyglet 1.5.0\n",
            "    Uninstalling pyglet-1.5.0:\n",
            "      Successfully uninstalled pyglet-1.5.0\n",
            "  Attempting uninstall: plotly\n",
            "    Found existing installation: plotly 5.5.0\n",
            "    Uninstalling plotly-5.5.0:\n",
            "      Successfully uninstalled plotly-5.5.0\n",
            "  Attempting uninstall: opencv-python\n",
            "    Found existing installation: opencv-python 4.6.0.66\n",
            "    Uninstalling opencv-python-4.6.0.66:\n",
            "      Successfully uninstalled opencv-python-4.6.0.66\n",
            "\u001b[31mERROR: pip's dependency resolver does not currently take into account all the packages that are installed. This behaviour is the source of the following dependency conflicts.\n",
            "gym 0.17.3 requires pyglet<=1.5.0,>=1.4.0, but you have pyglet 1.5.10 which is incompatible.\n",
            "albumentations 0.1.12 requires imgaug<0.2.7,>=0.2.5, but you have imgaug 0.2.9 which is incompatible.\u001b[0m\n",
            "Successfully installed PyMCubes-0.1.2 PyYAML-6.0 addict-2.4.0 aiohttp-3.8.1 aiosignal-1.2.0 async-timeout-4.0.2 asynctest-0.13.0 einops-0.3.0 frozenlist-1.3.0 fsspec-2022.5.0 future-0.18.2 imageio-2.9.0 imageio-ffmpeg-0.4.2 kornia-0.4.1 loguru-0.6.0 lpips-0.1.3 matplotlib-3.3.3 mmcls-0.23.1 mmcv-full-1.6.1 mmsegmentation-0.26.0 multidict-6.0.2 networkx-2.5 open3d-0.12.0 opencv-python-4.5.1.48 pandas-1.1.5 plotly-4.14.3 plyfile-0.7.2 pyDeprecate-0.3.1 pycollada-0.7.1 pyglet-1.5.10 pytorch-lightning-1.4.8 pytorch-ranger-0.1.1 retrying-1.3.3 test-tube-0.7.5 torch-optimizer-0.3.0 torchmetrics-0.7.0 trimesh-3.9.1 yacs-0.1.8 yapf-0.32.0 yarl-1.7.2\n"
          ]
        },
        {
          "output_type": "display_data",
          "data": {
            "application/vnd.colab-display-data+json": {
              "pip_warning": {
                "packages": [
                  "matplotlib",
                  "mpl_toolkits"
                ]
              }
            }
          },
          "metadata": {}
        }
      ]
    }
  ]
}