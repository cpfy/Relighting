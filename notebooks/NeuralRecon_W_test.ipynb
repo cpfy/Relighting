{
  "nbformat": 4,
  "nbformat_minor": 0,
  "metadata": {
    "colab": {
      "name": "NeuralRecon-W-test.ipynb",
      "provenance": [],
      "machine_shape": "hm"
    },
    "kernelspec": {
      "name": "python3",
      "display_name": "Python 3"
    },
    "language_info": {
      "name": "python"
    },
    "accelerator": "GPU",
    "gpuClass": "standard"
  },
  "cells": [
    {
      "cell_type": "markdown",
      "source": [
        "#必做项"
      ],
      "metadata": {
        "id": "L5alSqKnHJpw"
      }
    },
    {
      "cell_type": "markdown",
      "source": [
        "搭载Google Drive"
      ],
      "metadata": {
        "id": "sbziHIDz3j9v"
      }
    },
    {
      "cell_type": "code",
      "source": [
        "from google.colab import drive\n",
        "drive.mount(\"/content/drive\")\n",
        "\n",
        "import os\n",
        "path=\"/content/drive/MyDrive/NeuralRecon-W-test\"\n",
        "os.chdir(path)\n",
        "os.listdir(path)"
      ],
      "metadata": {
        "colab": {
          "base_uri": "https://localhost:8080/"
        },
        "id": "q0lpzDY83qLq",
        "outputId": "5face74a-2a9c-45fd-a56b-2a3e12c788c8"
      },
      "execution_count": 2,
      "outputs": [
        {
          "output_type": "stream",
          "name": "stdout",
          "text": [
            "Drive already mounted at /content/drive; to attempt to forcibly remount, call drive.mount(\"/content/drive\", force_remount=True).\n"
          ]
        },
        {
          "output_type": "execute_result",
          "data": {
            "text/plain": [
              "['metrics.py',\n",
              " 'README.md',\n",
              " 'LICENSE',\n",
              " 'requirements.txt',\n",
              " 'losses.py',\n",
              " 'environment.yaml',\n",
              " 'tools',\n",
              " 'scripts',\n",
              " 'utils',\n",
              " 'models',\n",
              " 'evaluations',\n",
              " 'assets',\n",
              " 'rendering',\n",
              " 'opt.py',\n",
              " 'train.py',\n",
              " 'lightning_modules',\n",
              " 'datasets',\n",
              " '.gitignore',\n",
              " 'config',\n",
              " 'data',\n",
              " 'weights']"
            ]
          },
          "metadata": {},
          "execution_count": 2
        }
      ]
    },
    {
      "cell_type": "markdown",
      "source": [
        "# 第一次初始化操作"
      ],
      "metadata": {
        "id": "YrOuLSOGBKmy"
      }
    },
    {
      "cell_type": "markdown",
      "source": [
        "操作说明与仓库地址：https://github.com/zju3dv/NeuralRecon-W"
      ],
      "metadata": {
        "id": "ff2BKwPdFGZW"
      }
    },
    {
      "cell_type": "markdown",
      "source": [
        "下载数据，示例见：（已完成）\n",
        "\n",
        "```shell\n",
        "mkdir data && cd data\n",
        "gdown --id 1eZvmk4GQkrRKUNZpagZEIY_z8Lsdw94v\n",
        "```"
      ],
      "metadata": {
        "id": "jRtdPyMPE-ru"
      }
    },
    {
      "cell_type": "markdown",
      "source": [
        "对所有scene生成Ray Cache，例如：\n",
        "\n",
        "```python\n",
        "for SCENE_NAME in brandenburg_gate lincoln_memorial palacio_de_bellas_artes pantheon_exterior; do\n",
        "  scripts/data_generation.sh data/heritage-recon/${SCENE_NAME}\n",
        "done\n",
        "```\n",
        "\n"
      ],
      "metadata": {
        "id": "iTmrokKrFRo0"
      }
    },
    {
      "cell_type": "code",
      "source": [
        "!sh scripts/data_generation.sh data/heritage-recon/brandenburg_gate\n"
      ],
      "metadata": {
        "colab": {
          "base_uri": "https://localhost:8080/"
        },
        "id": "Lz6uOzg3FUfM",
        "outputId": "c619d784-b940-4daa-dad5-3859b7ed9f5b"
      },
      "execution_count": 3,
      "outputs": [
        {
          "output_type": "stream",
          "name": "stdout",
          "text": [
            "+ set -u\n",
            "+ set -e\n",
            "+ date +%Y%m%d_%H%M%S\n",
            "+ now=20220726_060701\n",
            "+ pwd\n",
            "+ echo working directory is /content/drive/MyDrive/NeuralRecon-W-test\n",
            "working directory is /content/drive/MyDrive/NeuralRecon-W-test\n",
            "+ jobname=data-generation-data/heritage-recon/brandenburg_gate-20220726_060701\n",
            "+ export CUDA_VISIBLE_DEVICES=5\n",
            "+ dataset_name=phototourism\n",
            "+ cache_dir=cache_sgs\n",
            "+ root_dir=data/heritage-recon/brandenburg_gate\n",
            "+ min_observation=-1\n",
            "+ [ ! -f data/heritage-recon/brandenburg_gate/brandenburg_gate.tsv ]\n",
            "+ python tools/prepare_data/prepare_data_cache.py --root_dir data/heritage-recon/brandenburg_gate --dataset_name phototourism --cache_dir cache_sgs --img_downscale 1 --semantic_map_path semantic_maps --split_to_chunks 64\n",
            "+ tee log/data-generation-data/heritage-recon/brandenburg_gate-20220726_060701.log\n",
            "tee: log/data-generation-data/heritage-recon/brandenburg_gate-20220726_060701.log: No such file or directory\n",
            "Traceback (most recent call last):\n",
            "  File \"tools/prepare_data/prepare_data_cache.py\", line 5, in <module>\n",
            "    from datasets import dataset_dict\n",
            "  File \"./datasets/__init__.py\", line 1, in <module>\n",
            "    from .phototourism import PhototourismDataset\n",
            "  File \"./datasets/phototourism.py\", line 16, in <module>\n",
            "    from tools.prepare_data.generate_voxel import get_near_far, gen_octree_from_sfm\n",
            "  File \"./tools/prepare_data/generate_voxel.py\", line 13, in <module>\n",
            "    from kaolin.ops import spc\n",
            "  File \"/usr/local/lib/python3.7/dist-packages/kaolin/__init__.py\", line 1, in <module>\n",
            "    from . import io\n",
            "  File \"/usr/local/lib/python3.7/dist-packages/kaolin/io/__init__.py\", line 5, in <module>\n",
            "    from . import render\n",
            "  File \"/usr/local/lib/python3.7/dist-packages/kaolin/io/render.py\", line 23, in <module>\n",
            "    from ..render.camera import generate_perspective_projection\n",
            "  File \"/usr/local/lib/python3.7/dist-packages/kaolin/render/__init__.py\", line 2, in <module>\n",
            "    from . import mesh\n",
            "  File \"/usr/local/lib/python3.7/dist-packages/kaolin/render/mesh/__init__.py\", line 1, in <module>\n",
            "    from .utils import *\n",
            "  File \"/usr/local/lib/python3.7/dist-packages/kaolin/render/mesh/utils.py\", line 22, in <module>\n",
            "    from ... import ops\n",
            "  File \"/usr/local/lib/python3.7/dist-packages/kaolin/ops/__init__.py\", line 1, in <module>\n",
            "    from . import batch\n",
            "  File \"/usr/local/lib/python3.7/dist-packages/kaolin/ops/batch.py\", line 17, in <module>\n",
            "    from kaolin import _C\n",
            "ImportError: /usr/local/lib/python3.7/dist-packages/kaolin/_C.so: undefined symbol: _ZNK3c1010TensorImpl36is_contiguous_nondefault_policy_implENS_12MemoryFormatE\n"
          ]
        }
      ]
    },
    {
      "cell_type": "code",
      "source": [
        "!scripts/data_generation.sh data/heritage-recon/lincoln_memorial\n",
        "!scripts/data_generation.sh data/heritage-recon/palacio_de_bellas_artes\n",
        "!scripts/data_generation.sh data/heritage-recon/pantheon_exterior"
      ],
      "metadata": {
        "id": "Xv3FD_FAFw2e"
      },
      "execution_count": null,
      "outputs": []
    },
    {
      "cell_type": "markdown",
      "source": [
        "上一步之前先安装如下包"
      ],
      "metadata": {
        "id": "QpzC4_foGx_k"
      }
    },
    {
      "cell_type": "code",
      "source": [
        "!pip install torch==1.11.0\n",
        "!pip install kaolin"
      ],
      "metadata": {
        "colab": {
          "base_uri": "https://localhost:8080/"
        },
        "id": "ZtUmtyczG0e4",
        "outputId": "5a4a95e9-1d2f-4855-c469-5a92ca7e150d"
      },
      "execution_count": 6,
      "outputs": [
        {
          "output_type": "stream",
          "name": "stdout",
          "text": [
            "Looking in indexes: https://pypi.org/simple, https://us-python.pkg.dev/colab-wheels/public/simple/\n",
            "Collecting torch==1.11.0\n",
            "  Downloading torch-1.11.0-cp37-cp37m-manylinux1_x86_64.whl (750.6 MB)\n",
            "\u001b[K     |████████████████████████████████| 750.6 MB 12 kB/s \n",
            "\u001b[?25hRequirement already satisfied: typing-extensions in /usr/local/lib/python3.7/dist-packages (from torch==1.11.0) (4.1.1)\n",
            "Installing collected packages: torch\n",
            "  Attempting uninstall: torch\n",
            "    Found existing installation: torch 1.12.0+cu113\n",
            "    Uninstalling torch-1.12.0+cu113:\n",
            "      Successfully uninstalled torch-1.12.0+cu113\n",
            "\u001b[31mERROR: pip's dependency resolver does not currently take into account all the packages that are installed. This behaviour is the source of the following dependency conflicts.\n",
            "torchvision 0.13.0+cu113 requires torch==1.12.0, but you have torch 1.11.0 which is incompatible.\n",
            "torchtext 0.13.0 requires torch==1.12.0, but you have torch 1.11.0 which is incompatible.\n",
            "torchaudio 0.12.0+cu113 requires torch==1.12.0, but you have torch 1.11.0 which is incompatible.\u001b[0m\n",
            "Successfully installed torch-1.11.0\n",
            "Looking in indexes: https://pypi.org/simple, https://us-python.pkg.dev/colab-wheels/public/simple/\n",
            "Requirement already satisfied: kaolin in /usr/local/lib/python3.7/dist-packages (0.11.0)\n",
            "Requirement already satisfied: tqdm>=4.51.0 in /usr/local/lib/python3.7/dist-packages (from kaolin) (4.64.0)\n",
            "Requirement already satisfied: flask==2.0.3 in /usr/local/lib/python3.7/dist-packages (from kaolin) (2.0.3)\n",
            "Requirement already satisfied: tornado==6.1 in /usr/local/lib/python3.7/dist-packages (from kaolin) (6.1)\n",
            "Requirement already satisfied: Pillow>=8.0.0 in /usr/local/lib/python3.7/dist-packages (from kaolin) (9.2.0)\n",
            "Requirement already satisfied: usd-core>=20.11 in /usr/local/lib/python3.7/dist-packages (from kaolin) (22.8)\n",
            "Requirement already satisfied: scipy<=1.5.2,>=1.2.0 in /usr/local/lib/python3.7/dist-packages (from kaolin) (1.5.2)\n",
            "Requirement already satisfied: click>=7.1.2 in /usr/local/lib/python3.7/dist-packages (from flask==2.0.3->kaolin) (7.1.2)\n",
            "Requirement already satisfied: itsdangerous>=2.0 in /usr/local/lib/python3.7/dist-packages (from flask==2.0.3->kaolin) (2.1.2)\n",
            "Requirement already satisfied: Werkzeug>=2.0 in /usr/local/lib/python3.7/dist-packages (from flask==2.0.3->kaolin) (2.2.0)\n",
            "Requirement already satisfied: Jinja2>=3.0 in /usr/local/lib/python3.7/dist-packages (from flask==2.0.3->kaolin) (3.1.2)\n",
            "Requirement already satisfied: MarkupSafe>=2.0 in /usr/local/lib/python3.7/dist-packages (from Jinja2>=3.0->flask==2.0.3->kaolin) (2.1.1)\n",
            "Requirement already satisfied: numpy>=1.14.5 in /usr/local/lib/python3.7/dist-packages (from scipy<=1.5.2,>=1.2.0->kaolin) (1.21.6)\n"
          ]
        }
      ]
    },
    {
      "cell_type": "markdown",
      "source": [
        "# 日常训练"
      ],
      "metadata": {
        "id": "DgA6hEpXBRBi"
      }
    },
    {
      "cell_type": "markdown",
      "source": [
        "查看GPU信息"
      ],
      "metadata": {
        "id": "DeeCv2NK3URX"
      }
    },
    {
      "cell_type": "code",
      "execution_count": 1,
      "metadata": {
        "colab": {
          "base_uri": "https://localhost:8080/"
        },
        "id": "yReaXYyR3HZW",
        "outputId": "0fe2f253-b1cc-420a-b979-8cb4fd31b672"
      },
      "outputs": [
        {
          "output_type": "stream",
          "name": "stdout",
          "text": [
            "Tue Jul 26 05:29:25 2022       \n",
            "+-----------------------------------------------------------------------------+\n",
            "| NVIDIA-SMI 460.32.03    Driver Version: 460.32.03    CUDA Version: 11.2     |\n",
            "|-------------------------------+----------------------+----------------------+\n",
            "| GPU  Name        Persistence-M| Bus-Id        Disp.A | Volatile Uncorr. ECC |\n",
            "| Fan  Temp  Perf  Pwr:Usage/Cap|         Memory-Usage | GPU-Util  Compute M. |\n",
            "|                               |                      |               MIG M. |\n",
            "|===============================+======================+======================|\n",
            "|   0  Tesla P100-PCIE...  Off  | 00000000:00:04.0 Off |                    0 |\n",
            "| N/A   41C    P0    26W / 250W |      0MiB / 16280MiB |      0%      Default |\n",
            "|                               |                      |                  N/A |\n",
            "+-------------------------------+----------------------+----------------------+\n",
            "                                                                               \n",
            "+-----------------------------------------------------------------------------+\n",
            "| Processes:                                                                  |\n",
            "|  GPU   GI   CI        PID   Type   Process name                  GPU Memory |\n",
            "|        ID   ID                                                   Usage      |\n",
            "|=============================================================================|\n",
            "|  No running processes found                                                 |\n",
            "+-----------------------------------------------------------------------------+\n"
          ]
        }
      ],
      "source": [
        "gpu_info = !nvidia-smi\n",
        "gpu_info = '\\n'.join(gpu_info)\n",
        "if gpu_info.find('failed') >= 0:\n",
        "  print('Not connected to a GPU')\n",
        "else:\n",
        "  print(gpu_info)"
      ]
    },
    {
      "cell_type": "markdown",
      "source": [
        "安装依赖库"
      ],
      "metadata": {
        "id": "ZbIFXD4o3wQs"
      }
    },
    {
      "cell_type": "code",
      "source": [
        "!pip install -r requirements.txt"
      ],
      "metadata": {
        "colab": {
          "base_uri": "https://localhost:8080/"
        },
        "id": "yaBy37e_3xaZ",
        "outputId": "2f9fb0a6-0636-4a11-a1b6-e6fed9ca7274"
      },
      "execution_count": 3,
      "outputs": [
        {
          "output_type": "stream",
          "name": "stdout",
          "text": [
            "Looking in indexes: https://pypi.org/simple, https://us-python.pkg.dev/colab-wheels/public/simple/\n",
            "Requirement already satisfied: pytorch-lightning==1.4.8 in /usr/local/lib/python3.7/dist-packages (from -r requirements.txt (line 1)) (1.4.8)\n",
            "Requirement already satisfied: torchmetrics==0.7.0 in /usr/local/lib/python3.7/dist-packages (from -r requirements.txt (line 2)) (0.7.0)\n",
            "Requirement already satisfied: einops==0.3.0 in /usr/local/lib/python3.7/dist-packages (from -r requirements.txt (line 3)) (0.3.0)\n",
            "Requirement already satisfied: test-tube==0.7.5 in /usr/local/lib/python3.7/dist-packages (from -r requirements.txt (line 4)) (0.7.5)\n",
            "Requirement already satisfied: kornia==0.4.1 in /usr/local/lib/python3.7/dist-packages (from -r requirements.txt (line 5)) (0.4.1)\n",
            "Requirement already satisfied: opencv-python==4.5.1.48 in /usr/local/lib/python3.7/dist-packages (from -r requirements.txt (line 6)) (4.5.1.48)\n",
            "Requirement already satisfied: matplotlib==3.3.3 in /usr/local/lib/python3.7/dist-packages (from -r requirements.txt (line 7)) (3.3.3)\n",
            "Requirement already satisfied: jupyter in /usr/local/lib/python3.7/dist-packages (from -r requirements.txt (line 8)) (1.0.0)\n",
            "Requirement already satisfied: imageio==2.9.0 in /usr/local/lib/python3.7/dist-packages (from -r requirements.txt (line 9)) (2.9.0)\n",
            "Requirement already satisfied: imageio-ffmpeg==0.4.2 in /usr/local/lib/python3.7/dist-packages (from -r requirements.txt (line 10)) (0.4.2)\n",
            "Requirement already satisfied: pandas==1.1.5 in /usr/local/lib/python3.7/dist-packages (from -r requirements.txt (line 11)) (1.1.5)\n",
            "Requirement already satisfied: torch_optimizer in /usr/local/lib/python3.7/dist-packages (from -r requirements.txt (line 12)) (0.3.0)\n",
            "Requirement already satisfied: lpips==0.1.3 in /usr/local/lib/python3.7/dist-packages (from -r requirements.txt (line 13)) (0.1.3)\n",
            "Requirement already satisfied: loguru in /usr/local/lib/python3.7/dist-packages (from -r requirements.txt (line 14)) (0.6.0)\n",
            "Requirement already satisfied: yacs in /usr/local/lib/python3.7/dist-packages (from -r requirements.txt (line 15)) (0.1.8)\n",
            "Requirement already satisfied: h5py in /usr/local/lib/python3.7/dist-packages (from -r requirements.txt (line 16)) (3.1.0)\n",
            "Requirement already satisfied: plotly==4.14.3 in /usr/local/lib/python3.7/dist-packages (from -r requirements.txt (line 19)) (4.14.3)\n",
            "Requirement already satisfied: PyMCubes==0.1.2 in /usr/local/lib/python3.7/dist-packages (from -r requirements.txt (line 22)) (0.1.2)\n",
            "Requirement already satisfied: pycollada==0.7.1 in /usr/local/lib/python3.7/dist-packages (from -r requirements.txt (line 23)) (0.7.1)\n",
            "Requirement already satisfied: trimesh==3.9.1 in /usr/local/lib/python3.7/dist-packages (from -r requirements.txt (line 24)) (3.9.1)\n",
            "Requirement already satisfied: pyglet==1.5.10 in /usr/local/lib/python3.7/dist-packages (from -r requirements.txt (line 25)) (1.5.10)\n",
            "Requirement already satisfied: networkx==2.5 in /usr/local/lib/python3.7/dist-packages (from -r requirements.txt (line 26)) (2.5)\n",
            "Requirement already satisfied: scikit-image in /usr/local/lib/python3.7/dist-packages (from -r requirements.txt (line 27)) (0.18.3)\n",
            "Requirement already satisfied: plyfile==0.7.2 in /usr/local/lib/python3.7/dist-packages (from -r requirements.txt (line 30)) (0.7.2)\n",
            "Requirement already satisfied: open3d==0.12.0 in /usr/local/lib/python3.7/dist-packages (from -r requirements.txt (line 31)) (0.12.0)\n",
            "Requirement already satisfied: mmcv-full in /usr/local/lib/python3.7/dist-packages (from -r requirements.txt (line 34)) (1.6.0)\n",
            "Requirement already satisfied: mmsegmentation in /usr/local/lib/python3.7/dist-packages (from -r requirements.txt (line 35)) (0.26.0)\n",
            "Requirement already satisfied: pyDeprecate==0.3.1 in /usr/local/lib/python3.7/dist-packages (from pytorch-lightning==1.4.8->-r requirements.txt (line 1)) (0.3.1)\n",
            "Requirement already satisfied: fsspec[http]!=2021.06.0,>=2021.05.0 in /usr/local/lib/python3.7/dist-packages (from pytorch-lightning==1.4.8->-r requirements.txt (line 1)) (2022.5.0)\n",
            "Requirement already satisfied: numpy>=1.17.2 in /usr/local/lib/python3.7/dist-packages (from pytorch-lightning==1.4.8->-r requirements.txt (line 1)) (1.21.6)\n",
            "Requirement already satisfied: future>=0.17.1 in /usr/local/lib/python3.7/dist-packages (from pytorch-lightning==1.4.8->-r requirements.txt (line 1)) (0.18.2)\n",
            "Requirement already satisfied: packaging>=17.0 in /usr/local/lib/python3.7/dist-packages (from pytorch-lightning==1.4.8->-r requirements.txt (line 1)) (21.3)\n",
            "Requirement already satisfied: typing-extensions in /usr/local/lib/python3.7/dist-packages (from pytorch-lightning==1.4.8->-r requirements.txt (line 1)) (4.1.1)\n",
            "Requirement already satisfied: tensorboard>=2.2.0 in /usr/local/lib/python3.7/dist-packages (from pytorch-lightning==1.4.8->-r requirements.txt (line 1)) (2.8.0)\n",
            "Requirement already satisfied: PyYAML>=5.1 in /usr/local/lib/python3.7/dist-packages (from pytorch-lightning==1.4.8->-r requirements.txt (line 1)) (6.0)\n",
            "Requirement already satisfied: torch>=1.6 in /usr/local/lib/python3.7/dist-packages (from pytorch-lightning==1.4.8->-r requirements.txt (line 1)) (1.12.0+cu113)\n",
            "Requirement already satisfied: tqdm>=4.41.0 in /usr/local/lib/python3.7/dist-packages (from pytorch-lightning==1.4.8->-r requirements.txt (line 1)) (4.64.0)\n",
            "Requirement already satisfied: python-dateutil>=2.1 in /usr/local/lib/python3.7/dist-packages (from matplotlib==3.3.3->-r requirements.txt (line 7)) (2.8.2)\n",
            "Requirement already satisfied: kiwisolver>=1.0.1 in /usr/local/lib/python3.7/dist-packages (from matplotlib==3.3.3->-r requirements.txt (line 7)) (1.4.4)\n",
            "Requirement already satisfied: cycler>=0.10 in /usr/local/lib/python3.7/dist-packages (from matplotlib==3.3.3->-r requirements.txt (line 7)) (0.11.0)\n",
            "Requirement already satisfied: pyparsing!=2.0.4,!=2.1.2,!=2.1.6,>=2.0.3 in /usr/local/lib/python3.7/dist-packages (from matplotlib==3.3.3->-r requirements.txt (line 7)) (3.0.9)\n",
            "Requirement already satisfied: pillow>=6.2.0 in /usr/local/lib/python3.7/dist-packages (from matplotlib==3.3.3->-r requirements.txt (line 7)) (7.1.2)\n",
            "Requirement already satisfied: pytz>=2017.2 in /usr/local/lib/python3.7/dist-packages (from pandas==1.1.5->-r requirements.txt (line 11)) (2022.1)\n",
            "Requirement already satisfied: retrying>=1.3.3 in /usr/local/lib/python3.7/dist-packages (from plotly==4.14.3->-r requirements.txt (line 19)) (1.3.3)\n",
            "Requirement already satisfied: six in /usr/local/lib/python3.7/dist-packages (from plotly==4.14.3->-r requirements.txt (line 19)) (1.15.0)\n",
            "Requirement already satisfied: setuptools in /usr/local/lib/python3.7/dist-packages (from trimesh==3.9.1->-r requirements.txt (line 24)) (57.4.0)\n",
            "Requirement already satisfied: decorator>=4.3.0 in /usr/local/lib/python3.7/dist-packages (from networkx==2.5->-r requirements.txt (line 26)) (4.4.2)\n",
            "Requirement already satisfied: sklearn in /usr/local/lib/python3.7/dist-packages (from open3d==0.12.0->-r requirements.txt (line 31)) (0.0)\n",
            "Requirement already satisfied: notebook in /usr/local/lib/python3.7/dist-packages (from open3d==0.12.0->-r requirements.txt (line 31)) (5.3.1)\n",
            "Requirement already satisfied: addict in /usr/local/lib/python3.7/dist-packages (from open3d==0.12.0->-r requirements.txt (line 31)) (2.4.0)\n",
            "Requirement already satisfied: widgetsnbextension in /usr/local/lib/python3.7/dist-packages (from open3d==0.12.0->-r requirements.txt (line 31)) (3.6.1)\n",
            "Requirement already satisfied: ipywidgets in /usr/local/lib/python3.7/dist-packages (from open3d==0.12.0->-r requirements.txt (line 31)) (7.7.1)\n",
            "Requirement already satisfied: requests in /usr/local/lib/python3.7/dist-packages (from fsspec[http]!=2021.06.0,>=2021.05.0->pytorch-lightning==1.4.8->-r requirements.txt (line 1)) (2.23.0)\n",
            "Requirement already satisfied: aiohttp in /usr/local/lib/python3.7/dist-packages (from fsspec[http]!=2021.06.0,>=2021.05.0->pytorch-lightning==1.4.8->-r requirements.txt (line 1)) (3.8.1)\n",
            "Requirement already satisfied: absl-py>=0.4 in /usr/local/lib/python3.7/dist-packages (from tensorboard>=2.2.0->pytorch-lightning==1.4.8->-r requirements.txt (line 1)) (1.2.0)\n",
            "Requirement already satisfied: werkzeug>=0.11.15 in /usr/local/lib/python3.7/dist-packages (from tensorboard>=2.2.0->pytorch-lightning==1.4.8->-r requirements.txt (line 1)) (1.0.1)\n",
            "Requirement already satisfied: google-auth-oauthlib<0.5,>=0.4.1 in /usr/local/lib/python3.7/dist-packages (from tensorboard>=2.2.0->pytorch-lightning==1.4.8->-r requirements.txt (line 1)) (0.4.6)\n",
            "Requirement already satisfied: protobuf>=3.6.0 in /usr/local/lib/python3.7/dist-packages (from tensorboard>=2.2.0->pytorch-lightning==1.4.8->-r requirements.txt (line 1)) (3.17.3)\n",
            "Requirement already satisfied: grpcio>=1.24.3 in /usr/local/lib/python3.7/dist-packages (from tensorboard>=2.2.0->pytorch-lightning==1.4.8->-r requirements.txt (line 1)) (1.47.0)\n",
            "Requirement already satisfied: tensorboard-plugin-wit>=1.6.0 in /usr/local/lib/python3.7/dist-packages (from tensorboard>=2.2.0->pytorch-lightning==1.4.8->-r requirements.txt (line 1)) (1.8.1)\n",
            "Requirement already satisfied: wheel>=0.26 in /usr/local/lib/python3.7/dist-packages (from tensorboard>=2.2.0->pytorch-lightning==1.4.8->-r requirements.txt (line 1)) (0.37.1)\n",
            "Requirement already satisfied: google-auth<3,>=1.6.3 in /usr/local/lib/python3.7/dist-packages (from tensorboard>=2.2.0->pytorch-lightning==1.4.8->-r requirements.txt (line 1)) (1.35.0)\n",
            "Requirement already satisfied: markdown>=2.6.8 in /usr/local/lib/python3.7/dist-packages (from tensorboard>=2.2.0->pytorch-lightning==1.4.8->-r requirements.txt (line 1)) (3.4.1)\n",
            "Requirement already satisfied: tensorboard-data-server<0.7.0,>=0.6.0 in /usr/local/lib/python3.7/dist-packages (from tensorboard>=2.2.0->pytorch-lightning==1.4.8->-r requirements.txt (line 1)) (0.6.1)\n",
            "Requirement already satisfied: pyasn1-modules>=0.2.1 in /usr/local/lib/python3.7/dist-packages (from google-auth<3,>=1.6.3->tensorboard>=2.2.0->pytorch-lightning==1.4.8->-r requirements.txt (line 1)) (0.2.8)\n",
            "Requirement already satisfied: rsa<5,>=3.1.4 in /usr/local/lib/python3.7/dist-packages (from google-auth<3,>=1.6.3->tensorboard>=2.2.0->pytorch-lightning==1.4.8->-r requirements.txt (line 1)) (4.9)\n",
            "Requirement already satisfied: cachetools<5.0,>=2.0.0 in /usr/local/lib/python3.7/dist-packages (from google-auth<3,>=1.6.3->tensorboard>=2.2.0->pytorch-lightning==1.4.8->-r requirements.txt (line 1)) (4.2.4)\n",
            "Requirement already satisfied: requests-oauthlib>=0.7.0 in /usr/local/lib/python3.7/dist-packages (from google-auth-oauthlib<0.5,>=0.4.1->tensorboard>=2.2.0->pytorch-lightning==1.4.8->-r requirements.txt (line 1)) (1.3.1)\n",
            "Requirement already satisfied: importlib-metadata>=4.4 in /usr/local/lib/python3.7/dist-packages (from markdown>=2.6.8->tensorboard>=2.2.0->pytorch-lightning==1.4.8->-r requirements.txt (line 1)) (4.12.0)\n",
            "Requirement already satisfied: zipp>=0.5 in /usr/local/lib/python3.7/dist-packages (from importlib-metadata>=4.4->markdown>=2.6.8->tensorboard>=2.2.0->pytorch-lightning==1.4.8->-r requirements.txt (line 1)) (3.8.1)\n",
            "Requirement already satisfied: pyasn1<0.5.0,>=0.4.6 in /usr/local/lib/python3.7/dist-packages (from pyasn1-modules>=0.2.1->google-auth<3,>=1.6.3->tensorboard>=2.2.0->pytorch-lightning==1.4.8->-r requirements.txt (line 1)) (0.4.8)\n",
            "Requirement already satisfied: idna<3,>=2.5 in /usr/local/lib/python3.7/dist-packages (from requests->fsspec[http]!=2021.06.0,>=2021.05.0->pytorch-lightning==1.4.8->-r requirements.txt (line 1)) (2.10)\n",
            "Requirement already satisfied: certifi>=2017.4.17 in /usr/local/lib/python3.7/dist-packages (from requests->fsspec[http]!=2021.06.0,>=2021.05.0->pytorch-lightning==1.4.8->-r requirements.txt (line 1)) (2022.6.15)\n",
            "Requirement already satisfied: chardet<4,>=3.0.2 in /usr/local/lib/python3.7/dist-packages (from requests->fsspec[http]!=2021.06.0,>=2021.05.0->pytorch-lightning==1.4.8->-r requirements.txt (line 1)) (3.0.4)\n",
            "Requirement already satisfied: urllib3!=1.25.0,!=1.25.1,<1.26,>=1.21.1 in /usr/local/lib/python3.7/dist-packages (from requests->fsspec[http]!=2021.06.0,>=2021.05.0->pytorch-lightning==1.4.8->-r requirements.txt (line 1)) (1.24.3)\n",
            "Requirement already satisfied: oauthlib>=3.0.0 in /usr/local/lib/python3.7/dist-packages (from requests-oauthlib>=0.7.0->google-auth-oauthlib<0.5,>=0.4.1->tensorboard>=2.2.0->pytorch-lightning==1.4.8->-r requirements.txt (line 1)) (3.2.0)\n",
            "Requirement already satisfied: jupyter-console in /usr/local/lib/python3.7/dist-packages (from jupyter->-r requirements.txt (line 8)) (5.2.0)\n",
            "Requirement already satisfied: qtconsole in /usr/local/lib/python3.7/dist-packages (from jupyter->-r requirements.txt (line 8)) (5.3.1)\n",
            "Requirement already satisfied: nbconvert in /usr/local/lib/python3.7/dist-packages (from jupyter->-r requirements.txt (line 8)) (5.6.1)\n",
            "Requirement already satisfied: ipykernel in /usr/local/lib/python3.7/dist-packages (from jupyter->-r requirements.txt (line 8)) (4.10.1)\n",
            "Requirement already satisfied: pytorch-ranger>=0.1.1 in /usr/local/lib/python3.7/dist-packages (from torch_optimizer->-r requirements.txt (line 12)) (0.1.1)\n",
            "Requirement already satisfied: cached-property in /usr/local/lib/python3.7/dist-packages (from h5py->-r requirements.txt (line 16)) (1.5.2)\n",
            "Requirement already satisfied: tifffile>=2019.7.26 in /usr/local/lib/python3.7/dist-packages (from scikit-image->-r requirements.txt (line 27)) (2021.11.2)\n",
            "Requirement already satisfied: scipy>=1.0.1 in /usr/local/lib/python3.7/dist-packages (from scikit-image->-r requirements.txt (line 27)) (1.7.3)\n",
            "Requirement already satisfied: PyWavelets>=1.1.1 in /usr/local/lib/python3.7/dist-packages (from scikit-image->-r requirements.txt (line 27)) (1.3.0)\n",
            "Requirement already satisfied: yapf in /usr/local/lib/python3.7/dist-packages (from mmcv-full->-r requirements.txt (line 34)) (0.32.0)\n",
            "Requirement already satisfied: mmcls>=0.20.1 in /usr/local/lib/python3.7/dist-packages (from mmsegmentation->-r requirements.txt (line 35)) (0.23.1)\n",
            "Requirement already satisfied: prettytable in /usr/local/lib/python3.7/dist-packages (from mmsegmentation->-r requirements.txt (line 35)) (3.3.0)\n",
            "Requirement already satisfied: yarl<2.0,>=1.0 in /usr/local/lib/python3.7/dist-packages (from aiohttp->fsspec[http]!=2021.06.0,>=2021.05.0->pytorch-lightning==1.4.8->-r requirements.txt (line 1)) (1.7.2)\n",
            "Requirement already satisfied: asynctest==0.13.0 in /usr/local/lib/python3.7/dist-packages (from aiohttp->fsspec[http]!=2021.06.0,>=2021.05.0->pytorch-lightning==1.4.8->-r requirements.txt (line 1)) (0.13.0)\n",
            "Requirement already satisfied: multidict<7.0,>=4.5 in /usr/local/lib/python3.7/dist-packages (from aiohttp->fsspec[http]!=2021.06.0,>=2021.05.0->pytorch-lightning==1.4.8->-r requirements.txt (line 1)) (6.0.2)\n",
            "Requirement already satisfied: charset-normalizer<3.0,>=2.0 in /usr/local/lib/python3.7/dist-packages (from aiohttp->fsspec[http]!=2021.06.0,>=2021.05.0->pytorch-lightning==1.4.8->-r requirements.txt (line 1)) (2.1.0)\n",
            "Requirement already satisfied: aiosignal>=1.1.2 in /usr/local/lib/python3.7/dist-packages (from aiohttp->fsspec[http]!=2021.06.0,>=2021.05.0->pytorch-lightning==1.4.8->-r requirements.txt (line 1)) (1.2.0)\n",
            "Requirement already satisfied: frozenlist>=1.1.1 in /usr/local/lib/python3.7/dist-packages (from aiohttp->fsspec[http]!=2021.06.0,>=2021.05.0->pytorch-lightning==1.4.8->-r requirements.txt (line 1)) (1.3.0)\n",
            "Requirement already satisfied: async-timeout<5.0,>=4.0.0a3 in /usr/local/lib/python3.7/dist-packages (from aiohttp->fsspec[http]!=2021.06.0,>=2021.05.0->pytorch-lightning==1.4.8->-r requirements.txt (line 1)) (4.0.2)\n",
            "Requirement already satisfied: attrs>=17.3.0 in /usr/local/lib/python3.7/dist-packages (from aiohttp->fsspec[http]!=2021.06.0,>=2021.05.0->pytorch-lightning==1.4.8->-r requirements.txt (line 1)) (21.4.0)\n",
            "Requirement already satisfied: tornado>=4.0 in /usr/local/lib/python3.7/dist-packages (from ipykernel->jupyter->-r requirements.txt (line 8)) (5.1.1)\n",
            "Requirement already satisfied: traitlets>=4.1.0 in /usr/local/lib/python3.7/dist-packages (from ipykernel->jupyter->-r requirements.txt (line 8)) (5.1.1)\n",
            "Requirement already satisfied: jupyter-client in /usr/local/lib/python3.7/dist-packages (from ipykernel->jupyter->-r requirements.txt (line 8)) (5.3.5)\n",
            "Requirement already satisfied: ipython>=4.0.0 in /usr/local/lib/python3.7/dist-packages (from ipykernel->jupyter->-r requirements.txt (line 8)) (5.5.0)\n",
            "Requirement already satisfied: simplegeneric>0.8 in /usr/local/lib/python3.7/dist-packages (from ipython>=4.0.0->ipykernel->jupyter->-r requirements.txt (line 8)) (0.8.1)\n",
            "Requirement already satisfied: pygments in /usr/local/lib/python3.7/dist-packages (from ipython>=4.0.0->ipykernel->jupyter->-r requirements.txt (line 8)) (2.6.1)\n",
            "Requirement already satisfied: pexpect in /usr/local/lib/python3.7/dist-packages (from ipython>=4.0.0->ipykernel->jupyter->-r requirements.txt (line 8)) (4.8.0)\n",
            "Requirement already satisfied: pickleshare in /usr/local/lib/python3.7/dist-packages (from ipython>=4.0.0->ipykernel->jupyter->-r requirements.txt (line 8)) (0.7.5)\n",
            "Requirement already satisfied: prompt-toolkit<2.0.0,>=1.0.4 in /usr/local/lib/python3.7/dist-packages (from ipython>=4.0.0->ipykernel->jupyter->-r requirements.txt (line 8)) (1.0.18)\n",
            "Requirement already satisfied: wcwidth in /usr/local/lib/python3.7/dist-packages (from prompt-toolkit<2.0.0,>=1.0.4->ipython>=4.0.0->ipykernel->jupyter->-r requirements.txt (line 8)) (0.2.5)\n",
            "Requirement already satisfied: jupyterlab-widgets>=1.0.0 in /usr/local/lib/python3.7/dist-packages (from ipywidgets->open3d==0.12.0->-r requirements.txt (line 31)) (1.1.1)\n",
            "Requirement already satisfied: ipython-genutils~=0.2.0 in /usr/local/lib/python3.7/dist-packages (from ipywidgets->open3d==0.12.0->-r requirements.txt (line 31)) (0.2.0)\n",
            "Requirement already satisfied: Send2Trash in /usr/local/lib/python3.7/dist-packages (from notebook->open3d==0.12.0->-r requirements.txt (line 31)) (1.8.0)\n",
            "Requirement already satisfied: terminado>=0.8.1 in /usr/local/lib/python3.7/dist-packages (from notebook->open3d==0.12.0->-r requirements.txt (line 31)) (0.13.3)\n",
            "Requirement already satisfied: jinja2 in /usr/local/lib/python3.7/dist-packages (from notebook->open3d==0.12.0->-r requirements.txt (line 31)) (2.11.3)\n",
            "Requirement already satisfied: jupyter-core>=4.4.0 in /usr/local/lib/python3.7/dist-packages (from notebook->open3d==0.12.0->-r requirements.txt (line 31)) (4.11.1)\n",
            "Requirement already satisfied: nbformat in /usr/local/lib/python3.7/dist-packages (from notebook->open3d==0.12.0->-r requirements.txt (line 31)) (5.4.0)\n",
            "Requirement already satisfied: pyzmq>=13 in /usr/local/lib/python3.7/dist-packages (from jupyter-client->ipykernel->jupyter->-r requirements.txt (line 8)) (23.2.0)\n",
            "Requirement already satisfied: ptyprocess in /usr/local/lib/python3.7/dist-packages (from terminado>=0.8.1->notebook->open3d==0.12.0->-r requirements.txt (line 31)) (0.7.0)\n",
            "Requirement already satisfied: MarkupSafe>=0.23 in /usr/local/lib/python3.7/dist-packages (from jinja2->notebook->open3d==0.12.0->-r requirements.txt (line 31)) (2.0.1)\n",
            "Requirement already satisfied: entrypoints>=0.2.2 in /usr/local/lib/python3.7/dist-packages (from nbconvert->jupyter->-r requirements.txt (line 8)) (0.4)\n",
            "Requirement already satisfied: testpath in /usr/local/lib/python3.7/dist-packages (from nbconvert->jupyter->-r requirements.txt (line 8)) (0.6.0)\n",
            "Requirement already satisfied: pandocfilters>=1.4.1 in /usr/local/lib/python3.7/dist-packages (from nbconvert->jupyter->-r requirements.txt (line 8)) (1.5.0)\n",
            "Requirement already satisfied: defusedxml in /usr/local/lib/python3.7/dist-packages (from nbconvert->jupyter->-r requirements.txt (line 8)) (0.7.1)\n",
            "Requirement already satisfied: mistune<2,>=0.8.1 in /usr/local/lib/python3.7/dist-packages (from nbconvert->jupyter->-r requirements.txt (line 8)) (0.8.4)\n",
            "Requirement already satisfied: bleach in /usr/local/lib/python3.7/dist-packages (from nbconvert->jupyter->-r requirements.txt (line 8)) (5.0.1)\n",
            "Requirement already satisfied: jsonschema>=2.6 in /usr/local/lib/python3.7/dist-packages (from nbformat->notebook->open3d==0.12.0->-r requirements.txt (line 31)) (4.3.3)\n",
            "Requirement already satisfied: fastjsonschema in /usr/local/lib/python3.7/dist-packages (from nbformat->notebook->open3d==0.12.0->-r requirements.txt (line 31)) (2.16.1)\n",
            "Requirement already satisfied: importlib-resources>=1.4.0 in /usr/local/lib/python3.7/dist-packages (from jsonschema>=2.6->nbformat->notebook->open3d==0.12.0->-r requirements.txt (line 31)) (5.8.0)\n",
            "Requirement already satisfied: pyrsistent!=0.17.0,!=0.17.1,!=0.17.2,>=0.14.0 in /usr/local/lib/python3.7/dist-packages (from jsonschema>=2.6->nbformat->notebook->open3d==0.12.0->-r requirements.txt (line 31)) (0.18.1)\n",
            "Requirement already satisfied: webencodings in /usr/local/lib/python3.7/dist-packages (from bleach->nbconvert->jupyter->-r requirements.txt (line 8)) (0.5.1)\n",
            "Requirement already satisfied: qtpy>=2.0.1 in /usr/local/lib/python3.7/dist-packages (from qtconsole->jupyter->-r requirements.txt (line 8)) (2.1.0)\n",
            "Requirement already satisfied: scikit-learn in /usr/local/lib/python3.7/dist-packages (from sklearn->open3d==0.12.0->-r requirements.txt (line 31)) (1.0.2)\n",
            "Requirement already satisfied: threadpoolctl>=2.0.0 in /usr/local/lib/python3.7/dist-packages (from scikit-learn->sklearn->open3d==0.12.0->-r requirements.txt (line 31)) (3.1.0)\n",
            "Requirement already satisfied: joblib>=0.11 in /usr/local/lib/python3.7/dist-packages (from scikit-learn->sklearn->open3d==0.12.0->-r requirements.txt (line 31)) (1.1.0)\n"
          ]
        }
      ]
    },
    {
      "cell_type": "code",
      "source": [
        ""
      ],
      "metadata": {
        "id": "nehfDzwN4QIT"
      },
      "execution_count": null,
      "outputs": []
    }
  ]
}